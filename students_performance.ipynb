{
  "nbformat": 4,
  "nbformat_minor": 0,
  "metadata": {
    "colab": {
      "name": "students_performance.ipynb",
      "provenance": [],
      "collapsed_sections": []
    },
    "kernelspec": {
      "name": "python3",
      "display_name": "Python 3"
    }
  },
  "cells": [
    {
      "cell_type": "markdown",
      "metadata": {
        "id": "lsz0jjYCN4QW",
        "colab_type": "text"
      },
      "source": [
        "Attributes Information and Dataset available for download at http://archive.ics.uci.edu/ml/datasets/Student+Performance#"
      ]
    },
    {
      "cell_type": "code",
      "metadata": {
        "id": "MRsVZHSqLJtj",
        "colab_type": "code",
        "colab": {}
      },
      "source": [
        "from google.colab import files\n",
        "\n",
        "import numpy as np\n",
        "import pandas as pd\n",
        "import matplotlib.pyplot as plt\n",
        "import seaborn as sns\n",
        "\n",
        "from scipy import stats\n",
        "\n",
        "from sklearn.compose import ColumnTransformer\n",
        "from sklearn.preprocessing import Normalizer, OneHotEncoder\n",
        "from sklearn.model_selection import RandomizedSearchCV, train_test_split\n",
        "from sklearn.naive_bayes import GaussianNB\n",
        "from sklearn.neighbors import KNeighborsClassifier\n",
        "from sklearn.ensemble import RandomForestClassifier, RandomForestRegressor\n",
        "from sklearn.linear_model import Lasso, LinearRegression\n",
        "from sklearn.metrics import mean_squared_error as MSE\n",
        "from sklearn.metrics import accuracy_score\n",
        "from xgboost import XGBClassifier, XGBRegressor"
      ],
      "execution_count": 0,
      "outputs": []
    },
    {
      "cell_type": "code",
      "metadata": {
        "id": "Z-N_VNxYLXtc",
        "colab_type": "code",
        "outputId": "a102643f-ae77-4288-ad4d-cda4d8900cff",
        "colab": {
          "resources": {
            "http://localhost:8080/nbextensions/google.colab/files.js": {
              "data": "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",
              "ok": true,
              "headers": [
                [
                  "content-type",
                  "application/javascript"
                ]
              ],
              "status": 200,
              "status_text": ""
            }
          },
          "base_uri": "https://localhost:8080/",
          "height": 108
        }
      },
      "source": [
        "files.upload()"
      ],
      "execution_count": 3,
      "outputs": [
        {
          "output_type": "display_data",
          "data": {
            "text/html": [
              "\n",
              "     <input type=\"file\" id=\"files-b1607e65-db53-4ecc-b95c-f458f65099f8\" name=\"files[]\" multiple disabled />\n",
              "     <output id=\"result-b1607e65-db53-4ecc-b95c-f458f65099f8\">\n",
              "      Upload widget is only available when the cell has been executed in the\n",
              "      current browser session. Please rerun this cell to enable.\n",
              "      </output>\n",
              "      <script src=\"/nbextensions/google.colab/files.js\"></script> "
            ],
            "text/plain": [
              "<IPython.core.display.HTML object>"
            ]
          },
          "metadata": {
            "tags": []
          }
        },
        {
          "output_type": "stream",
          "text": [
            "Saving student-mat.csv to student-mat.csv\n"
          ],
          "name": "stdout"
        },
        {
          "output_type": "execute_result",
          "data": {
            "text/plain": [
              "{'student-mat.csv': b'school;sex;age;address;famsize;Pstatus;Medu;Fedu;Mjob;Fjob;reason;guardian;traveltime;studytime;failures;schoolsup;famsup;paid;activities;nursery;higher;internet;romantic;famrel;freetime;goout;Dalc;Walc;health;absences;G1;G2;G3\\n\"GP\";\"F\";18;\"U\";\"GT3\";\"A\";4;4;\"at_home\";\"teacher\";\"course\";\"mother\";2;2;0;\"yes\";\"no\";\"no\";\"no\";\"yes\";\"yes\";\"no\";\"no\";4;3;4;1;1;3;6;\"5\";\"6\";6\\n\"GP\";\"F\";17;\"U\";\"GT3\";\"T\";1;1;\"at_home\";\"other\";\"course\";\"father\";1;2;0;\"no\";\"yes\";\"no\";\"no\";\"no\";\"yes\";\"yes\";\"no\";5;3;3;1;1;3;4;\"5\";\"5\";6\\n\"GP\";\"F\";15;\"U\";\"LE3\";\"T\";1;1;\"at_home\";\"other\";\"other\";\"mother\";1;2;3;\"yes\";\"no\";\"yes\";\"no\";\"yes\";\"yes\";\"yes\";\"no\";4;3;2;2;3;3;10;\"7\";\"8\";10\\n\"GP\";\"F\";15;\"U\";\"GT3\";\"T\";4;2;\"health\";\"services\";\"home\";\"mother\";1;3;0;\"no\";\"yes\";\"yes\";\"yes\";\"yes\";\"yes\";\"yes\";\"yes\";3;2;2;1;1;5;2;\"15\";\"14\";15\\n\"GP\";\"F\";16;\"U\";\"GT3\";\"T\";3;3;\"other\";\"other\";\"home\";\"father\";1;2;0;\"no\";\"yes\";\"yes\";\"no\";\"yes\";\"yes\";\"no\";\"no\";4;3;2;1;2;5;4;\"6\";\"10\";10\\n\"GP\";\"M\";16;\"U\";\"LE3\";\"T\";4;3;\"services\";\"other\";\"reputation\";\"mother\";1;2;0;\"no\";\"yes\";\"yes\";\"yes\";\"yes\";\"yes\";\"yes\";\"no\";5;4;2;1;2;5;10;\"15\";\"15\";15\\n\"GP\";\"M\";16;\"U\";\"LE3\";\"T\";2;2;\"other\";\"other\";\"home\";\"mother\";1;2;0;\"no\";\"no\";\"no\";\"no\";\"yes\";\"yes\";\"yes\";\"no\";4;4;4;1;1;3;0;\"12\";\"12\";11\\n\"GP\";\"F\";17;\"U\";\"GT3\";\"A\";4;4;\"other\";\"teacher\";\"home\";\"mother\";2;2;0;\"yes\";\"yes\";\"no\";\"no\";\"yes\";\"yes\";\"no\";\"no\";4;1;4;1;1;1;6;\"6\";\"5\";6\\n\"GP\";\"M\";15;\"U\";\"LE3\";\"A\";3;2;\"services\";\"other\";\"home\";\"mother\";1;2;0;\"no\";\"yes\";\"yes\";\"no\";\"yes\";\"yes\";\"yes\";\"no\";4;2;2;1;1;1;0;\"16\";\"18\";19\\n\"GP\";\"M\";15;\"U\";\"GT3\";\"T\";3;4;\"other\";\"other\";\"home\";\"mother\";1;2;0;\"no\";\"yes\";\"yes\";\"yes\";\"yes\";\"yes\";\"yes\";\"no\";5;5;1;1;1;5;0;\"14\";\"15\";15\\n\"GP\";\"F\";15;\"U\";\"GT3\";\"T\";4;4;\"teacher\";\"health\";\"reputation\";\"mother\";1;2;0;\"no\";\"yes\";\"yes\";\"no\";\"yes\";\"yes\";\"yes\";\"no\";3;3;3;1;2;2;0;\"10\";\"8\";9\\n\"GP\";\"F\";15;\"U\";\"GT3\";\"T\";2;1;\"services\";\"other\";\"reputation\";\"father\";3;3;0;\"no\";\"yes\";\"no\";\"yes\";\"yes\";\"yes\";\"yes\";\"no\";5;2;2;1;1;4;4;\"10\";\"12\";12\\n\"GP\";\"M\";15;\"U\";\"LE3\";\"T\";4;4;\"health\";\"services\";\"course\";\"father\";1;1;0;\"no\";\"yes\";\"yes\";\"yes\";\"yes\";\"yes\";\"yes\";\"no\";4;3;3;1;3;5;2;\"14\";\"14\";14\\n\"GP\";\"M\";15;\"U\";\"GT3\";\"T\";4;3;\"teacher\";\"other\";\"course\";\"mother\";2;2;0;\"no\";\"yes\";\"yes\";\"no\";\"yes\";\"yes\";\"yes\";\"no\";5;4;3;1;2;3;2;\"10\";\"10\";11\\n\"GP\";\"M\";15;\"U\";\"GT3\";\"A\";2;2;\"other\";\"other\";\"home\";\"other\";1;3;0;\"no\";\"yes\";\"no\";\"no\";\"yes\";\"yes\";\"yes\";\"yes\";4;5;2;1;1;3;0;\"14\";\"16\";16\\n\"GP\";\"F\";16;\"U\";\"GT3\";\"T\";4;4;\"health\";\"other\";\"home\";\"mother\";1;1;0;\"no\";\"yes\";\"no\";\"no\";\"yes\";\"yes\";\"yes\";\"no\";4;4;4;1;2;2;4;\"14\";\"14\";14\\n\"GP\";\"F\";16;\"U\";\"GT3\";\"T\";4;4;\"services\";\"services\";\"reputation\";\"mother\";1;3;0;\"no\";\"yes\";\"yes\";\"yes\";\"yes\";\"yes\";\"yes\";\"no\";3;2;3;1;2;2;6;\"13\";\"14\";14\\n\"GP\";\"F\";16;\"U\";\"GT3\";\"T\";3;3;\"other\";\"other\";\"reputation\";\"mother\";3;2;0;\"yes\";\"yes\";\"no\";\"yes\";\"yes\";\"yes\";\"no\";\"no\";5;3;2;1;1;4;4;\"8\";\"10\";10\\n\"GP\";\"M\";17;\"U\";\"GT3\";\"T\";3;2;\"services\";\"services\";\"course\";\"mother\";1;1;3;\"no\";\"yes\";\"no\";\"yes\";\"yes\";\"yes\";\"yes\";\"no\";5;5;5;2;4;5;16;\"6\";\"5\";5\\n\"GP\";\"M\";16;\"U\";\"LE3\";\"T\";4;3;\"health\";\"other\";\"home\";\"father\";1;1;0;\"no\";\"no\";\"yes\";\"yes\";\"yes\";\"yes\";\"yes\";\"no\";3;1;3;1;3;5;4;\"8\";\"10\";10\\n\"GP\";\"M\";15;\"U\";\"GT3\";\"T\";4;3;\"teacher\";\"other\";\"reputation\";\"mother\";1;2;0;\"no\";\"no\";\"no\";\"no\";\"yes\";\"yes\";\"yes\";\"no\";4;4;1;1;1;1;0;\"13\";\"14\";15\\n\"GP\";\"M\";15;\"U\";\"GT3\";\"T\";4;4;\"health\";\"health\";\"other\";\"father\";1;1;0;\"no\";\"yes\";\"yes\";\"no\";\"yes\";\"yes\";\"yes\";\"no\";5;4;2;1;1;5;0;\"12\";\"15\";15\\n\"GP\";\"M\";16;\"U\";\"LE3\";\"T\";4;2;\"teacher\";\"other\";\"course\";\"mother\";1;2;0;\"no\";\"no\";\"no\";\"yes\";\"yes\";\"yes\";\"yes\";\"no\";4;5;1;1;3;5;2;\"15\";\"15\";16\\n\"GP\";\"M\";16;\"U\";\"LE3\";\"T\";2;2;\"other\";\"other\";\"reputation\";\"mother\";2;2;0;\"no\";\"yes\";\"no\";\"yes\";\"yes\";\"yes\";\"yes\";\"no\";5;4;4;2;4;5;0;\"13\";\"13\";12\\n\"GP\";\"F\";15;\"R\";\"GT3\";\"T\";2;4;\"services\";\"health\";\"course\";\"mother\";1;3;0;\"yes\";\"yes\";\"yes\";\"yes\";\"yes\";\"yes\";\"yes\";\"no\";4;3;2;1;1;5;2;\"10\";\"9\";8\\n\"GP\";\"F\";16;\"U\";\"GT3\";\"T\";2;2;\"services\";\"services\";\"home\";\"mother\";1;1;2;\"no\";\"yes\";\"yes\";\"no\";\"no\";\"yes\";\"yes\";\"no\";1;2;2;1;3;5;14;\"6\";\"9\";8\\n\"GP\";\"M\";15;\"U\";\"GT3\";\"T\";2;2;\"other\";\"other\";\"home\";\"mother\";1;1;0;\"no\";\"yes\";\"yes\";\"no\";\"yes\";\"yes\";\"yes\";\"no\";4;2;2;1;2;5;2;\"12\";\"12\";11\\n\"GP\";\"M\";15;\"U\";\"GT3\";\"T\";4;2;\"health\";\"services\";\"other\";\"mother\";1;1;0;\"no\";\"no\";\"yes\";\"no\";\"yes\";\"yes\";\"yes\";\"no\";2;2;4;2;4;1;4;\"15\";\"16\";15\\n\"GP\";\"M\";16;\"U\";\"LE3\";\"A\";3;4;\"services\";\"other\";\"home\";\"mother\";1;2;0;\"yes\";\"yes\";\"no\";\"yes\";\"yes\";\"yes\";\"yes\";\"no\";5;3;3;1;1;5;4;\"11\";\"11\";11\\n\"GP\";\"M\";16;\"U\";\"GT3\";\"T\";4;4;\"teacher\";\"teacher\";\"home\";\"mother\";1;2;0;\"no\";\"yes\";\"yes\";\"yes\";\"yes\";\"yes\";\"yes\";\"yes\";4;4;5;5;5;5;16;\"10\";\"12\";11\\n\"GP\";\"M\";15;\"U\";\"GT3\";\"T\";4;4;\"health\";\"services\";\"home\";\"mother\";1;2;0;\"no\";\"yes\";\"yes\";\"no\";\"no\";\"yes\";\"yes\";\"no\";5;4;2;3;4;5;0;\"9\";\"11\";12\\n\"GP\";\"M\";15;\"U\";\"GT3\";\"T\";4;4;\"services\";\"services\";\"reputation\";\"mother\";2;2;0;\"no\";\"yes\";\"no\";\"yes\";\"yes\";\"yes\";\"yes\";\"no\";4;3;1;1;1;5;0;\"17\";\"16\";17\\n\"GP\";\"M\";15;\"R\";\"GT3\";\"T\";4;3;\"teacher\";\"at_home\";\"course\";\"mother\";1;2;0;\"no\";\"yes\";\"no\";\"yes\";\"yes\";\"yes\";\"yes\";\"yes\";4;5;2;1;1;5;0;\"17\";\"16\";16\\n\"GP\";\"M\";15;\"U\";\"LE3\";\"T\";3;3;\"other\";\"other\";\"course\";\"mother\";1;2;0;\"no\";\"no\";\"no\";\"yes\";\"no\";\"yes\";\"yes\";\"no\";5;3;2;1;1;2;0;\"8\";\"10\";12\\n\"GP\";\"M\";16;\"U\";\"GT3\";\"T\";3;2;\"other\";\"other\";\"home\";\"mother\";1;1;0;\"no\";\"yes\";\"yes\";\"no\";\"no\";\"yes\";\"yes\";\"no\";5;4;3;1;1;5;0;\"12\";\"14\";15\\n\"GP\";\"F\";15;\"U\";\"GT3\";\"T\";2;3;\"other\";\"other\";\"other\";\"father\";2;1;0;\"no\";\"yes\";\"no\";\"yes\";\"yes\";\"yes\";\"no\";\"no\";3;5;1;1;1;5;0;\"8\";\"7\";6\\n\"GP\";\"M\";15;\"U\";\"LE3\";\"T\";4;3;\"teacher\";\"services\";\"home\";\"mother\";1;3;0;\"no\";\"yes\";\"no\";\"yes\";\"yes\";\"yes\";\"yes\";\"no\";5;4;3;1;1;4;2;\"15\";\"16\";18\\n\"GP\";\"M\";16;\"R\";\"GT3\";\"A\";4;4;\"other\";\"teacher\";\"reputation\";\"mother\";2;3;0;\"no\";\"yes\";\"no\";\"yes\";\"yes\";\"yes\";\"yes\";\"yes\";2;4;3;1;1;5;7;\"15\";\"16\";15\\n\"GP\";\"F\";15;\"R\";\"GT3\";\"T\";3;4;\"services\";\"health\";\"course\";\"mother\";1;3;0;\"yes\";\"yes\";\"yes\";\"yes\";\"yes\";\"yes\";\"yes\";\"no\";4;3;2;1;1;5;2;\"12\";\"12\";11\\n\"GP\";\"F\";15;\"R\";\"GT3\";\"T\";2;2;\"at_home\";\"other\";\"reputation\";\"mother\";1;1;0;\"yes\";\"yes\";\"yes\";\"yes\";\"yes\";\"yes\";\"no\";\"no\";4;3;1;1;1;2;8;\"14\";\"13\";13\\n\"GP\";\"F\";16;\"U\";\"LE3\";\"T\";2;2;\"other\";\"other\";\"home\";\"mother\";2;2;1;\"no\";\"yes\";\"no\";\"yes\";\"no\";\"yes\";\"yes\";\"yes\";3;3;3;1;2;3;25;\"7\";\"10\";11\\n\"GP\";\"M\";15;\"U\";\"LE3\";\"T\";4;4;\"teacher\";\"other\";\"home\";\"other\";1;1;0;\"no\";\"yes\";\"no\";\"no\";\"no\";\"yes\";\"yes\";\"yes\";5;4;3;2;4;5;8;\"12\";\"12\";12\\n\"GP\";\"M\";15;\"U\";\"GT3\";\"T\";4;4;\"services\";\"teacher\";\"course\";\"father\";1;2;0;\"no\";\"yes\";\"no\";\"yes\";\"yes\";\"yes\";\"yes\";\"no\";4;3;3;1;1;5;2;\"19\";\"18\";18\\n\"GP\";\"M\";15;\"U\";\"GT3\";\"T\";2;2;\"services\";\"services\";\"course\";\"father\";1;1;0;\"yes\";\"yes\";\"no\";\"no\";\"yes\";\"yes\";\"yes\";\"no\";5;4;1;1;1;1;0;\"8\";\"8\";11\\n\"GP\";\"F\";16;\"U\";\"LE3\";\"T\";2;2;\"other\";\"at_home\";\"course\";\"father\";2;2;1;\"yes\";\"no\";\"no\";\"yes\";\"yes\";\"yes\";\"yes\";\"no\";4;3;3;2;2;5;14;\"10\";\"10\";9\\n\"GP\";\"F\";15;\"U\";\"LE3\";\"A\";4;3;\"other\";\"other\";\"course\";\"mother\";1;2;0;\"yes\";\"yes\";\"yes\";\"yes\";\"yes\";\"yes\";\"yes\";\"yes\";5;2;2;1;1;5;8;\"8\";\"8\";6\\n\"GP\";\"F\";16;\"U\";\"LE3\";\"A\";3;3;\"other\";\"services\";\"home\";\"mother\";1;2;0;\"no\";\"yes\";\"no\";\"no\";\"yes\";\"yes\";\"yes\";\"no\";2;3;5;1;4;3;12;\"11\";\"12\";11\\n\"GP\";\"M\";16;\"U\";\"GT3\";\"T\";4;3;\"health\";\"services\";\"reputation\";\"mother\";1;4;0;\"no\";\"no\";\"no\";\"yes\";\"yes\";\"yes\";\"yes\";\"no\";4;2;2;1;1;2;4;\"19\";\"19\";20\\n\"GP\";\"M\";15;\"U\";\"GT3\";\"T\";4;2;\"teacher\";\"other\";\"home\";\"mother\";1;2;0;\"no\";\"yes\";\"yes\";\"no\";\"yes\";\"yes\";\"no\";\"no\";4;3;3;2;2;5;2;\"15\";\"15\";14\\n\"GP\";\"F\";15;\"U\";\"GT3\";\"T\";4;4;\"services\";\"teacher\";\"other\";\"father\";1;2;1;\"yes\";\"yes\";\"no\";\"yes\";\"no\";\"yes\";\"yes\";\"no\";4;4;4;1;1;3;2;\"7\";\"7\";7\\n\"GP\";\"F\";16;\"U\";\"LE3\";\"T\";2;2;\"services\";\"services\";\"course\";\"mother\";3;2;0;\"no\";\"yes\";\"yes\";\"no\";\"yes\";\"yes\";\"yes\";\"no\";4;3;3;2;3;4;2;\"12\";\"13\";13\\n\"GP\";\"F\";15;\"U\";\"LE3\";\"T\";4;2;\"health\";\"other\";\"other\";\"mother\";1;2;0;\"no\";\"yes\";\"yes\";\"no\";\"yes\";\"yes\";\"yes\";\"no\";4;3;3;1;1;5;2;\"11\";\"13\";13\\n\"GP\";\"M\";15;\"U\";\"LE3\";\"A\";4;2;\"health\";\"health\";\"other\";\"father\";2;1;1;\"no\";\"no\";\"no\";\"no\";\"yes\";\"yes\";\"no\";\"no\";5;5;5;3;4;5;6;\"11\";\"11\";10\\n\"GP\";\"F\";15;\"U\";\"GT3\";\"T\";4;4;\"services\";\"services\";\"course\";\"mother\";1;1;0;\"yes\";\"yes\";\"yes\";\"no\";\"yes\";\"yes\";\"yes\";\"no\";3;3;4;2;3;5;0;\"8\";\"10\";11\\n\"GP\";\"F\";15;\"U\";\"LE3\";\"A\";3;3;\"other\";\"other\";\"other\";\"mother\";1;1;0;\"no\";\"no\";\"yes\";\"no\";\"yes\";\"yes\";\"yes\";\"no\";5;3;4;4;4;1;6;\"10\";\"13\";13\\n\"GP\";\"F\";16;\"U\";\"GT3\";\"A\";2;1;\"other\";\"other\";\"other\";\"mother\";1;2;0;\"no\";\"no\";\"yes\";\"yes\";\"yes\";\"yes\";\"yes\";\"yes\";5;3;4;1;1;2;8;\"8\";\"9\";10\\n\"GP\";\"F\";15;\"U\";\"GT3\";\"A\";4;3;\"services\";\"services\";\"reputation\";\"mother\";1;2;0;\"no\";\"yes\";\"yes\";\"yes\";\"yes\";\"yes\";\"yes\";\"no\";4;3;2;1;1;1;0;\"14\";\"15\";15\\n\"GP\";\"M\";15;\"U\";\"GT3\";\"T\";4;4;\"teacher\";\"health\";\"reputation\";\"mother\";1;2;0;\"no\";\"yes\";\"no\";\"yes\";\"yes\";\"yes\";\"no\";\"no\";3;2;2;1;1;5;4;\"14\";\"15\";15\\n\"GP\";\"M\";15;\"U\";\"LE3\";\"T\";1;2;\"other\";\"at_home\";\"home\";\"father\";1;2;0;\"yes\";\"yes\";\"no\";\"yes\";\"yes\";\"yes\";\"yes\";\"no\";4;3;2;1;1;5;2;\"9\";\"10\";9\\n\"GP\";\"F\";16;\"U\";\"GT3\";\"T\";4;2;\"services\";\"other\";\"course\";\"mother\";1;2;0;\"no\";\"yes\";\"no\";\"no\";\"yes\";\"yes\";\"yes\";\"no\";4;2;3;1;1;5;2;\"15\";\"16\";16\\n\"GP\";\"F\";16;\"R\";\"GT3\";\"T\";4;4;\"health\";\"teacher\";\"other\";\"mother\";1;2;0;\"no\";\"yes\";\"no\";\"yes\";\"yes\";\"yes\";\"no\";\"no\";2;4;4;2;3;4;6;\"10\";\"11\";11\\n\"GP\";\"F\";16;\"U\";\"GT3\";\"T\";1;1;\"services\";\"services\";\"course\";\"father\";4;1;0;\"yes\";\"yes\";\"no\";\"yes\";\"no\";\"yes\";\"yes\";\"yes\";5;5;5;5;5;5;6;\"10\";\"8\";11\\n\"GP\";\"F\";16;\"U\";\"LE3\";\"T\";1;2;\"other\";\"services\";\"reputation\";\"father\";1;2;0;\"yes\";\"no\";\"no\";\"yes\";\"yes\";\"yes\";\"yes\";\"no\";4;4;3;1;1;1;4;\"8\";\"10\";9\\n\"GP\";\"F\";16;\"U\";\"GT3\";\"T\";4;3;\"teacher\";\"health\";\"home\";\"mother\";1;3;0;\"yes\";\"yes\";\"yes\";\"yes\";\"yes\";\"yes\";\"yes\";\"no\";3;4;4;2;4;4;2;\"10\";\"9\";9\\n\"GP\";\"F\";15;\"U\";\"LE3\";\"T\";4;3;\"services\";\"services\";\"reputation\";\"father\";1;2;0;\"yes\";\"no\";\"no\";\"yes\";\"yes\";\"yes\";\"yes\";\"yes\";4;4;4;2;4;2;0;\"10\";\"10\";10\\n\"GP\";\"F\";16;\"U\";\"LE3\";\"T\";4;3;\"teacher\";\"services\";\"course\";\"mother\";3;2;0;\"no\";\"yes\";\"no\";\"yes\";\"yes\";\"yes\";\"yes\";\"no\";5;4;3;1;2;1;2;\"16\";\"15\";15\\n\"GP\";\"M\";15;\"U\";\"GT3\";\"A\";4;4;\"other\";\"services\";\"reputation\";\"mother\";1;4;0;\"no\";\"yes\";\"no\";\"yes\";\"no\";\"yes\";\"yes\";\"yes\";1;3;3;5;5;3;4;\"13\";\"13\";12\\n\"GP\";\"F\";16;\"U\";\"GT3\";\"T\";3;1;\"services\";\"other\";\"course\";\"mother\";1;4;0;\"yes\";\"yes\";\"yes\";\"no\";\"yes\";\"yes\";\"yes\";\"no\";4;3;3;1;2;5;4;\"7\";\"7\";6\\n\"GP\";\"F\";15;\"R\";\"LE3\";\"T\";2;2;\"health\";\"services\";\"reputation\";\"mother\";2;2;0;\"yes\";\"yes\";\"yes\";\"no\";\"yes\";\"yes\";\"yes\";\"no\";4;1;3;1;3;4;2;\"8\";\"9\";8\\n\"GP\";\"F\";15;\"R\";\"LE3\";\"T\";3;1;\"other\";\"other\";\"reputation\";\"father\";2;4;0;\"no\";\"yes\";\"no\";\"no\";\"no\";\"yes\";\"yes\";\"no\";4;4;2;2;3;3;12;\"16\";\"16\";16\\n\"GP\";\"M\";16;\"U\";\"GT3\";\"T\";3;1;\"other\";\"other\";\"reputation\";\"father\";2;4;0;\"no\";\"yes\";\"yes\";\"no\";\"yes\";\"yes\";\"yes\";\"no\";4;3;2;1;1;5;0;\"13\";\"15\";15\\n\"GP\";\"M\";15;\"U\";\"GT3\";\"T\";4;2;\"other\";\"other\";\"course\";\"mother\";1;4;0;\"no\";\"no\";\"no\";\"no\";\"yes\";\"yes\";\"yes\";\"no\";3;3;3;1;1;3;0;\"10\";\"10\";10\\n\"GP\";\"F\";15;\"R\";\"GT3\";\"T\";1;1;\"other\";\"other\";\"reputation\";\"mother\";1;2;2;\"yes\";\"yes\";\"no\";\"no\";\"no\";\"yes\";\"yes\";\"yes\";3;3;4;2;4;5;2;\"8\";\"6\";5\\n\"GP\";\"M\";16;\"U\";\"GT3\";\"T\";3;1;\"other\";\"other\";\"reputation\";\"mother\";1;1;0;\"no\";\"no\";\"no\";\"yes\";\"yes\";\"yes\";\"no\";\"no\";5;3;2;2;2;5;2;\"12\";\"12\";14\\n\"GP\";\"F\";16;\"U\";\"GT3\";\"T\";3;3;\"other\";\"services\";\"home\";\"mother\";1;2;0;\"yes\";\"yes\";\"yes\";\"yes\";\"yes\";\"yes\";\"yes\";\"no\";4;3;3;2;4;5;54;\"11\";\"12\";11\\n\"GP\";\"M\";15;\"U\";\"GT3\";\"T\";4;3;\"teacher\";\"other\";\"home\";\"mother\";1;2;0;\"no\";\"yes\";\"yes\";\"yes\";\"yes\";\"yes\";\"yes\";\"no\";4;3;3;2;3;5;6;\"9\";\"9\";10\\n\"GP\";\"M\";15;\"U\";\"GT3\";\"T\";4;0;\"teacher\";\"other\";\"course\";\"mother\";2;4;0;\"no\";\"no\";\"no\";\"yes\";\"yes\";\"yes\";\"yes\";\"no\";3;4;3;1;1;1;8;\"11\";\"11\";10\\n\"GP\";\"F\";16;\"U\";\"GT3\";\"T\";2;2;\"other\";\"other\";\"reputation\";\"mother\";1;4;0;\"no\";\"no\";\"yes\";\"no\";\"yes\";\"yes\";\"yes\";\"yes\";5;2;3;1;3;3;0;\"11\";\"11\";11\\n\"GP\";\"M\";17;\"U\";\"GT3\";\"T\";2;1;\"other\";\"other\";\"home\";\"mother\";2;1;3;\"yes\";\"yes\";\"no\";\"yes\";\"yes\";\"no\";\"yes\";\"no\";4;5;1;1;1;3;2;\"8\";\"8\";10\\n\"GP\";\"F\";16;\"U\";\"GT3\";\"T\";3;4;\"at_home\";\"other\";\"course\";\"mother\";1;2;0;\"no\";\"yes\";\"no\";\"no\";\"yes\";\"yes\";\"yes\";\"no\";2;4;3;1;2;3;12;\"5\";\"5\";5\\n\"GP\";\"M\";15;\"U\";\"GT3\";\"T\";2;3;\"other\";\"services\";\"course\";\"father\";1;1;0;\"yes\";\"yes\";\"yes\";\"yes\";\"no\";\"yes\";\"yes\";\"yes\";3;2;2;1;3;3;2;\"10\";\"12\";12\\n\"GP\";\"M\";15;\"U\";\"GT3\";\"T\";2;3;\"other\";\"other\";\"home\";\"mother\";1;3;0;\"yes\";\"no\";\"yes\";\"no\";\"no\";\"yes\";\"yes\";\"no\";5;3;2;1;2;5;4;\"11\";\"10\";11\\n\"GP\";\"F\";15;\"U\";\"LE3\";\"T\";3;2;\"services\";\"other\";\"reputation\";\"mother\";1;2;0;\"no\";\"yes\";\"yes\";\"no\";\"yes\";\"yes\";\"yes\";\"no\";4;4;4;1;1;5;10;\"7\";\"6\";6\\n\"GP\";\"M\";15;\"U\";\"LE3\";\"T\";2;2;\"services\";\"services\";\"home\";\"mother\";2;2;0;\"no\";\"no\";\"yes\";\"yes\";\"yes\";\"yes\";\"yes\";\"no\";5;3;3;1;3;4;4;\"15\";\"15\";15\\n\"GP\";\"F\";15;\"U\";\"GT3\";\"T\";1;1;\"other\";\"other\";\"home\";\"father\";1;2;0;\"no\";\"yes\";\"no\";\"yes\";\"no\";\"yes\";\"yes\";\"no\";4;3;2;2;3;4;2;\"9\";\"10\";10\\n\"GP\";\"F\";15;\"U\";\"GT3\";\"T\";4;4;\"services\";\"services\";\"reputation\";\"father\";2;2;2;\"no\";\"no\";\"yes\";\"no\";\"yes\";\"yes\";\"yes\";\"yes\";4;4;4;2;3;5;6;\"7\";\"9\";8\\n\"GP\";\"F\";16;\"U\";\"LE3\";\"T\";2;2;\"at_home\";\"other\";\"course\";\"mother\";1;2;0;\"no\";\"yes\";\"no\";\"no\";\"yes\";\"yes\";\"no\";\"no\";4;3;4;1;2;2;4;\"8\";\"7\";6\\n\"GP\";\"F\";15;\"U\";\"GT3\";\"T\";4;2;\"other\";\"other\";\"reputation\";\"mother\";1;3;0;\"no\";\"yes\";\"no\";\"yes\";\"yes\";\"yes\";\"yes\";\"no\";5;3;3;1;3;1;4;\"13\";\"14\";14\\n\"GP\";\"M\";16;\"U\";\"GT3\";\"T\";2;2;\"services\";\"other\";\"reputation\";\"father\";2;2;1;\"no\";\"no\";\"yes\";\"yes\";\"no\";\"yes\";\"yes\";\"no\";4;4;2;1;1;3;12;\"11\";\"10\";10\\n\"GP\";\"M\";16;\"U\";\"LE3\";\"A\";4;4;\"teacher\";\"health\";\"reputation\";\"mother\";1;2;0;\"no\";\"yes\";\"no\";\"no\";\"yes\";\"yes\";\"no\";\"no\";4;1;3;3;5;5;18;\"8\";\"6\";7\\n\"GP\";\"F\";16;\"U\";\"GT3\";\"T\";3;3;\"other\";\"other\";\"home\";\"mother\";1;3;0;\"no\";\"yes\";\"yes\";\"no\";\"yes\";\"yes\";\"yes\";\"yes\";4;3;3;1;3;4;0;\"7\";\"7\";8\\n\"GP\";\"F\";15;\"U\";\"GT3\";\"T\";4;3;\"services\";\"other\";\"reputation\";\"mother\";1;1;0;\"no\";\"no\";\"yes\";\"yes\";\"yes\";\"yes\";\"yes\";\"no\";4;5;5;1;3;1;4;\"16\";\"17\";18\\n\"GP\";\"F\";16;\"U\";\"LE3\";\"T\";3;1;\"other\";\"other\";\"home\";\"father\";1;2;0;\"yes\";\"yes\";\"no\";\"no\";\"yes\";\"yes\";\"no\";\"no\";3;3;3;2;3;2;4;\"7\";\"6\";6\\n\"GP\";\"F\";16;\"U\";\"GT3\";\"T\";4;2;\"teacher\";\"services\";\"home\";\"mother\";2;2;0;\"no\";\"yes\";\"yes\";\"yes\";\"yes\";\"yes\";\"yes\";\"no\";5;3;3;1;1;1;0;\"11\";\"10\";10\\n\"GP\";\"M\";15;\"U\";\"LE3\";\"T\";2;2;\"services\";\"health\";\"reputation\";\"mother\";1;4;0;\"no\";\"yes\";\"no\";\"yes\";\"yes\";\"yes\";\"yes\";\"no\";4;3;4;1;1;4;6;\"11\";\"13\";14\\n\"GP\";\"F\";15;\"R\";\"GT3\";\"T\";1;1;\"at_home\";\"other\";\"home\";\"mother\";2;4;1;\"yes\";\"yes\";\"yes\";\"yes\";\"yes\";\"yes\";\"yes\";\"no\";3;1;2;1;1;1;2;\"7\";\"10\";10\\n\"GP\";\"M\";16;\"R\";\"GT3\";\"T\";4;3;\"services\";\"other\";\"reputation\";\"mother\";2;1;0;\"yes\";\"yes\";\"no\";\"yes\";\"no\";\"yes\";\"yes\";\"no\";3;3;3;1;1;4;2;\"11\";\"15\";15\\n\"GP\";\"F\";16;\"U\";\"GT3\";\"T\";2;1;\"other\";\"other\";\"course\";\"mother\";1;2;0;\"no\";\"yes\";\"yes\";\"no\";\"yes\";\"yes\";\"no\";\"yes\";4;3;5;1;1;5;2;\"8\";\"9\";10\\n\"GP\";\"F\";16;\"U\";\"GT3\";\"T\";4;4;\"other\";\"other\";\"reputation\";\"mother\";1;1;0;\"no\";\"no\";\"no\";\"yes\";\"no\";\"yes\";\"yes\";\"no\";5;3;4;1;2;1;6;\"11\";\"14\";14\\n\"GP\";\"F\";16;\"U\";\"GT3\";\"T\";4;3;\"other\";\"at_home\";\"course\";\"mother\";1;3;0;\"yes\";\"yes\";\"yes\";\"no\";\"yes\";\"yes\";\"yes\";\"no\";5;3;5;1;1;3;0;\"7\";\"9\";8\\n\"GP\";\"M\";16;\"U\";\"GT3\";\"T\";4;4;\"services\";\"services\";\"other\";\"mother\";1;1;0;\"yes\";\"yes\";\"yes\";\"yes\";\"yes\";\"yes\";\"yes\";\"no\";4;5;5;5;5;4;14;\"7\";\"7\";5\\n\"GP\";\"M\";16;\"U\";\"GT3\";\"T\";4;4;\"services\";\"teacher\";\"other\";\"father\";1;3;0;\"no\";\"yes\";\"no\";\"yes\";\"yes\";\"yes\";\"yes\";\"yes\";4;4;3;1;1;4;0;\"16\";\"17\";17\\n\"GP\";\"M\";15;\"U\";\"GT3\";\"T\";4;4;\"services\";\"other\";\"course\";\"mother\";1;1;0;\"no\";\"yes\";\"no\";\"yes\";\"no\";\"yes\";\"yes\";\"no\";5;3;3;1;1;5;4;\"10\";\"13\";14\\n\"GP\";\"F\";15;\"U\";\"GT3\";\"T\";3;2;\"services\";\"other\";\"home\";\"mother\";2;2;0;\"yes\";\"yes\";\"yes\";\"no\";\"yes\";\"yes\";\"yes\";\"no\";4;3;5;1;1;2;26;\"7\";\"6\";6\\n\"GP\";\"M\";15;\"U\";\"GT3\";\"A\";3;4;\"services\";\"other\";\"course\";\"mother\";1;2;0;\"no\";\"yes\";\"yes\";\"yes\";\"yes\";\"yes\";\"yes\";\"no\";5;4;4;1;1;1;0;\"16\";\"18\";18\\n\"GP\";\"F\";15;\"U\";\"GT3\";\"A\";3;3;\"other\";\"health\";\"reputation\";\"father\";1;4;0;\"yes\";\"no\";\"no\";\"no\";\"yes\";\"yes\";\"no\";\"no\";4;3;3;1;1;4;10;\"10\";\"11\";11\\n\"GP\";\"F\";15;\"U\";\"GT3\";\"T\";2;2;\"other\";\"other\";\"course\";\"mother\";1;4;0;\"yes\";\"yes\";\"yes\";\"no\";\"yes\";\"yes\";\"yes\";\"no\";5;1;2;1;1;3;8;\"7\";\"8\";8\\n\"GP\";\"M\";16;\"U\";\"GT3\";\"T\";3;3;\"services\";\"other\";\"home\";\"father\";1;3;0;\"no\";\"yes\";\"no\";\"yes\";\"yes\";\"yes\";\"yes\";\"no\";5;3;3;1;1;5;2;\"16\";\"18\";18\\n\"GP\";\"M\";15;\"R\";\"GT3\";\"T\";4;4;\"other\";\"other\";\"home\";\"father\";4;4;0;\"no\";\"yes\";\"yes\";\"yes\";\"yes\";\"yes\";\"yes\";\"yes\";1;3;5;3;5;1;6;\"10\";\"13\";13\\n\"GP\";\"F\";16;\"U\";\"LE3\";\"T\";4;4;\"health\";\"health\";\"other\";\"mother\";1;3;0;\"no\";\"yes\";\"yes\";\"yes\";\"yes\";\"yes\";\"yes\";\"yes\";5;4;5;1;1;4;4;\"14\";\"15\";16\\n\"GP\";\"M\";15;\"U\";\"LE3\";\"A\";4;4;\"teacher\";\"teacher\";\"course\";\"mother\";1;1;0;\"no\";\"no\";\"no\";\"yes\";\"yes\";\"yes\";\"yes\";\"no\";5;5;3;1;1;4;6;\"18\";\"19\";19\\n\"GP\";\"F\";16;\"R\";\"GT3\";\"T\";3;3;\"services\";\"other\";\"reputation\";\"father\";1;3;1;\"yes\";\"yes\";\"no\";\"yes\";\"yes\";\"yes\";\"yes\";\"no\";4;1;2;1;1;2;0;\"7\";\"10\";10\\n\"GP\";\"F\";16;\"U\";\"GT3\";\"T\";2;2;\"at_home\";\"other\";\"home\";\"mother\";1;2;1;\"yes\";\"no\";\"no\";\"yes\";\"yes\";\"yes\";\"yes\";\"no\";3;1;2;1;1;5;6;\"10\";\"13\";13\\n\"GP\";\"M\";15;\"U\";\"LE3\";\"T\";4;2;\"teacher\";\"other\";\"course\";\"mother\";1;1;0;\"no\";\"no\";\"no\";\"no\";\"yes\";\"yes\";\"yes\";\"no\";3;5;2;1;1;3;10;\"18\";\"19\";19\\n\"GP\";\"M\";15;\"R\";\"GT3\";\"T\";2;1;\"health\";\"services\";\"reputation\";\"mother\";1;2;0;\"no\";\"no\";\"no\";\"yes\";\"yes\";\"yes\";\"yes\";\"yes\";5;4;2;1;1;5;8;\"9\";\"9\";9\\n\"GP\";\"M\";16;\"U\";\"GT3\";\"T\";4;4;\"teacher\";\"teacher\";\"course\";\"father\";1;2;0;\"no\";\"yes\";\"no\";\"yes\";\"yes\";\"yes\";\"yes\";\"no\";5;4;4;1;2;5;2;\"15\";\"15\";16\\n\"GP\";\"M\";15;\"U\";\"GT3\";\"T\";4;4;\"other\";\"teacher\";\"reputation\";\"father\";2;2;0;\"no\";\"yes\";\"no\";\"yes\";\"yes\";\"yes\";\"no\";\"no\";4;4;3;1;1;2;2;\"11\";\"13\";14\\n\"GP\";\"M\";16;\"U\";\"GT3\";\"T\";3;3;\"other\";\"services\";\"home\";\"father\";2;1;0;\"no\";\"no\";\"no\";\"yes\";\"yes\";\"yes\";\"yes\";\"no\";5;4;2;1;1;5;0;\"13\";\"14\";13\\n\"GP\";\"M\";17;\"R\";\"GT3\";\"T\";1;3;\"other\";\"other\";\"course\";\"father\";3;2;1;\"no\";\"yes\";\"no\";\"yes\";\"yes\";\"yes\";\"yes\";\"no\";5;2;4;1;4;5;20;\"9\";\"7\";8\\n\"GP\";\"M\";15;\"U\";\"GT3\";\"T\";3;4;\"other\";\"other\";\"reputation\";\"father\";1;1;0;\"no\";\"no\";\"no\";\"no\";\"yes\";\"yes\";\"yes\";\"no\";3;4;3;1;2;4;6;\"14\";\"13\";13\\n\"GP\";\"F\";15;\"U\";\"GT3\";\"T\";1;2;\"at_home\";\"services\";\"course\";\"mother\";1;2;0;\"no\";\"no\";\"no\";\"no\";\"no\";\"yes\";\"yes\";\"no\";3;2;3;1;2;1;2;\"16\";\"15\";15\\n\"GP\";\"M\";15;\"U\";\"GT3\";\"T\";2;2;\"services\";\"services\";\"home\";\"father\";1;4;0;\"no\";\"yes\";\"yes\";\"yes\";\"yes\";\"yes\";\"yes\";\"no\";5;5;4;1;2;5;6;\"16\";\"14\";15\\n\"GP\";\"F\";16;\"U\";\"LE3\";\"T\";2;4;\"other\";\"health\";\"course\";\"father\";2;2;0;\"no\";\"yes\";\"yes\";\"yes\";\"yes\";\"yes\";\"yes\";\"yes\";4;2;2;1;2;5;2;\"13\";\"13\";13\\n\"GP\";\"M\";16;\"U\";\"GT3\";\"T\";4;4;\"health\";\"other\";\"course\";\"mother\";1;1;0;\"no\";\"yes\";\"no\";\"yes\";\"yes\";\"yes\";\"yes\";\"no\";3;4;4;1;4;5;18;\"14\";\"11\";13\\n\"GP\";\"F\";16;\"U\";\"GT3\";\"T\";2;2;\"other\";\"other\";\"home\";\"mother\";1;2;0;\"no\";\"no\";\"yes\";\"no\";\"yes\";\"yes\";\"yes\";\"yes\";5;4;4;1;1;5;0;\"8\";\"7\";8\\n\"GP\";\"M\";15;\"U\";\"GT3\";\"T\";3;4;\"services\";\"services\";\"home\";\"father\";1;1;0;\"yes\";\"no\";\"no\";\"no\";\"yes\";\"yes\";\"yes\";\"no\";5;5;5;3;2;5;0;\"13\";\"13\";12\\n\"GP\";\"F\";15;\"U\";\"LE3\";\"A\";3;4;\"other\";\"other\";\"home\";\"mother\";1;2;0;\"yes\";\"no\";\"no\";\"yes\";\"yes\";\"yes\";\"yes\";\"yes\";5;3;2;1;1;1;0;\"7\";\"10\";11\\n\"GP\";\"F\";19;\"U\";\"GT3\";\"T\";0;1;\"at_home\";\"other\";\"course\";\"other\";1;2;3;\"no\";\"yes\";\"no\";\"no\";\"no\";\"no\";\"no\";\"no\";3;4;2;1;1;5;2;\"7\";\"8\";9\\n\"GP\";\"M\";18;\"R\";\"GT3\";\"T\";2;2;\"services\";\"other\";\"reputation\";\"mother\";1;1;2;\"no\";\"yes\";\"no\";\"yes\";\"yes\";\"yes\";\"yes\";\"no\";3;3;3;1;2;4;0;\"7\";\"4\";0\\n\"GP\";\"M\";16;\"R\";\"GT3\";\"T\";4;4;\"teacher\";\"teacher\";\"course\";\"mother\";1;1;0;\"no\";\"no\";\"yes\";\"yes\";\"yes\";\"yes\";\"yes\";\"no\";3;5;5;2;5;4;8;\"18\";\"18\";18\\n\"GP\";\"F\";15;\"R\";\"GT3\";\"T\";3;4;\"services\";\"teacher\";\"course\";\"father\";2;3;2;\"no\";\"yes\";\"no\";\"no\";\"yes\";\"yes\";\"yes\";\"yes\";4;2;2;2;2;5;0;\"12\";\"0\";0\\n\"GP\";\"F\";15;\"U\";\"GT3\";\"T\";1;1;\"at_home\";\"other\";\"course\";\"mother\";3;1;0;\"no\";\"yes\";\"no\";\"yes\";\"no\";\"yes\";\"yes\";\"yes\";4;3;3;1;2;4;0;\"8\";\"0\";0\\n\"GP\";\"F\";17;\"U\";\"LE3\";\"T\";2;2;\"other\";\"other\";\"course\";\"father\";1;1;0;\"no\";\"yes\";\"no\";\"no\";\"yes\";\"yes\";\"yes\";\"yes\";3;4;4;1;3;5;12;\"10\";\"13\";12\\n\"GP\";\"F\";16;\"U\";\"GT3\";\"A\";3;4;\"services\";\"other\";\"course\";\"father\";1;1;0;\"no\";\"no\";\"no\";\"no\";\"yes\";\"yes\";\"yes\";\"no\";3;2;1;1;4;5;16;\"12\";\"11\";11\\n\"GP\";\"M\";15;\"R\";\"GT3\";\"T\";3;4;\"at_home\";\"teacher\";\"course\";\"mother\";4;2;0;\"no\";\"yes\";\"no\";\"no\";\"yes\";\"yes\";\"no\";\"yes\";5;3;3;1;1;5;0;\"9\";\"0\";0\\n\"GP\";\"F\";15;\"U\";\"GT3\";\"T\";4;4;\"services\";\"at_home\";\"course\";\"mother\";1;3;0;\"no\";\"yes\";\"no\";\"yes\";\"yes\";\"yes\";\"yes\";\"yes\";4;3;3;1;1;5;0;\"11\";\"0\";0\\n\"GP\";\"M\";17;\"R\";\"GT3\";\"T\";3;4;\"at_home\";\"other\";\"course\";\"mother\";3;2;0;\"no\";\"no\";\"no\";\"no\";\"yes\";\"yes\";\"no\";\"no\";5;4;5;2;4;5;0;\"10\";\"0\";0\\n\"GP\";\"F\";16;\"U\";\"GT3\";\"A\";3;3;\"other\";\"other\";\"course\";\"other\";2;1;2;\"no\";\"yes\";\"no\";\"yes\";\"no\";\"yes\";\"yes\";\"yes\";4;3;2;1;1;5;0;\"4\";\"0\";0\\n\"GP\";\"M\";16;\"U\";\"LE3\";\"T\";1;1;\"services\";\"other\";\"course\";\"mother\";1;2;1;\"no\";\"no\";\"no\";\"no\";\"yes\";\"yes\";\"no\";\"yes\";4;4;4;1;3;5;0;\"14\";\"12\";12\\n\"GP\";\"F\";15;\"U\";\"GT3\";\"T\";4;4;\"teacher\";\"teacher\";\"course\";\"mother\";2;1;0;\"no\";\"no\";\"no\";\"yes\";\"yes\";\"yes\";\"yes\";\"no\";4;3;2;1;1;5;0;\"16\";\"16\";15\\n\"GP\";\"M\";15;\"U\";\"GT3\";\"T\";4;3;\"teacher\";\"services\";\"course\";\"father\";2;4;0;\"yes\";\"yes\";\"no\";\"no\";\"yes\";\"yes\";\"yes\";\"no\";2;2;2;1;1;3;0;\"7\";\"9\";0\\n\"GP\";\"M\";16;\"U\";\"LE3\";\"T\";2;2;\"services\";\"services\";\"reputation\";\"father\";2;1;2;\"no\";\"yes\";\"no\";\"yes\";\"yes\";\"yes\";\"yes\";\"no\";2;3;3;2;2;2;8;\"9\";\"9\";9\\n\"GP\";\"F\";15;\"U\";\"GT3\";\"T\";4;4;\"teacher\";\"services\";\"course\";\"mother\";1;3;0;\"no\";\"yes\";\"yes\";\"yes\";\"yes\";\"yes\";\"yes\";\"no\";4;2;2;1;1;5;2;\"9\";\"11\";11\\n\"GP\";\"F\";16;\"U\";\"LE3\";\"T\";1;1;\"at_home\";\"at_home\";\"course\";\"mother\";1;1;0;\"no\";\"no\";\"no\";\"no\";\"yes\";\"yes\";\"yes\";\"no\";3;4;4;3;3;1;2;\"14\";\"14\";13\\n\"GP\";\"M\";17;\"U\";\"GT3\";\"T\";2;1;\"other\";\"other\";\"home\";\"mother\";1;1;3;\"no\";\"yes\";\"no\";\"no\";\"yes\";\"yes\";\"yes\";\"no\";5;4;5;1;2;5;0;\"5\";\"0\";0\\n\"GP\";\"F\";15;\"U\";\"GT3\";\"T\";1;1;\"other\";\"services\";\"course\";\"father\";1;2;0;\"no\";\"yes\";\"yes\";\"no\";\"yes\";\"yes\";\"yes\";\"no\";4;4;2;1;2;5;0;\"8\";\"11\";11\\n\"GP\";\"F\";15;\"U\";\"GT3\";\"T\";3;2;\"health\";\"services\";\"home\";\"father\";1;2;3;\"no\";\"yes\";\"no\";\"no\";\"yes\";\"yes\";\"yes\";\"no\";3;3;2;1;1;3;0;\"6\";\"7\";0\\n\"GP\";\"F\";15;\"U\";\"GT3\";\"T\";1;2;\"at_home\";\"other\";\"course\";\"mother\";1;2;0;\"no\";\"yes\";\"yes\";\"no\";\"no\";\"yes\";\"yes\";\"no\";4;3;2;1;1;5;2;\"10\";\"11\";11\\n\"GP\";\"M\";16;\"U\";\"GT3\";\"T\";4;4;\"teacher\";\"teacher\";\"course\";\"mother\";1;1;0;\"no\";\"yes\";\"no\";\"no\";\"yes\";\"no\";\"yes\";\"yes\";3;3;2;2;1;5;0;\"7\";\"6\";0\\n\"GP\";\"M\";15;\"U\";\"LE3\";\"A\";2;1;\"services\";\"other\";\"course\";\"mother\";4;1;3;\"no\";\"no\";\"no\";\"no\";\"yes\";\"yes\";\"yes\";\"no\";4;5;5;2;5;5;0;\"8\";\"9\";10\\n\"GP\";\"M\";18;\"U\";\"LE3\";\"T\";1;1;\"other\";\"other\";\"course\";\"mother\";1;1;3;\"no\";\"no\";\"no\";\"no\";\"yes\";\"no\";\"yes\";\"yes\";2;3;5;2;5;4;0;\"6\";\"5\";0\\n\"GP\";\"M\";16;\"U\";\"LE3\";\"T\";2;1;\"at_home\";\"other\";\"course\";\"mother\";1;1;1;\"no\";\"no\";\"no\";\"yes\";\"yes\";\"yes\";\"no\";\"yes\";4;4;4;3;5;5;6;\"12\";\"13\";14\\n\"GP\";\"F\";15;\"R\";\"GT3\";\"T\";3;3;\"services\";\"services\";\"reputation\";\"other\";2;3;2;\"no\";\"yes\";\"yes\";\"yes\";\"yes\";\"yes\";\"yes\";\"yes\";4;2;1;2;3;3;8;\"10\";\"10\";10\\n\"GP\";\"M\";19;\"U\";\"GT3\";\"T\";3;2;\"services\";\"at_home\";\"home\";\"mother\";1;1;3;\"no\";\"yes\";\"no\";\"no\";\"yes\";\"no\";\"yes\";\"yes\";4;5;4;1;1;4;0;\"5\";\"0\";0\\n\"GP\";\"F\";17;\"U\";\"GT3\";\"T\";4;4;\"other\";\"teacher\";\"course\";\"mother\";1;1;0;\"yes\";\"yes\";\"no\";\"no\";\"yes\";\"yes\";\"no\";\"yes\";4;2;1;1;1;4;0;\"11\";\"11\";12\\n\"GP\";\"M\";15;\"R\";\"GT3\";\"T\";2;3;\"at_home\";\"services\";\"course\";\"mother\";1;2;0;\"yes\";\"no\";\"yes\";\"yes\";\"yes\";\"yes\";\"no\";\"no\";4;4;4;1;1;1;2;\"11\";\"8\";8\\n\"GP\";\"M\";17;\"R\";\"LE3\";\"T\";1;2;\"other\";\"other\";\"reputation\";\"mother\";1;1;0;\"no\";\"no\";\"no\";\"no\";\"yes\";\"yes\";\"no\";\"no\";2;2;2;3;3;5;8;\"16\";\"12\";13\\n\"GP\";\"F\";18;\"R\";\"GT3\";\"T\";1;1;\"at_home\";\"other\";\"course\";\"mother\";3;1;3;\"no\";\"yes\";\"no\";\"yes\";\"no\";\"yes\";\"no\";\"no\";5;2;5;1;5;4;6;\"9\";\"8\";10\\n\"GP\";\"M\";16;\"R\";\"GT3\";\"T\";2;2;\"at_home\";\"other\";\"course\";\"mother\";3;1;0;\"no\";\"no\";\"no\";\"no\";\"no\";\"yes\";\"no\";\"no\";4;2;2;1;2;3;2;\"17\";\"15\";15\\n\"GP\";\"M\";16;\"U\";\"GT3\";\"T\";3;3;\"other\";\"services\";\"course\";\"father\";1;2;1;\"no\";\"yes\";\"yes\";\"no\";\"yes\";\"yes\";\"yes\";\"yes\";4;5;5;4;4;5;4;\"10\";\"12\";12\\n\"GP\";\"M\";17;\"R\";\"LE3\";\"T\";2;1;\"at_home\";\"other\";\"course\";\"mother\";2;1;2;\"no\";\"no\";\"no\";\"yes\";\"yes\";\"no\";\"yes\";\"yes\";3;3;2;2;2;5;0;\"7\";\"6\";0\\n\"GP\";\"M\";15;\"R\";\"GT3\";\"T\";3;2;\"other\";\"other\";\"course\";\"mother\";2;2;2;\"yes\";\"yes\";\"no\";\"no\";\"yes\";\"yes\";\"yes\";\"yes\";4;4;4;1;4;3;6;\"5\";\"9\";7\\n\"GP\";\"M\";16;\"U\";\"LE3\";\"T\";1;2;\"other\";\"other\";\"course\";\"mother\";2;1;1;\"no\";\"no\";\"no\";\"yes\";\"yes\";\"yes\";\"no\";\"no\";4;4;4;2;4;5;0;\"7\";\"0\";0\\n\"GP\";\"M\";17;\"U\";\"GT3\";\"T\";1;3;\"at_home\";\"services\";\"course\";\"father\";1;1;0;\"no\";\"no\";\"no\";\"no\";\"yes\";\"no\";\"yes\";\"no\";5;3;3;1;4;2;2;\"10\";\"10\";10\\n\"GP\";\"M\";17;\"R\";\"LE3\";\"T\";1;1;\"other\";\"services\";\"course\";\"mother\";4;2;3;\"no\";\"no\";\"no\";\"yes\";\"yes\";\"no\";\"no\";\"yes\";5;3;5;1;5;5;0;\"5\";\"8\";7\\n\"GP\";\"M\";16;\"U\";\"GT3\";\"T\";3;2;\"services\";\"services\";\"course\";\"mother\";2;1;1;\"no\";\"yes\";\"no\";\"yes\";\"no\";\"no\";\"no\";\"no\";4;5;2;1;1;2;16;\"12\";\"11\";12\\n\"GP\";\"M\";16;\"U\";\"GT3\";\"T\";2;2;\"other\";\"other\";\"course\";\"father\";1;2;0;\"no\";\"no\";\"no\";\"no\";\"yes\";\"no\";\"yes\";\"no\";4;3;5;2;4;4;4;\"10\";\"10\";10\\n\"GP\";\"F\";16;\"U\";\"GT3\";\"T\";4;2;\"health\";\"services\";\"home\";\"father\";1;2;0;\"no\";\"no\";\"yes\";\"no\";\"yes\";\"yes\";\"yes\";\"yes\";4;2;3;1;1;3;0;\"14\";\"15\";16\\n\"GP\";\"F\";16;\"U\";\"GT3\";\"T\";2;2;\"other\";\"other\";\"home\";\"mother\";1;2;0;\"no\";\"yes\";\"yes\";\"no\";\"no\";\"yes\";\"yes\";\"no\";5;1;5;1;1;4;0;\"6\";\"7\";0\\n\"GP\";\"F\";16;\"U\";\"GT3\";\"T\";4;4;\"health\";\"health\";\"reputation\";\"mother\";1;2;0;\"no\";\"yes\";\"yes\";\"no\";\"yes\";\"yes\";\"yes\";\"yes\";4;4;2;1;1;3;0;\"14\";\"14\";14\\n\"GP\";\"M\";16;\"U\";\"GT3\";\"T\";3;4;\"other\";\"other\";\"course\";\"father\";3;1;2;\"no\";\"yes\";\"no\";\"yes\";\"no\";\"yes\";\"yes\";\"no\";3;4;5;2;4;2;0;\"6\";\"5\";0\\n\"GP\";\"M\";16;\"U\";\"GT3\";\"T\";1;0;\"other\";\"other\";\"reputation\";\"mother\";2;2;0;\"no\";\"yes\";\"yes\";\"yes\";\"yes\";\"yes\";\"yes\";\"yes\";4;3;2;1;1;3;2;\"13\";\"15\";16\\n\"GP\";\"M\";17;\"U\";\"LE3\";\"T\";4;4;\"teacher\";\"other\";\"reputation\";\"mother\";1;2;0;\"no\";\"yes\";\"yes\";\"yes\";\"yes\";\"yes\";\"yes\";\"no\";4;4;4;1;3;5;0;\"13\";\"11\";10\\n\"GP\";\"F\";16;\"U\";\"GT3\";\"T\";1;3;\"at_home\";\"services\";\"home\";\"mother\";1;2;3;\"no\";\"no\";\"no\";\"yes\";\"no\";\"yes\";\"yes\";\"yes\";4;3;5;1;1;3;0;\"8\";\"7\";0\\n\"GP\";\"F\";16;\"U\";\"LE3\";\"T\";3;3;\"other\";\"other\";\"reputation\";\"mother\";2;2;0;\"no\";\"yes\";\"yes\";\"yes\";\"yes\";\"yes\";\"yes\";\"no\";4;4;5;1;1;4;4;\"10\";\"11\";9\\n\"GP\";\"M\";17;\"U\";\"LE3\";\"T\";4;3;\"teacher\";\"other\";\"course\";\"mother\";2;2;0;\"no\";\"no\";\"yes\";\"yes\";\"yes\";\"yes\";\"yes\";\"no\";4;4;4;4;4;4;4;\"10\";\"9\";9\\n\"GP\";\"F\";16;\"U\";\"GT3\";\"T\";2;2;\"services\";\"other\";\"reputation\";\"mother\";2;2;0;\"no\";\"no\";\"yes\";\"yes\";\"no\";\"yes\";\"yes\";\"no\";3;4;4;1;4;5;2;\"13\";\"13\";11\\n\"GP\";\"M\";17;\"U\";\"GT3\";\"T\";3;3;\"other\";\"other\";\"reputation\";\"father\";1;2;0;\"no\";\"no\";\"no\";\"yes\";\"no\";\"yes\";\"yes\";\"no\";4;3;4;1;4;4;4;\"6\";\"5\";6\\n\"GP\";\"M\";16;\"R\";\"GT3\";\"T\";4;2;\"teacher\";\"services\";\"other\";\"mother\";1;1;0;\"no\";\"yes\";\"no\";\"yes\";\"yes\";\"yes\";\"yes\";\"yes\";4;3;3;3;4;3;10;\"10\";\"8\";9\\n\"GP\";\"M\";17;\"U\";\"GT3\";\"T\";4;3;\"other\";\"other\";\"course\";\"mother\";1;2;0;\"no\";\"yes\";\"no\";\"yes\";\"yes\";\"yes\";\"yes\";\"yes\";5;2;3;1;1;2;4;\"10\";\"10\";11\\n\"GP\";\"M\";16;\"U\";\"GT3\";\"T\";4;3;\"teacher\";\"other\";\"home\";\"mother\";1;2;0;\"no\";\"yes\";\"yes\";\"yes\";\"yes\";\"yes\";\"yes\";\"no\";3;4;3;2;3;3;10;\"9\";\"8\";8\\n\"GP\";\"M\";16;\"U\";\"GT3\";\"T\";3;3;\"services\";\"other\";\"home\";\"mother\";1;2;0;\"no\";\"no\";\"yes\";\"yes\";\"yes\";\"yes\";\"yes\";\"yes\";4;2;3;1;2;3;2;\"12\";\"13\";12\\n\"GP\";\"F\";17;\"U\";\"GT3\";\"T\";2;4;\"services\";\"services\";\"reputation\";\"father\";1;2;0;\"no\";\"yes\";\"no\";\"yes\";\"yes\";\"yes\";\"no\";\"no\";5;4;2;2;3;5;0;\"16\";\"17\";17\\n\"GP\";\"F\";17;\"U\";\"LE3\";\"T\";3;3;\"other\";\"other\";\"reputation\";\"mother\";1;2;0;\"no\";\"yes\";\"no\";\"yes\";\"yes\";\"yes\";\"yes\";\"yes\";5;3;3;2;3;1;56;\"9\";\"9\";8\\n\"GP\";\"F\";16;\"U\";\"GT3\";\"T\";3;2;\"other\";\"other\";\"reputation\";\"mother\";1;2;0;\"no\";\"yes\";\"yes\";\"no\";\"yes\";\"yes\";\"yes\";\"no\";1;2;2;1;2;1;14;\"12\";\"13\";12\\n\"GP\";\"M\";17;\"U\";\"GT3\";\"T\";3;3;\"services\";\"services\";\"other\";\"mother\";1;2;0;\"no\";\"yes\";\"no\";\"yes\";\"yes\";\"yes\";\"yes\";\"yes\";4;3;4;2;3;4;12;\"12\";\"12\";11\\n\"GP\";\"M\";16;\"U\";\"GT3\";\"T\";1;2;\"services\";\"services\";\"other\";\"mother\";1;1;0;\"no\";\"yes\";\"yes\";\"yes\";\"yes\";\"yes\";\"yes\";\"yes\";3;3;3;1;2;3;2;\"11\";\"12\";11\\n\"GP\";\"M\";16;\"U\";\"LE3\";\"T\";2;1;\"other\";\"other\";\"course\";\"mother\";1;2;0;\"no\";\"no\";\"yes\";\"yes\";\"yes\";\"yes\";\"yes\";\"yes\";4;2;3;1;2;5;0;\"15\";\"15\";15\\n\"GP\";\"F\";17;\"U\";\"GT3\";\"A\";3;3;\"health\";\"other\";\"reputation\";\"mother\";1;2;0;\"no\";\"yes\";\"no\";\"no\";\"no\";\"yes\";\"yes\";\"yes\";3;3;3;1;3;3;6;\"8\";\"7\";9\\n\"GP\";\"M\";17;\"R\";\"GT3\";\"T\";1;2;\"at_home\";\"other\";\"home\";\"mother\";1;2;0;\"no\";\"no\";\"no\";\"no\";\"yes\";\"yes\";\"no\";\"no\";3;1;3;1;5;3;4;\"8\";\"9\";10\\n\"GP\";\"F\";16;\"U\";\"GT3\";\"T\";2;3;\"services\";\"services\";\"course\";\"mother\";1;2;0;\"no\";\"no\";\"no\";\"no\";\"yes\";\"yes\";\"yes\";\"no\";4;3;3;1;1;2;10;\"11\";\"12\";13\\n\"GP\";\"F\";17;\"U\";\"GT3\";\"T\";1;1;\"at_home\";\"services\";\"course\";\"mother\";1;2;0;\"no\";\"no\";\"no\";\"yes\";\"yes\";\"yes\";\"yes\";\"no\";5;3;3;1;1;3;0;\"8\";\"8\";9\\n\"GP\";\"M\";17;\"U\";\"GT3\";\"T\";1;2;\"at_home\";\"services\";\"other\";\"other\";2;2;0;\"no\";\"no\";\"yes\";\"yes\";\"no\";\"yes\";\"yes\";\"no\";4;4;4;4;5;5;12;\"7\";\"8\";8\\n\"GP\";\"M\";16;\"R\";\"GT3\";\"T\";3;3;\"services\";\"services\";\"reputation\";\"mother\";1;1;0;\"no\";\"yes\";\"no\";\"yes\";\"yes\";\"yes\";\"yes\";\"no\";4;3;2;3;4;5;8;\"8\";\"9\";10\\n\"GP\";\"M\";16;\"U\";\"GT3\";\"T\";2;3;\"other\";\"other\";\"home\";\"father\";2;1;0;\"no\";\"no\";\"no\";\"no\";\"yes\";\"yes\";\"yes\";\"no\";5;3;3;1;1;3;0;\"13\";\"14\";14\\n\"GP\";\"F\";17;\"U\";\"LE3\";\"T\";2;4;\"services\";\"services\";\"course\";\"father\";1;2;0;\"no\";\"no\";\"no\";\"yes\";\"yes\";\"yes\";\"yes\";\"yes\";4;3;2;1;1;5;0;\"14\";\"15\";15\\n\"GP\";\"M\";17;\"U\";\"GT3\";\"T\";4;4;\"services\";\"teacher\";\"home\";\"mother\";1;1;0;\"no\";\"no\";\"no\";\"no\";\"yes\";\"yes\";\"yes\";\"no\";5;2;3;1;2;5;4;\"17\";\"15\";16\\n\"GP\";\"M\";16;\"R\";\"LE3\";\"T\";3;3;\"teacher\";\"other\";\"home\";\"father\";3;1;0;\"no\";\"yes\";\"yes\";\"yes\";\"yes\";\"yes\";\"yes\";\"no\";3;3;4;3;5;3;8;\"9\";\"9\";10\\n\"GP\";\"F\";17;\"U\";\"GT3\";\"T\";4;4;\"services\";\"teacher\";\"home\";\"mother\";2;1;1;\"no\";\"yes\";\"no\";\"no\";\"yes\";\"yes\";\"yes\";\"no\";4;2;4;2;3;2;24;\"18\";\"18\";18\\n\"GP\";\"F\";16;\"U\";\"LE3\";\"T\";4;4;\"teacher\";\"teacher\";\"reputation\";\"mother\";1;2;0;\"no\";\"yes\";\"yes\";\"no\";\"yes\";\"yes\";\"yes\";\"no\";4;5;2;1;2;3;0;\"9\";\"9\";10\\n\"GP\";\"F\";16;\"U\";\"GT3\";\"T\";4;3;\"health\";\"other\";\"home\";\"mother\";1;2;0;\"no\";\"yes\";\"no\";\"yes\";\"yes\";\"yes\";\"yes\";\"no\";4;3;5;1;5;2;2;\"16\";\"16\";16\\n\"GP\";\"F\";16;\"U\";\"GT3\";\"T\";2;3;\"other\";\"other\";\"reputation\";\"mother\";1;2;0;\"yes\";\"yes\";\"yes\";\"yes\";\"yes\";\"yes\";\"no\";\"no\";4;4;3;1;3;4;6;\"8\";\"10\";10\\n\"GP\";\"F\";17;\"U\";\"GT3\";\"T\";1;1;\"other\";\"other\";\"course\";\"mother\";1;2;0;\"no\";\"yes\";\"yes\";\"no\";\"no\";\"yes\";\"no\";\"no\";4;4;4;1;3;1;4;\"9\";\"9\";10\\n\"GP\";\"F\";17;\"R\";\"GT3\";\"T\";2;2;\"other\";\"other\";\"reputation\";\"mother\";1;1;0;\"no\";\"yes\";\"no\";\"no\";\"yes\";\"yes\";\"yes\";\"no\";5;3;2;1;2;3;18;\"7\";\"6\";6\\n\"GP\";\"F\";16;\"R\";\"GT3\";\"T\";2;2;\"services\";\"services\";\"reputation\";\"mother\";2;4;0;\"no\";\"yes\";\"yes\";\"yes\";\"no\";\"yes\";\"yes\";\"no\";5;3;5;1;1;5;6;\"10\";\"10\";11\\n\"GP\";\"F\";17;\"U\";\"GT3\";\"T\";3;4;\"at_home\";\"services\";\"home\";\"mother\";1;3;1;\"no\";\"yes\";\"yes\";\"no\";\"yes\";\"yes\";\"yes\";\"yes\";4;4;3;3;4;5;28;\"10\";\"9\";9\\n\"GP\";\"F\";16;\"U\";\"GT3\";\"A\";3;1;\"services\";\"other\";\"course\";\"mother\";1;2;3;\"no\";\"yes\";\"yes\";\"no\";\"yes\";\"yes\";\"yes\";\"no\";2;3;3;2;2;4;5;\"7\";\"7\";7\\n\"GP\";\"F\";16;\"U\";\"GT3\";\"T\";4;3;\"teacher\";\"other\";\"other\";\"mother\";1;2;0;\"no\";\"no\";\"yes\";\"yes\";\"yes\";\"yes\";\"yes\";\"yes\";1;3;2;1;1;1;10;\"11\";\"12\";13\\n\"GP\";\"F\";16;\"U\";\"GT3\";\"T\";1;1;\"at_home\";\"other\";\"home\";\"mother\";2;1;0;\"no\";\"yes\";\"yes\";\"no\";\"yes\";\"yes\";\"no\";\"no\";4;3;2;1;4;5;6;\"9\";\"9\";10\\n\"GP\";\"F\";17;\"R\";\"GT3\";\"T\";4;3;\"teacher\";\"other\";\"reputation\";\"mother\";2;3;0;\"no\";\"yes\";\"yes\";\"yes\";\"yes\";\"yes\";\"yes\";\"yes\";4;4;2;1;1;4;6;\"7\";\"7\";7\\n\"GP\";\"F\";19;\"U\";\"GT3\";\"T\";3;3;\"other\";\"other\";\"reputation\";\"other\";1;4;0;\"no\";\"yes\";\"yes\";\"yes\";\"yes\";\"yes\";\"yes\";\"no\";4;3;3;1;2;3;10;\"8\";\"8\";8\\n\"GP\";\"M\";17;\"U\";\"LE3\";\"T\";4;4;\"services\";\"other\";\"home\";\"mother\";1;2;0;\"no\";\"yes\";\"yes\";\"no\";\"yes\";\"yes\";\"yes\";\"yes\";5;3;5;4;5;3;13;\"12\";\"12\";13\\n\"GP\";\"F\";16;\"U\";\"GT3\";\"A\";2;2;\"other\";\"other\";\"reputation\";\"mother\";1;2;0;\"yes\";\"yes\";\"yes\";\"no\";\"yes\";\"yes\";\"yes\";\"no\";3;3;4;1;1;4;0;\"12\";\"13\";14\\n\"GP\";\"M\";18;\"U\";\"GT3\";\"T\";2;2;\"services\";\"other\";\"home\";\"mother\";1;2;1;\"no\";\"yes\";\"yes\";\"yes\";\"yes\";\"yes\";\"yes\";\"no\";4;4;4;2;4;5;15;\"6\";\"7\";8\\n\"GP\";\"F\";17;\"R\";\"LE3\";\"T\";4;4;\"services\";\"other\";\"other\";\"mother\";1;1;0;\"no\";\"yes\";\"yes\";\"no\";\"yes\";\"yes\";\"no\";\"no\";5;2;1;1;2;3;12;\"8\";\"10\";10\\n\"GP\";\"F\";17;\"U\";\"LE3\";\"T\";3;2;\"other\";\"other\";\"reputation\";\"mother\";2;2;0;\"no\";\"no\";\"yes\";\"no\";\"yes\";\"yes\";\"yes\";\"no\";4;4;4;1;3;1;2;\"14\";\"15\";15\\n\"GP\";\"F\";17;\"U\";\"GT3\";\"T\";4;3;\"other\";\"other\";\"reputation\";\"mother\";1;2;2;\"no\";\"no\";\"yes\";\"no\";\"yes\";\"yes\";\"yes\";\"yes\";3;4;5;2;4;1;22;\"6\";\"6\";4\\n\"GP\";\"M\";18;\"U\";\"LE3\";\"T\";3;3;\"services\";\"health\";\"home\";\"father\";1;2;1;\"no\";\"yes\";\"yes\";\"no\";\"yes\";\"yes\";\"yes\";\"no\";3;2;4;2;4;4;13;\"6\";\"6\";8\\n\"GP\";\"F\";17;\"U\";\"GT3\";\"T\";2;3;\"at_home\";\"other\";\"home\";\"father\";2;1;0;\"no\";\"yes\";\"yes\";\"no\";\"yes\";\"yes\";\"no\";\"no\";3;3;3;1;4;3;3;\"7\";\"7\";8\\n\"GP\";\"F\";17;\"U\";\"GT3\";\"T\";2;2;\"at_home\";\"at_home\";\"course\";\"mother\";1;3;0;\"no\";\"yes\";\"yes\";\"yes\";\"yes\";\"yes\";\"yes\";\"no\";4;3;3;1;1;4;4;\"9\";\"10\";10\\n\"GP\";\"F\";17;\"R\";\"GT3\";\"T\";2;1;\"at_home\";\"services\";\"reputation\";\"mother\";2;2;0;\"no\";\"yes\";\"no\";\"yes\";\"yes\";\"yes\";\"yes\";\"no\";4;2;5;1;2;5;2;\"6\";\"6\";6\\n\"GP\";\"F\";17;\"U\";\"GT3\";\"T\";1;1;\"at_home\";\"other\";\"reputation\";\"mother\";1;3;1;\"no\";\"yes\";\"no\";\"yes\";\"yes\";\"yes\";\"no\";\"yes\";4;3;4;1;1;5;0;\"6\";\"5\";0\\n\"GP\";\"F\";16;\"U\";\"GT3\";\"T\";2;3;\"services\";\"teacher\";\"other\";\"mother\";1;2;0;\"yes\";\"no\";\"no\";\"no\";\"yes\";\"yes\";\"yes\";\"no\";2;3;1;1;1;3;2;\"16\";\"16\";17\\n\"GP\";\"M\";18;\"U\";\"GT3\";\"T\";2;2;\"other\";\"other\";\"home\";\"mother\";2;2;0;\"no\";\"yes\";\"yes\";\"no\";\"yes\";\"yes\";\"yes\";\"no\";3;3;3;5;5;4;0;\"12\";\"13\";13\\n\"GP\";\"F\";16;\"U\";\"GT3\";\"T\";4;4;\"teacher\";\"services\";\"home\";\"mother\";1;3;0;\"no\";\"yes\";\"no\";\"yes\";\"no\";\"yes\";\"yes\";\"no\";5;3;2;1;1;5;0;\"13\";\"13\";14\\n\"GP\";\"F\";18;\"R\";\"GT3\";\"T\";3;1;\"other\";\"other\";\"reputation\";\"mother\";1;2;1;\"no\";\"no\";\"no\";\"yes\";\"yes\";\"yes\";\"yes\";\"yes\";5;3;3;1;1;4;16;\"9\";\"8\";7\\n\"GP\";\"F\";17;\"U\";\"GT3\";\"T\";3;2;\"other\";\"other\";\"course\";\"mother\";1;2;0;\"no\";\"no\";\"no\";\"yes\";\"no\";\"yes\";\"yes\";\"no\";5;3;4;1;3;3;10;\"16\";\"15\";15\\n\"GP\";\"M\";17;\"U\";\"LE3\";\"T\";2;3;\"services\";\"services\";\"reputation\";\"father\";1;2;0;\"no\";\"yes\";\"yes\";\"no\";\"no\";\"yes\";\"yes\";\"no\";5;3;3;1;3;3;2;\"12\";\"11\";12\\n\"GP\";\"M\";18;\"U\";\"LE3\";\"T\";2;1;\"at_home\";\"other\";\"course\";\"mother\";4;2;0;\"yes\";\"yes\";\"yes\";\"yes\";\"yes\";\"yes\";\"yes\";\"yes\";4;3;2;4;5;3;14;\"10\";\"8\";9\\n\"GP\";\"F\";17;\"U\";\"GT3\";\"A\";2;1;\"other\";\"other\";\"course\";\"mother\";2;3;0;\"no\";\"no\";\"no\";\"yes\";\"yes\";\"yes\";\"yes\";\"yes\";3;2;3;1;2;3;10;\"12\";\"10\";12\\n\"GP\";\"F\";17;\"U\";\"LE3\";\"T\";4;3;\"health\";\"other\";\"reputation\";\"father\";1;2;0;\"no\";\"no\";\"no\";\"yes\";\"yes\";\"yes\";\"yes\";\"yes\";3;2;3;1;2;3;14;\"13\";\"13\";14\\n\"GP\";\"M\";17;\"R\";\"GT3\";\"T\";2;2;\"other\";\"other\";\"course\";\"father\";2;2;0;\"no\";\"yes\";\"yes\";\"yes\";\"yes\";\"yes\";\"yes\";\"no\";4;5;2;1;1;1;4;\"11\";\"11\";11\\n\"GP\";\"M\";17;\"U\";\"GT3\";\"T\";4;4;\"teacher\";\"teacher\";\"reputation\";\"mother\";1;2;0;\"yes\";\"yes\";\"no\";\"yes\";\"yes\";\"yes\";\"yes\";\"yes\";4;5;5;1;3;2;14;\"11\";\"9\";9\\n\"GP\";\"M\";16;\"U\";\"GT3\";\"T\";4;4;\"health\";\"other\";\"reputation\";\"father\";1;2;0;\"no\";\"yes\";\"yes\";\"yes\";\"yes\";\"yes\";\"yes\";\"no\";4;2;4;2;4;1;2;\"14\";\"13\";13\\n\"GP\";\"M\";16;\"U\";\"LE3\";\"T\";1;1;\"other\";\"other\";\"home\";\"mother\";2;2;0;\"no\";\"yes\";\"yes\";\"no\";\"yes\";\"yes\";\"yes\";\"no\";3;4;2;1;1;5;18;\"9\";\"7\";6\\n\"GP\";\"M\";16;\"U\";\"GT3\";\"T\";3;2;\"at_home\";\"other\";\"reputation\";\"mother\";2;3;0;\"no\";\"no\";\"no\";\"yes\";\"yes\";\"yes\";\"yes\";\"yes\";5;3;3;1;3;2;10;\"11\";\"9\";10\\n\"GP\";\"M\";17;\"U\";\"LE3\";\"T\";2;2;\"other\";\"other\";\"home\";\"father\";1;2;0;\"no\";\"no\";\"yes\";\"yes\";\"no\";\"yes\";\"yes\";\"yes\";4;4;2;5;5;4;4;\"14\";\"13\";13\\n\"GP\";\"F\";16;\"U\";\"GT3\";\"T\";2;1;\"other\";\"other\";\"home\";\"mother\";1;1;0;\"no\";\"no\";\"no\";\"no\";\"yes\";\"yes\";\"yes\";\"yes\";4;5;2;1;1;5;20;\"13\";\"12\";12\\n\"GP\";\"F\";17;\"R\";\"GT3\";\"T\";2;1;\"at_home\";\"services\";\"course\";\"mother\";3;2;0;\"no\";\"no\";\"no\";\"yes\";\"yes\";\"yes\";\"no\";\"no\";2;1;1;1;1;3;2;\"13\";\"11\";11\\n\"GP\";\"M\";18;\"U\";\"GT3\";\"T\";2;2;\"other\";\"services\";\"reputation\";\"father\";1;2;1;\"no\";\"no\";\"no\";\"no\";\"yes\";\"no\";\"yes\";\"no\";5;5;4;3;5;2;0;\"7\";\"7\";0\\n\"GP\";\"M\";17;\"U\";\"LE3\";\"T\";4;3;\"health\";\"other\";\"course\";\"mother\";2;2;0;\"no\";\"no\";\"no\";\"yes\";\"yes\";\"yes\";\"yes\";\"yes\";2;5;5;1;4;5;14;\"12\";\"12\";12\\n\"GP\";\"M\";17;\"R\";\"LE3\";\"A\";4;4;\"teacher\";\"other\";\"course\";\"mother\";2;2;0;\"no\";\"yes\";\"yes\";\"no\";\"yes\";\"yes\";\"yes\";\"no\";3;3;3;2;3;4;2;\"10\";\"11\";12\\n\"GP\";\"M\";16;\"U\";\"LE3\";\"T\";4;3;\"teacher\";\"other\";\"course\";\"mother\";1;1;0;\"no\";\"no\";\"no\";\"yes\";\"no\";\"yes\";\"yes\";\"no\";5;4;5;1;1;3;0;\"6\";\"0\";0\\n\"GP\";\"M\";16;\"U\";\"GT3\";\"T\";4;4;\"services\";\"services\";\"course\";\"mother\";1;1;0;\"no\";\"no\";\"no\";\"yes\";\"yes\";\"yes\";\"yes\";\"no\";5;3;2;1;2;5;0;\"13\";\"12\";12\\n\"GP\";\"F\";18;\"U\";\"GT3\";\"T\";2;1;\"other\";\"other\";\"course\";\"other\";2;3;0;\"no\";\"yes\";\"yes\";\"no\";\"no\";\"yes\";\"yes\";\"yes\";4;4;4;1;1;3;0;\"7\";\"0\";0\\n\"GP\";\"M\";16;\"U\";\"GT3\";\"T\";2;1;\"other\";\"other\";\"course\";\"mother\";3;1;0;\"no\";\"no\";\"no\";\"no\";\"yes\";\"yes\";\"yes\";\"no\";4;3;3;1;1;4;6;\"18\";\"18\";18\\n\"GP\";\"M\";17;\"U\";\"GT3\";\"T\";2;3;\"other\";\"other\";\"course\";\"father\";2;1;0;\"no\";\"no\";\"no\";\"no\";\"yes\";\"yes\";\"yes\";\"no\";5;2;2;1;1;2;4;\"12\";\"12\";13\\n\"GP\";\"M\";22;\"U\";\"GT3\";\"T\";3;1;\"services\";\"services\";\"other\";\"mother\";1;1;3;\"no\";\"no\";\"no\";\"no\";\"no\";\"no\";\"yes\";\"yes\";5;4;5;5;5;1;16;\"6\";\"8\";8\\n\"GP\";\"M\";18;\"R\";\"LE3\";\"T\";3;3;\"other\";\"services\";\"course\";\"mother\";1;2;1;\"no\";\"yes\";\"no\";\"no\";\"yes\";\"yes\";\"yes\";\"yes\";4;3;3;1;3;5;8;\"3\";\"5\";5\\n\"GP\";\"M\";16;\"U\";\"GT3\";\"T\";0;2;\"other\";\"other\";\"other\";\"mother\";1;1;0;\"no\";\"no\";\"yes\";\"no\";\"no\";\"yes\";\"yes\";\"no\";4;3;2;2;4;5;0;\"13\";\"15\";15\\n\"GP\";\"M\";18;\"U\";\"GT3\";\"T\";3;2;\"services\";\"other\";\"course\";\"mother\";2;1;1;\"no\";\"no\";\"no\";\"no\";\"yes\";\"no\";\"yes\";\"no\";4;4;5;2;4;5;0;\"6\";\"8\";8\\n\"GP\";\"M\";16;\"U\";\"GT3\";\"T\";3;3;\"at_home\";\"other\";\"reputation\";\"other\";3;2;0;\"yes\";\"yes\";\"no\";\"no\";\"no\";\"yes\";\"yes\";\"no\";5;3;3;1;3;2;6;\"7\";\"10\";10\\n\"GP\";\"M\";18;\"U\";\"GT3\";\"T\";2;1;\"services\";\"services\";\"other\";\"mother\";1;1;1;\"no\";\"no\";\"no\";\"no\";\"no\";\"no\";\"yes\";\"no\";3;2;5;2;5;5;4;\"6\";\"9\";8\\n\"GP\";\"M\";16;\"R\";\"GT3\";\"T\";2;1;\"other\";\"other\";\"course\";\"mother\";2;1;0;\"no\";\"no\";\"no\";\"yes\";\"no\";\"yes\";\"no\";\"no\";3;3;2;1;3;3;0;\"8\";\"9\";8\\n\"GP\";\"M\";17;\"R\";\"GT3\";\"T\";2;1;\"other\";\"other\";\"course\";\"mother\";1;1;0;\"no\";\"no\";\"no\";\"no\";\"no\";\"yes\";\"yes\";\"no\";4;4;2;2;4;5;0;\"8\";\"12\";12\\n\"GP\";\"M\";17;\"U\";\"LE3\";\"T\";1;1;\"health\";\"other\";\"course\";\"mother\";2;1;1;\"no\";\"yes\";\"no\";\"yes\";\"yes\";\"yes\";\"yes\";\"no\";4;4;4;1;2;5;2;\"7\";\"9\";8\\n\"GP\";\"F\";17;\"U\";\"LE3\";\"T\";4;2;\"teacher\";\"services\";\"reputation\";\"mother\";1;4;0;\"no\";\"yes\";\"yes\";\"yes\";\"yes\";\"yes\";\"yes\";\"no\";4;2;3;1;1;4;6;\"14\";\"12\";13\\n\"GP\";\"M\";19;\"U\";\"LE3\";\"A\";4;3;\"services\";\"at_home\";\"reputation\";\"mother\";1;2;0;\"no\";\"yes\";\"no\";\"no\";\"yes\";\"yes\";\"yes\";\"no\";4;3;1;1;1;1;12;\"11\";\"11\";11\\n\"GP\";\"M\";18;\"U\";\"GT3\";\"T\";2;1;\"other\";\"other\";\"home\";\"mother\";1;2;0;\"no\";\"no\";\"no\";\"yes\";\"yes\";\"yes\";\"yes\";\"no\";5;2;4;1;2;4;8;\"15\";\"14\";14\\n\"GP\";\"F\";17;\"U\";\"LE3\";\"T\";2;2;\"services\";\"services\";\"course\";\"father\";1;4;0;\"no\";\"no\";\"yes\";\"yes\";\"yes\";\"yes\";\"yes\";\"yes\";3;4;1;1;1;2;0;\"10\";\"9\";0\\n\"GP\";\"F\";18;\"U\";\"GT3\";\"T\";4;3;\"services\";\"other\";\"home\";\"father\";1;2;0;\"no\";\"yes\";\"yes\";\"no\";\"yes\";\"yes\";\"yes\";\"yes\";3;1;2;1;3;2;21;\"17\";\"18\";18\\n\"GP\";\"M\";18;\"U\";\"GT3\";\"T\";4;3;\"teacher\";\"other\";\"course\";\"mother\";1;2;0;\"no\";\"yes\";\"yes\";\"no\";\"no\";\"yes\";\"yes\";\"no\";4;3;2;1;1;3;2;\"8\";\"8\";8\\n\"GP\";\"M\";18;\"R\";\"GT3\";\"T\";3;2;\"other\";\"other\";\"course\";\"mother\";1;3;0;\"no\";\"no\";\"no\";\"yes\";\"no\";\"yes\";\"no\";\"no\";5;3;2;1;1;3;1;\"13\";\"12\";12\\n\"GP\";\"F\";17;\"U\";\"GT3\";\"T\";3;3;\"other\";\"other\";\"home\";\"mother\";1;3;0;\"no\";\"no\";\"no\";\"yes\";\"no\";\"yes\";\"no\";\"no\";3;2;3;1;1;4;4;\"10\";\"9\";9\\n\"GP\";\"F\";18;\"U\";\"GT3\";\"T\";2;2;\"at_home\";\"services\";\"home\";\"mother\";1;3;0;\"no\";\"yes\";\"yes\";\"yes\";\"yes\";\"yes\";\"yes\";\"yes\";4;3;3;1;1;3;0;\"9\";\"10\";0\\n\"GP\";\"M\";18;\"R\";\"LE3\";\"A\";3;4;\"other\";\"other\";\"reputation\";\"mother\";2;2;0;\"no\";\"yes\";\"yes\";\"yes\";\"yes\";\"yes\";\"yes\";\"no\";4;2;5;3;4;1;13;\"17\";\"17\";17\\n\"GP\";\"M\";17;\"U\";\"GT3\";\"T\";3;1;\"services\";\"other\";\"other\";\"mother\";1;2;0;\"no\";\"no\";\"yes\";\"yes\";\"yes\";\"yes\";\"yes\";\"yes\";5;4;4;3;4;5;2;\"9\";\"9\";10\\n\"GP\";\"F\";18;\"R\";\"GT3\";\"T\";4;4;\"teacher\";\"other\";\"reputation\";\"mother\";2;2;0;\"no\";\"no\";\"yes\";\"yes\";\"yes\";\"yes\";\"yes\";\"no\";4;3;4;2;2;4;8;\"12\";\"10\";11\\n\"GP\";\"M\";18;\"U\";\"GT3\";\"T\";4;2;\"health\";\"other\";\"reputation\";\"father\";1;2;0;\"no\";\"yes\";\"yes\";\"yes\";\"yes\";\"yes\";\"yes\";\"yes\";5;4;5;1;3;5;10;\"10\";\"9\";10\\n\"GP\";\"F\";18;\"R\";\"GT3\";\"T\";2;1;\"other\";\"other\";\"reputation\";\"mother\";2;2;0;\"no\";\"yes\";\"no\";\"no\";\"yes\";\"no\";\"yes\";\"yes\";4;3;5;1;2;3;0;\"6\";\"0\";0\\n\"GP\";\"F\";19;\"U\";\"GT3\";\"T\";3;3;\"other\";\"services\";\"home\";\"other\";1;2;2;\"no\";\"yes\";\"yes\";\"yes\";\"yes\";\"yes\";\"yes\";\"no\";4;3;5;3;3;5;15;\"9\";\"9\";9\\n\"GP\";\"F\";18;\"U\";\"GT3\";\"T\";2;3;\"other\";\"services\";\"reputation\";\"father\";1;4;0;\"no\";\"yes\";\"yes\";\"yes\";\"yes\";\"yes\";\"yes\";\"yes\";4;5;5;1;3;2;4;\"15\";\"14\";14\\n\"GP\";\"F\";18;\"U\";\"LE3\";\"T\";1;1;\"other\";\"other\";\"home\";\"mother\";2;2;0;\"no\";\"yes\";\"yes\";\"no\";\"no\";\"yes\";\"no\";\"no\";4;4;3;1;1;3;2;\"11\";\"11\";11\\n\"GP\";\"M\";17;\"R\";\"GT3\";\"T\";1;2;\"at_home\";\"at_home\";\"home\";\"mother\";1;2;0;\"no\";\"yes\";\"yes\";\"yes\";\"no\";\"yes\";\"no\";\"yes\";3;5;2;2;2;1;2;\"15\";\"14\";14\\n\"GP\";\"F\";17;\"U\";\"GT3\";\"T\";2;4;\"at_home\";\"health\";\"reputation\";\"mother\";2;2;0;\"no\";\"yes\";\"yes\";\"no\";\"yes\";\"yes\";\"yes\";\"yes\";4;3;3;1;1;1;2;\"10\";\"10\";10\\n\"GP\";\"F\";17;\"U\";\"LE3\";\"T\";2;2;\"services\";\"other\";\"course\";\"mother\";2;2;0;\"yes\";\"yes\";\"yes\";\"no\";\"yes\";\"yes\";\"yes\";\"yes\";4;4;4;2;3;5;6;\"12\";\"12\";12\\n\"GP\";\"F\";18;\"R\";\"GT3\";\"A\";3;2;\"other\";\"services\";\"home\";\"mother\";2;2;0;\"no\";\"no\";\"no\";\"no\";\"no\";\"no\";\"yes\";\"yes\";4;1;1;1;1;5;75;\"10\";\"9\";9\\n\"GP\";\"M\";18;\"U\";\"GT3\";\"T\";4;4;\"teacher\";\"services\";\"home\";\"mother\";2;1;0;\"no\";\"no\";\"yes\";\"yes\";\"yes\";\"yes\";\"yes\";\"no\";3;2;4;1;4;3;22;\"9\";\"9\";9\\n\"GP\";\"F\";18;\"U\";\"GT3\";\"T\";4;4;\"health\";\"health\";\"reputation\";\"father\";1;2;1;\"yes\";\"yes\";\"no\";\"yes\";\"yes\";\"yes\";\"yes\";\"yes\";2;4;4;1;1;4;15;\"9\";\"8\";8\\n\"GP\";\"M\";18;\"U\";\"LE3\";\"T\";4;3;\"teacher\";\"services\";\"course\";\"mother\";2;1;0;\"no\";\"no\";\"yes\";\"yes\";\"yes\";\"yes\";\"yes\";\"no\";4;2;3;1;2;1;8;\"10\";\"11\";10\\n\"GP\";\"M\";17;\"U\";\"LE3\";\"A\";4;1;\"services\";\"other\";\"home\";\"mother\";2;1;0;\"no\";\"no\";\"yes\";\"yes\";\"yes\";\"yes\";\"yes\";\"yes\";4;5;4;2;4;5;30;\"8\";\"8\";8\\n\"GP\";\"M\";17;\"U\";\"LE3\";\"A\";3;2;\"teacher\";\"services\";\"home\";\"mother\";1;1;1;\"no\";\"no\";\"no\";\"no\";\"yes\";\"yes\";\"yes\";\"no\";4;4;4;3;4;3;19;\"11\";\"9\";10\\n\"GP\";\"F\";18;\"R\";\"LE3\";\"T\";1;1;\"at_home\";\"other\";\"reputation\";\"mother\";2;4;0;\"no\";\"yes\";\"yes\";\"yes\";\"yes\";\"yes\";\"no\";\"no\";5;2;2;1;1;3;1;\"12\";\"12\";12\\n\"GP\";\"F\";18;\"U\";\"GT3\";\"T\";1;1;\"other\";\"other\";\"home\";\"mother\";2;2;0;\"yes\";\"no\";\"no\";\"yes\";\"yes\";\"yes\";\"yes\";\"no\";5;4;4;1;1;4;4;\"8\";\"9\";10\\n\"GP\";\"F\";17;\"U\";\"GT3\";\"T\";2;2;\"other\";\"other\";\"course\";\"mother\";1;2;0;\"no\";\"yes\";\"no\";\"no\";\"no\";\"yes\";\"yes\";\"no\";5;4;5;1;2;5;4;\"10\";\"9\";11\\n\"GP\";\"M\";17;\"U\";\"GT3\";\"T\";1;1;\"other\";\"other\";\"reputation\";\"father\";1;2;0;\"no\";\"no\";\"yes\";\"no\";\"no\";\"yes\";\"yes\";\"no\";4;3;3;1;2;4;2;\"12\";\"10\";11\\n\"GP\";\"F\";18;\"U\";\"GT3\";\"T\";2;2;\"at_home\";\"at_home\";\"other\";\"mother\";1;3;0;\"no\";\"yes\";\"yes\";\"no\";\"yes\";\"yes\";\"yes\";\"no\";4;3;3;1;2;2;5;\"18\";\"18\";19\\n\"GP\";\"F\";17;\"U\";\"GT3\";\"T\";1;1;\"services\";\"teacher\";\"reputation\";\"mother\";1;3;0;\"no\";\"yes\";\"yes\";\"no\";\"yes\";\"yes\";\"yes\";\"no\";4;3;3;1;1;3;6;\"13\";\"12\";12\\n\"GP\";\"M\";18;\"U\";\"GT3\";\"T\";2;1;\"services\";\"services\";\"reputation\";\"mother\";1;3;0;\"no\";\"no\";\"yes\";\"yes\";\"yes\";\"yes\";\"yes\";\"no\";4;2;4;1;3;2;6;\"15\";\"14\";14\\n\"GP\";\"M\";18;\"U\";\"LE3\";\"A\";4;4;\"teacher\";\"teacher\";\"reputation\";\"mother\";1;2;0;\"no\";\"yes\";\"yes\";\"yes\";\"yes\";\"yes\";\"yes\";\"no\";5;4;3;1;1;2;9;\"15\";\"13\";15\\n\"GP\";\"M\";18;\"U\";\"GT3\";\"T\";4;2;\"teacher\";\"other\";\"home\";\"mother\";1;2;0;\"no\";\"yes\";\"yes\";\"yes\";\"yes\";\"yes\";\"yes\";\"yes\";4;3;2;1;4;5;11;\"12\";\"11\";11\\n\"GP\";\"F\";17;\"U\";\"GT3\";\"T\";4;3;\"health\";\"services\";\"reputation\";\"mother\";1;3;0;\"no\";\"yes\";\"yes\";\"no\";\"yes\";\"yes\";\"yes\";\"no\";4;2;2;1;2;3;0;\"15\";\"15\";15\\n\"GP\";\"F\";18;\"U\";\"LE3\";\"T\";2;1;\"services\";\"at_home\";\"reputation\";\"mother\";1;2;1;\"no\";\"no\";\"no\";\"no\";\"yes\";\"yes\";\"yes\";\"yes\";5;4;3;1;1;5;12;\"12\";\"12\";13\\n\"GP\";\"F\";17;\"R\";\"LE3\";\"T\";3;1;\"services\";\"other\";\"reputation\";\"mother\";2;4;0;\"no\";\"yes\";\"yes\";\"no\";\"yes\";\"yes\";\"no\";\"no\";3;1;2;1;1;3;6;\"18\";\"18\";18\\n\"GP\";\"M\";18;\"R\";\"LE3\";\"T\";3;2;\"services\";\"other\";\"reputation\";\"mother\";2;3;0;\"no\";\"yes\";\"yes\";\"yes\";\"yes\";\"yes\";\"yes\";\"no\";5;4;2;1;1;4;8;\"14\";\"13\";14\\n\"GP\";\"M\";17;\"U\";\"GT3\";\"T\";3;3;\"health\";\"other\";\"home\";\"mother\";1;1;0;\"no\";\"yes\";\"yes\";\"no\";\"yes\";\"yes\";\"yes\";\"no\";4;4;3;1;3;5;4;\"14\";\"12\";11\\n\"GP\";\"F\";19;\"U\";\"GT3\";\"T\";4;4;\"health\";\"other\";\"reputation\";\"other\";2;2;0;\"no\";\"yes\";\"yes\";\"yes\";\"yes\";\"yes\";\"yes\";\"no\";2;3;4;2;3;2;0;\"10\";\"9\";0\\n\"GP\";\"F\";18;\"U\";\"LE3\";\"T\";4;3;\"other\";\"other\";\"home\";\"other\";2;2;0;\"no\";\"yes\";\"yes\";\"no\";\"yes\";\"yes\";\"yes\";\"yes\";4;4;5;1;2;2;10;\"10\";\"8\";8\\n\"GP\";\"F\";18;\"U\";\"GT3\";\"T\";4;3;\"other\";\"other\";\"reputation\";\"father\";1;4;0;\"no\";\"yes\";\"yes\";\"no\";\"yes\";\"yes\";\"yes\";\"no\";4;3;3;1;1;3;0;\"14\";\"13\";14\\n\"GP\";\"M\";18;\"U\";\"LE3\";\"T\";4;4;\"teacher\";\"teacher\";\"home\";\"mother\";1;1;0;\"no\";\"yes\";\"yes\";\"no\";\"yes\";\"yes\";\"yes\";\"yes\";1;4;2;2;2;1;5;\"16\";\"15\";16\\n\"GP\";\"F\";18;\"U\";\"LE3\";\"A\";4;4;\"health\";\"other\";\"home\";\"mother\";1;2;0;\"no\";\"yes\";\"no\";\"no\";\"yes\";\"yes\";\"yes\";\"yes\";4;2;4;1;1;4;14;\"12\";\"10\";11\\n\"GP\";\"M\";17;\"U\";\"LE3\";\"T\";4;4;\"other\";\"teacher\";\"home\";\"father\";2;1;0;\"no\";\"no\";\"yes\";\"no\";\"yes\";\"yes\";\"yes\";\"no\";4;1;1;2;2;5;0;\"11\";\"11\";10\\n\"GP\";\"F\";17;\"U\";\"GT3\";\"T\";4;2;\"other\";\"other\";\"reputation\";\"mother\";2;3;0;\"no\";\"yes\";\"yes\";\"no\";\"yes\";\"yes\";\"yes\";\"no\";4;3;3;1;1;3;0;\"15\";\"12\";14\\n\"GP\";\"F\";17;\"U\";\"GT3\";\"T\";3;2;\"health\";\"health\";\"reputation\";\"father\";1;4;0;\"no\";\"yes\";\"yes\";\"yes\";\"no\";\"yes\";\"yes\";\"no\";5;2;2;1;2;5;0;\"17\";\"17\";18\\n\"GP\";\"M\";19;\"U\";\"GT3\";\"T\";3;3;\"other\";\"other\";\"home\";\"other\";1;2;1;\"no\";\"yes\";\"no\";\"yes\";\"yes\";\"yes\";\"yes\";\"yes\";4;4;4;1;1;3;20;\"15\";\"14\";13\\n\"GP\";\"F\";18;\"U\";\"GT3\";\"T\";2;4;\"services\";\"at_home\";\"reputation\";\"other\";1;2;1;\"no\";\"yes\";\"yes\";\"yes\";\"yes\";\"yes\";\"yes\";\"no\";4;4;3;1;1;3;8;\"14\";\"12\";12\\n\"GP\";\"M\";20;\"U\";\"GT3\";\"A\";3;2;\"services\";\"other\";\"course\";\"other\";1;1;0;\"no\";\"no\";\"no\";\"yes\";\"yes\";\"yes\";\"no\";\"no\";5;5;3;1;1;5;0;\"17\";\"18\";18\\n\"GP\";\"M\";19;\"U\";\"GT3\";\"T\";4;4;\"teacher\";\"services\";\"reputation\";\"other\";2;1;1;\"no\";\"yes\";\"yes\";\"no\";\"yes\";\"yes\";\"yes\";\"yes\";4;3;4;1;1;4;38;\"8\";\"9\";8\\n\"GP\";\"M\";19;\"R\";\"GT3\";\"T\";3;3;\"other\";\"services\";\"reputation\";\"father\";1;2;1;\"no\";\"no\";\"no\";\"yes\";\"yes\";\"yes\";\"no\";\"yes\";4;5;3;1;2;5;0;\"15\";\"12\";12\\n\"GP\";\"F\";19;\"U\";\"LE3\";\"T\";1;1;\"at_home\";\"other\";\"reputation\";\"other\";1;2;1;\"yes\";\"yes\";\"no\";\"yes\";\"no\";\"yes\";\"yes\";\"no\";4;4;3;1;3;3;18;\"12\";\"10\";10\\n\"GP\";\"F\";19;\"U\";\"LE3\";\"T\";1;2;\"services\";\"services\";\"home\";\"other\";1;2;1;\"no\";\"no\";\"no\";\"yes\";\"no\";\"yes\";\"no\";\"yes\";4;2;4;2;2;3;0;\"9\";\"9\";0\\n\"GP\";\"F\";19;\"U\";\"GT3\";\"T\";2;1;\"at_home\";\"other\";\"other\";\"other\";3;2;0;\"no\";\"yes\";\"no\";\"no\";\"yes\";\"no\";\"yes\";\"yes\";3;4;1;1;1;2;20;\"14\";\"12\";13\\n\"GP\";\"M\";19;\"U\";\"GT3\";\"T\";1;2;\"other\";\"services\";\"course\";\"other\";1;2;1;\"no\";\"no\";\"no\";\"no\";\"no\";\"yes\";\"yes\";\"no\";4;5;2;2;2;4;3;\"13\";\"11\";11\\n\"GP\";\"F\";19;\"U\";\"LE3\";\"T\";3;2;\"services\";\"other\";\"reputation\";\"other\";2;2;1;\"no\";\"yes\";\"yes\";\"no\";\"no\";\"yes\";\"yes\";\"yes\";4;2;2;1;2;1;22;\"13\";\"10\";11\\n\"GP\";\"F\";19;\"U\";\"GT3\";\"T\";1;1;\"at_home\";\"health\";\"home\";\"other\";1;3;2;\"no\";\"no\";\"no\";\"no\";\"no\";\"yes\";\"yes\";\"yes\";4;1;2;1;1;3;14;\"15\";\"13\";13\\n\"GP\";\"F\";19;\"R\";\"GT3\";\"T\";2;3;\"other\";\"other\";\"reputation\";\"other\";1;3;1;\"no\";\"no\";\"no\";\"no\";\"yes\";\"yes\";\"yes\";\"yes\";4;1;2;1;1;3;40;\"13\";\"11\";11\\n\"GP\";\"F\";18;\"U\";\"GT3\";\"T\";2;1;\"services\";\"other\";\"course\";\"mother\";2;2;0;\"no\";\"yes\";\"yes\";\"yes\";\"yes\";\"yes\";\"yes\";\"no\";5;3;3;1;2;1;0;\"8\";\"8\";0\\n\"GP\";\"F\";18;\"U\";\"GT3\";\"T\";4;3;\"other\";\"other\";\"course\";\"mother\";1;3;0;\"no\";\"yes\";\"yes\";\"yes\";\"yes\";\"yes\";\"yes\";\"yes\";4;3;4;1;1;5;9;\"9\";\"10\";9\\n\"GP\";\"F\";17;\"R\";\"GT3\";\"T\";3;4;\"at_home\";\"services\";\"course\";\"father\";1;3;0;\"no\";\"yes\";\"yes\";\"yes\";\"no\";\"yes\";\"yes\";\"no\";4;3;4;2;5;5;0;\"11\";\"11\";10\\n\"GP\";\"F\";18;\"U\";\"GT3\";\"T\";4;4;\"teacher\";\"other\";\"course\";\"mother\";1;2;0;\"no\";\"yes\";\"yes\";\"no\";\"yes\";\"yes\";\"yes\";\"no\";4;4;4;3;3;5;2;\"11\";\"11\";11\\n\"GP\";\"F\";17;\"U\";\"GT3\";\"A\";4;3;\"services\";\"services\";\"course\";\"mother\";1;2;0;\"no\";\"yes\";\"yes\";\"no\";\"yes\";\"yes\";\"yes\";\"yes\";5;2;2;1;2;5;23;\"13\";\"13\";13\\n\"GP\";\"F\";17;\"U\";\"GT3\";\"T\";2;2;\"other\";\"other\";\"course\";\"mother\";1;2;0;\"no\";\"yes\";\"no\";\"no\";\"yes\";\"yes\";\"no\";\"yes\";4;2;2;1;1;3;12;\"11\";\"9\";9\\n\"GP\";\"F\";17;\"R\";\"LE3\";\"T\";2;2;\"services\";\"services\";\"course\";\"mother\";1;3;0;\"no\";\"yes\";\"yes\";\"yes\";\"yes\";\"yes\";\"yes\";\"no\";3;3;2;2;2;3;3;\"11\";\"11\";11\\n\"GP\";\"F\";17;\"U\";\"GT3\";\"T\";3;1;\"services\";\"services\";\"course\";\"father\";1;3;0;\"no\";\"yes\";\"no\";\"no\";\"no\";\"yes\";\"yes\";\"no\";3;4;3;2;3;5;1;\"12\";\"14\";15\\n\"GP\";\"F\";17;\"U\";\"LE3\";\"T\";0;2;\"at_home\";\"at_home\";\"home\";\"father\";2;3;0;\"no\";\"no\";\"no\";\"no\";\"yes\";\"yes\";\"yes\";\"no\";3;3;3;2;3;2;0;\"16\";\"15\";15\\n\"GP\";\"M\";18;\"U\";\"GT3\";\"T\";4;4;\"other\";\"other\";\"course\";\"mother\";1;3;0;\"no\";\"no\";\"no\";\"yes\";\"yes\";\"yes\";\"yes\";\"no\";4;3;3;2;2;3;3;\"9\";\"12\";11\\n\"GP\";\"M\";17;\"U\";\"GT3\";\"T\";3;3;\"other\";\"services\";\"reputation\";\"mother\";1;1;0;\"no\";\"no\";\"no\";\"yes\";\"no\";\"yes\";\"yes\";\"no\";4;3;5;3;5;5;3;\"14\";\"15\";16\\n\"GP\";\"M\";17;\"R\";\"GT3\";\"T\";2;2;\"services\";\"other\";\"course\";\"mother\";4;1;0;\"no\";\"yes\";\"no\";\"no\";\"yes\";\"yes\";\"yes\";\"no\";4;4;5;5;5;4;8;\"11\";\"10\";10\\n\"GP\";\"F\";17;\"U\";\"GT3\";\"T\";4;4;\"teacher\";\"services\";\"course\";\"mother\";1;3;0;\"no\";\"yes\";\"yes\";\"yes\";\"yes\";\"yes\";\"yes\";\"no\";5;4;4;1;3;4;7;\"10\";\"9\";9\\n\"GP\";\"F\";17;\"U\";\"GT3\";\"T\";4;4;\"teacher\";\"teacher\";\"course\";\"mother\";2;3;0;\"no\";\"yes\";\"yes\";\"no\";\"no\";\"yes\";\"yes\";\"yes\";4;3;3;1;2;4;4;\"14\";\"14\";14\\n\"GP\";\"M\";18;\"U\";\"LE3\";\"T\";2;2;\"other\";\"other\";\"course\";\"mother\";1;4;0;\"no\";\"yes\";\"no\";\"yes\";\"yes\";\"yes\";\"yes\";\"no\";4;5;5;2;4;5;2;\"9\";\"8\";8\\n\"GP\";\"F\";17;\"R\";\"GT3\";\"T\";2;4;\"at_home\";\"other\";\"course\";\"father\";1;3;0;\"no\";\"yes\";\"no\";\"no\";\"yes\";\"yes\";\"yes\";\"yes\";4;4;3;1;1;5;7;\"12\";\"14\";14\\n\"GP\";\"F\";18;\"U\";\"GT3\";\"T\";3;3;\"services\";\"services\";\"home\";\"mother\";1;2;0;\"no\";\"no\";\"no\";\"yes\";\"yes\";\"yes\";\"yes\";\"no\";5;3;4;1;1;4;0;\"7\";\"0\";0\\n\"GP\";\"F\";18;\"U\";\"LE3\";\"T\";2;2;\"other\";\"other\";\"home\";\"other\";1;2;0;\"no\";\"no\";\"no\";\"yes\";\"no\";\"yes\";\"yes\";\"yes\";4;3;3;1;1;2;0;\"8\";\"8\";0\\n\"GP\";\"F\";18;\"R\";\"GT3\";\"T\";2;2;\"at_home\";\"other\";\"course\";\"mother\";2;4;0;\"no\";\"no\";\"no\";\"yes\";\"yes\";\"yes\";\"no\";\"no\";4;4;4;1;1;4;0;\"10\";\"9\";0\\n\"GP\";\"F\";17;\"U\";\"GT3\";\"T\";3;4;\"services\";\"other\";\"course\";\"mother\";1;3;0;\"no\";\"no\";\"no\";\"no\";\"yes\";\"yes\";\"yes\";\"no\";4;4;5;1;3;5;16;\"16\";\"15\";15\\n\"GP\";\"F\";19;\"R\";\"GT3\";\"A\";3;1;\"services\";\"at_home\";\"home\";\"other\";1;3;1;\"no\";\"no\";\"yes\";\"no\";\"yes\";\"yes\";\"no\";\"no\";5;4;3;1;2;5;12;\"14\";\"13\";13\\n\"GP\";\"F\";17;\"U\";\"GT3\";\"T\";3;2;\"other\";\"other\";\"home\";\"mother\";1;2;0;\"no\";\"yes\";\"yes\";\"no\";\"yes\";\"yes\";\"yes\";\"yes\";4;3;2;2;3;2;0;\"7\";\"8\";0\\n\"GP\";\"F\";18;\"U\";\"LE3\";\"T\";3;3;\"services\";\"services\";\"home\";\"mother\";1;4;0;\"no\";\"yes\";\"no\";\"no\";\"yes\";\"yes\";\"yes\";\"no\";5;3;3;1;1;1;7;\"16\";\"15\";17\\n\"GP\";\"F\";17;\"R\";\"GT3\";\"A\";3;2;\"other\";\"other\";\"home\";\"mother\";1;2;0;\"no\";\"yes\";\"yes\";\"no\";\"yes\";\"yes\";\"yes\";\"no\";4;3;3;2;3;2;4;\"9\";\"10\";10\\n\"GP\";\"F\";19;\"U\";\"GT3\";\"T\";2;1;\"services\";\"services\";\"home\";\"other\";1;3;1;\"no\";\"no\";\"yes\";\"yes\";\"yes\";\"yes\";\"yes\";\"yes\";4;3;4;1;3;3;4;\"11\";\"12\";11\\n\"GP\";\"M\";18;\"U\";\"GT3\";\"T\";4;4;\"teacher\";\"services\";\"home\";\"father\";1;2;1;\"no\";\"yes\";\"no\";\"yes\";\"yes\";\"yes\";\"yes\";\"no\";4;3;3;2;2;2;0;\"10\";\"10\";0\\n\"GP\";\"M\";18;\"U\";\"LE3\";\"T\";3;4;\"services\";\"other\";\"home\";\"mother\";1;2;0;\"no\";\"no\";\"no\";\"yes\";\"yes\";\"yes\";\"yes\";\"yes\";4;3;3;1;3;5;11;\"16\";\"15\";15\\n\"GP\";\"F\";17;\"U\";\"GT3\";\"A\";2;2;\"at_home\";\"at_home\";\"home\";\"father\";1;2;1;\"no\";\"yes\";\"no\";\"no\";\"yes\";\"yes\";\"yes\";\"yes\";3;3;1;1;2;4;0;\"9\";\"8\";0\\n\"GP\";\"F\";18;\"U\";\"GT3\";\"T\";2;3;\"at_home\";\"other\";\"course\";\"mother\";1;3;0;\"no\";\"yes\";\"no\";\"no\";\"yes\";\"yes\";\"yes\";\"no\";4;3;3;1;2;3;4;\"11\";\"10\";10\\n\"GP\";\"F\";18;\"U\";\"GT3\";\"T\";3;2;\"other\";\"services\";\"other\";\"mother\";1;3;0;\"no\";\"no\";\"no\";\"no\";\"yes\";\"yes\";\"yes\";\"yes\";5;4;3;2;3;1;7;\"13\";\"13\";14\\n\"GP\";\"M\";18;\"R\";\"GT3\";\"T\";4;3;\"teacher\";\"services\";\"course\";\"mother\";1;3;0;\"no\";\"no\";\"no\";\"no\";\"yes\";\"yes\";\"yes\";\"yes\";5;3;2;1;2;4;9;\"16\";\"15\";16\\n\"GP\";\"M\";18;\"U\";\"GT3\";\"T\";4;3;\"teacher\";\"other\";\"course\";\"mother\";1;3;0;\"no\";\"yes\";\"yes\";\"no\";\"yes\";\"yes\";\"yes\";\"yes\";5;4;5;2;3;5;0;\"10\";\"10\";9\\n\"GP\";\"F\";17;\"U\";\"GT3\";\"T\";4;3;\"health\";\"other\";\"reputation\";\"mother\";1;3;0;\"no\";\"yes\";\"yes\";\"yes\";\"yes\";\"yes\";\"yes\";\"yes\";4;4;3;1;3;4;0;\"13\";\"15\";15\\n\"MS\";\"M\";18;\"R\";\"GT3\";\"T\";3;2;\"other\";\"other\";\"course\";\"mother\";2;1;1;\"no\";\"yes\";\"no\";\"no\";\"no\";\"yes\";\"yes\";\"no\";2;5;5;5;5;5;10;\"11\";\"13\";13\\n\"MS\";\"M\";19;\"R\";\"GT3\";\"T\";1;1;\"other\";\"services\";\"home\";\"other\";3;2;3;\"no\";\"no\";\"no\";\"no\";\"yes\";\"yes\";\"yes\";\"no\";5;4;4;3;3;2;8;\"8\";\"7\";8\\n\"MS\";\"M\";17;\"U\";\"GT3\";\"T\";3;3;\"health\";\"other\";\"course\";\"mother\";2;2;0;\"no\";\"yes\";\"yes\";\"no\";\"yes\";\"yes\";\"yes\";\"no\";4;5;4;2;3;3;2;\"13\";\"13\";13\\n\"MS\";\"M\";18;\"U\";\"LE3\";\"T\";1;3;\"at_home\";\"services\";\"course\";\"mother\";1;1;1;\"no\";\"no\";\"no\";\"no\";\"yes\";\"no\";\"yes\";\"yes\";4;3;3;2;3;3;7;\"8\";\"7\";8\\n\"MS\";\"M\";19;\"R\";\"GT3\";\"T\";1;1;\"other\";\"other\";\"home\";\"other\";3;1;1;\"no\";\"yes\";\"no\";\"no\";\"yes\";\"yes\";\"yes\";\"no\";4;4;4;3;3;5;4;\"8\";\"8\";8\\n\"MS\";\"M\";17;\"R\";\"GT3\";\"T\";4;3;\"services\";\"other\";\"home\";\"mother\";2;2;0;\"no\";\"yes\";\"yes\";\"yes\";\"no\";\"yes\";\"yes\";\"yes\";4;5;5;1;3;2;4;\"13\";\"11\";11\\n\"MS\";\"F\";18;\"U\";\"GT3\";\"T\";3;3;\"services\";\"services\";\"course\";\"father\";1;2;0;\"no\";\"yes\";\"no\";\"no\";\"yes\";\"yes\";\"no\";\"yes\";5;3;4;1;1;5;0;\"10\";\"9\";9\\n\"MS\";\"F\";17;\"R\";\"GT3\";\"T\";4;4;\"teacher\";\"services\";\"other\";\"father\";2;2;0;\"no\";\"yes\";\"yes\";\"yes\";\"yes\";\"yes\";\"yes\";\"no\";4;3;3;1;2;5;4;\"12\";\"13\";13\\n\"MS\";\"F\";17;\"U\";\"LE3\";\"A\";3;2;\"services\";\"other\";\"reputation\";\"mother\";2;2;0;\"no\";\"no\";\"no\";\"no\";\"yes\";\"yes\";\"no\";\"yes\";1;2;3;1;2;5;2;\"12\";\"12\";11\\n\"MS\";\"M\";18;\"U\";\"LE3\";\"T\";1;1;\"other\";\"services\";\"home\";\"father\";2;1;0;\"no\";\"no\";\"no\";\"no\";\"no\";\"yes\";\"yes\";\"yes\";3;3;2;1;2;3;4;\"10\";\"10\";10\\n\"MS\";\"F\";18;\"U\";\"LE3\";\"T\";1;1;\"at_home\";\"services\";\"course\";\"father\";2;3;0;\"no\";\"no\";\"no\";\"no\";\"yes\";\"yes\";\"yes\";\"no\";5;3;2;1;1;4;0;\"18\";\"16\";16\\n\"MS\";\"F\";18;\"R\";\"LE3\";\"A\";1;4;\"at_home\";\"other\";\"course\";\"mother\";3;2;0;\"no\";\"no\";\"no\";\"no\";\"yes\";\"yes\";\"no\";\"yes\";4;3;4;1;4;5;0;\"13\";\"13\";13\\n\"MS\";\"M\";18;\"R\";\"LE3\";\"T\";1;1;\"at_home\";\"other\";\"other\";\"mother\";2;2;1;\"no\";\"no\";\"no\";\"yes\";\"no\";\"no\";\"no\";\"no\";4;4;3;2;3;5;2;\"13\";\"12\";12\\n\"MS\";\"F\";18;\"U\";\"GT3\";\"T\";3;3;\"services\";\"services\";\"other\";\"mother\";2;2;0;\"no\";\"yes\";\"no\";\"no\";\"yes\";\"yes\";\"yes\";\"yes\";4;3;2;1;3;3;0;\"11\";\"11\";10\\n\"MS\";\"F\";17;\"U\";\"LE3\";\"T\";4;4;\"at_home\";\"at_home\";\"course\";\"mother\";1;2;0;\"no\";\"yes\";\"yes\";\"yes\";\"yes\";\"yes\";\"yes\";\"yes\";2;3;4;1;1;1;0;\"16\";\"15\";15\\n\"MS\";\"F\";17;\"R\";\"GT3\";\"T\";1;2;\"other\";\"services\";\"course\";\"father\";2;2;0;\"no\";\"no\";\"no\";\"no\";\"no\";\"yes\";\"no\";\"no\";3;2;2;1;2;3;0;\"12\";\"11\";12\\n\"MS\";\"M\";18;\"R\";\"GT3\";\"T\";1;3;\"at_home\";\"other\";\"course\";\"mother\";2;2;0;\"no\";\"yes\";\"yes\";\"no\";\"yes\";\"yes\";\"no\";\"no\";3;3;4;2;4;3;4;\"10\";\"10\";10\\n\"MS\";\"M\";18;\"U\";\"LE3\";\"T\";4;4;\"teacher\";\"services\";\"other\";\"mother\";2;3;0;\"no\";\"no\";\"yes\";\"no\";\"yes\";\"yes\";\"yes\";\"yes\";4;2;2;2;2;5;0;\"13\";\"13\";13\\n\"MS\";\"F\";17;\"R\";\"GT3\";\"T\";1;1;\"other\";\"services\";\"reputation\";\"mother\";3;1;1;\"no\";\"yes\";\"yes\";\"no\";\"yes\";\"yes\";\"yes\";\"yes\";5;2;1;1;2;1;0;\"7\";\"6\";0\\n\"MS\";\"F\";18;\"U\";\"GT3\";\"T\";2;3;\"at_home\";\"services\";\"course\";\"father\";2;1;0;\"no\";\"yes\";\"yes\";\"no\";\"yes\";\"yes\";\"yes\";\"yes\";5;2;3;1;2;4;0;\"11\";\"10\";10\\n\"MS\";\"F\";18;\"R\";\"GT3\";\"T\";4;4;\"other\";\"teacher\";\"other\";\"father\";3;2;0;\"no\";\"yes\";\"yes\";\"no\";\"no\";\"yes\";\"yes\";\"yes\";3;2;2;4;2;5;10;\"14\";\"12\";11\\n\"MS\";\"F\";19;\"U\";\"LE3\";\"T\";3;2;\"services\";\"services\";\"home\";\"other\";2;2;2;\"no\";\"no\";\"no\";\"yes\";\"yes\";\"yes\";\"no\";\"yes\";3;2;2;1;1;3;4;\"7\";\"7\";9\\n\"MS\";\"M\";18;\"R\";\"LE3\";\"T\";1;2;\"at_home\";\"services\";\"other\";\"father\";3;1;0;\"no\";\"yes\";\"yes\";\"yes\";\"yes\";\"no\";\"yes\";\"yes\";4;3;3;2;3;3;3;\"14\";\"12\";12\\n\"MS\";\"F\";17;\"U\";\"GT3\";\"T\";2;2;\"other\";\"at_home\";\"home\";\"mother\";1;3;0;\"no\";\"no\";\"no\";\"yes\";\"yes\";\"yes\";\"no\";\"yes\";3;4;3;1;1;3;8;\"13\";\"11\";11\\n\"MS\";\"F\";17;\"R\";\"GT3\";\"T\";1;2;\"other\";\"other\";\"course\";\"mother\";1;1;0;\"no\";\"no\";\"no\";\"yes\";\"yes\";\"yes\";\"yes\";\"no\";3;5;5;1;3;1;14;\"6\";\"5\";5\\n\"MS\";\"F\";18;\"R\";\"LE3\";\"T\";4;4;\"other\";\"other\";\"reputation\";\"mother\";2;3;0;\"no\";\"no\";\"no\";\"no\";\"yes\";\"yes\";\"yes\";\"no\";5;4;4;1;1;1;0;\"19\";\"18\";19\\n\"MS\";\"F\";18;\"R\";\"GT3\";\"T\";1;1;\"other\";\"other\";\"home\";\"mother\";4;3;0;\"no\";\"no\";\"no\";\"no\";\"yes\";\"yes\";\"yes\";\"no\";4;3;2;1;2;4;2;\"8\";\"8\";10\\n\"MS\";\"F\";20;\"U\";\"GT3\";\"T\";4;2;\"health\";\"other\";\"course\";\"other\";2;3;2;\"no\";\"yes\";\"yes\";\"no\";\"no\";\"yes\";\"yes\";\"yes\";5;4;3;1;1;3;4;\"15\";\"14\";15\\n\"MS\";\"F\";18;\"R\";\"LE3\";\"T\";4;4;\"teacher\";\"services\";\"course\";\"mother\";1;2;0;\"no\";\"no\";\"yes\";\"yes\";\"yes\";\"yes\";\"yes\";\"no\";5;4;3;3;4;2;4;\"8\";\"9\";10\\n\"MS\";\"F\";18;\"U\";\"GT3\";\"T\";3;3;\"other\";\"other\";\"home\";\"mother\";1;2;0;\"no\";\"no\";\"yes\";\"no\";\"yes\";\"yes\";\"yes\";\"yes\";4;1;3;1;2;1;0;\"15\";\"15\";15\\n\"MS\";\"F\";17;\"R\";\"GT3\";\"T\";3;1;\"at_home\";\"other\";\"reputation\";\"mother\";1;2;0;\"no\";\"yes\";\"yes\";\"yes\";\"no\";\"yes\";\"yes\";\"no\";4;5;4;2;3;1;17;\"10\";\"10\";10\\n\"MS\";\"M\";18;\"U\";\"GT3\";\"T\";4;4;\"teacher\";\"teacher\";\"home\";\"father\";1;2;0;\"no\";\"no\";\"yes\";\"yes\";\"no\";\"yes\";\"yes\";\"no\";3;2;4;1;4;2;4;\"15\";\"14\";14\\n\"MS\";\"M\";18;\"R\";\"GT3\";\"T\";2;1;\"other\";\"other\";\"other\";\"mother\";2;1;0;\"no\";\"no\";\"no\";\"yes\";\"no\";\"yes\";\"yes\";\"yes\";4;4;3;1;3;5;5;\"7\";\"6\";7\\n\"MS\";\"M\";17;\"U\";\"GT3\";\"T\";2;3;\"other\";\"services\";\"home\";\"father\";2;2;0;\"no\";\"no\";\"no\";\"yes\";\"yes\";\"yes\";\"yes\";\"no\";4;4;3;1;1;3;2;\"11\";\"11\";10\\n\"MS\";\"M\";19;\"R\";\"GT3\";\"T\";1;1;\"other\";\"services\";\"other\";\"mother\";2;1;1;\"no\";\"no\";\"no\";\"no\";\"yes\";\"yes\";\"no\";\"no\";4;3;2;1;3;5;0;\"6\";\"5\";0\\n\"MS\";\"M\";18;\"R\";\"GT3\";\"T\";4;2;\"other\";\"other\";\"home\";\"father\";2;1;1;\"no\";\"no\";\"yes\";\"no\";\"yes\";\"yes\";\"no\";\"no\";5;4;3;4;3;3;14;\"6\";\"5\";5\\n\"MS\";\"F\";18;\"R\";\"GT3\";\"T\";2;2;\"at_home\";\"other\";\"other\";\"mother\";2;3;0;\"no\";\"no\";\"yes\";\"no\";\"yes\";\"yes\";\"no\";\"no\";5;3;3;1;3;4;2;\"10\";\"9\";10\\n\"MS\";\"F\";18;\"R\";\"GT3\";\"T\";4;4;\"teacher\";\"at_home\";\"reputation\";\"mother\";3;1;0;\"no\";\"yes\";\"yes\";\"yes\";\"yes\";\"yes\";\"yes\";\"yes\";4;4;3;2;2;5;7;\"6\";\"5\";6\\n\"MS\";\"F\";19;\"R\";\"GT3\";\"T\";2;3;\"services\";\"other\";\"course\";\"mother\";1;3;1;\"no\";\"no\";\"no\";\"yes\";\"no\";\"yes\";\"yes\";\"no\";5;4;2;1;2;5;0;\"7\";\"5\";0\\n\"MS\";\"F\";18;\"U\";\"LE3\";\"T\";3;1;\"teacher\";\"services\";\"course\";\"mother\";1;2;0;\"no\";\"yes\";\"yes\";\"no\";\"yes\";\"yes\";\"yes\";\"no\";4;3;4;1;1;1;0;\"7\";\"9\";8\\n\"MS\";\"F\";18;\"U\";\"GT3\";\"T\";1;1;\"other\";\"other\";\"course\";\"mother\";2;2;1;\"no\";\"no\";\"no\";\"yes\";\"yes\";\"yes\";\"no\";\"no\";1;1;1;1;1;5;0;\"6\";\"5\";0\\n\"MS\";\"M\";20;\"U\";\"LE3\";\"A\";2;2;\"services\";\"services\";\"course\";\"other\";1;2;2;\"no\";\"yes\";\"yes\";\"no\";\"yes\";\"yes\";\"no\";\"no\";5;5;4;4;5;4;11;\"9\";\"9\";9\\n\"MS\";\"M\";17;\"U\";\"LE3\";\"T\";3;1;\"services\";\"services\";\"course\";\"mother\";2;1;0;\"no\";\"no\";\"no\";\"no\";\"no\";\"yes\";\"yes\";\"no\";2;4;5;3;4;2;3;\"14\";\"16\";16\\n\"MS\";\"M\";21;\"R\";\"GT3\";\"T\";1;1;\"other\";\"other\";\"course\";\"other\";1;1;3;\"no\";\"no\";\"no\";\"no\";\"no\";\"yes\";\"no\";\"no\";5;5;3;3;3;3;3;\"10\";\"8\";7\\n\"MS\";\"M\";18;\"R\";\"LE3\";\"T\";3;2;\"services\";\"other\";\"course\";\"mother\";3;1;0;\"no\";\"no\";\"no\";\"no\";\"no\";\"yes\";\"yes\";\"no\";4;4;1;3;4;5;0;\"11\";\"12\";10\\n\"MS\";\"M\";19;\"U\";\"LE3\";\"T\";1;1;\"other\";\"at_home\";\"course\";\"father\";1;1;0;\"no\";\"no\";\"no\";\"no\";\"yes\";\"yes\";\"yes\";\"no\";3;2;3;3;3;5;5;\"8\";\"9\";9\\n'}"
            ]
          },
          "metadata": {
            "tags": []
          },
          "execution_count": 3
        }
      ]
    },
    {
      "cell_type": "code",
      "metadata": {
        "id": "F8KrhyjzLeCr",
        "colab_type": "code",
        "colab": {}
      },
      "source": [
        "student_mat = pd.read_csv('student-mat.csv', sep=';')\n",
        "data = student_mat.copy()"
      ],
      "execution_count": 0,
      "outputs": []
    },
    {
      "cell_type": "code",
      "metadata": {
        "id": "1TS8bZn-LvnH",
        "colab_type": "code",
        "outputId": "42d6720e-7c76-4c40-8773-5bf8bc05a0cc",
        "colab": {
          "base_uri": "https://localhost:8080/",
          "height": 379
        }
      },
      "source": [
        "data.head(10)"
      ],
      "execution_count": 5,
      "outputs": [
        {
          "output_type": "execute_result",
          "data": {
            "text/html": [
              "<div>\n",
              "<style scoped>\n",
              "    .dataframe tbody tr th:only-of-type {\n",
              "        vertical-align: middle;\n",
              "    }\n",
              "\n",
              "    .dataframe tbody tr th {\n",
              "        vertical-align: top;\n",
              "    }\n",
              "\n",
              "    .dataframe thead th {\n",
              "        text-align: right;\n",
              "    }\n",
              "</style>\n",
              "<table border=\"1\" class=\"dataframe\">\n",
              "  <thead>\n",
              "    <tr style=\"text-align: right;\">\n",
              "      <th></th>\n",
              "      <th>school</th>\n",
              "      <th>sex</th>\n",
              "      <th>age</th>\n",
              "      <th>address</th>\n",
              "      <th>famsize</th>\n",
              "      <th>Pstatus</th>\n",
              "      <th>Medu</th>\n",
              "      <th>Fedu</th>\n",
              "      <th>Mjob</th>\n",
              "      <th>Fjob</th>\n",
              "      <th>reason</th>\n",
              "      <th>guardian</th>\n",
              "      <th>traveltime</th>\n",
              "      <th>studytime</th>\n",
              "      <th>failures</th>\n",
              "      <th>schoolsup</th>\n",
              "      <th>famsup</th>\n",
              "      <th>paid</th>\n",
              "      <th>activities</th>\n",
              "      <th>nursery</th>\n",
              "      <th>higher</th>\n",
              "      <th>internet</th>\n",
              "      <th>romantic</th>\n",
              "      <th>famrel</th>\n",
              "      <th>freetime</th>\n",
              "      <th>goout</th>\n",
              "      <th>Dalc</th>\n",
              "      <th>Walc</th>\n",
              "      <th>health</th>\n",
              "      <th>absences</th>\n",
              "      <th>G1</th>\n",
              "      <th>G2</th>\n",
              "      <th>G3</th>\n",
              "    </tr>\n",
              "  </thead>\n",
              "  <tbody>\n",
              "    <tr>\n",
              "      <th>0</th>\n",
              "      <td>GP</td>\n",
              "      <td>F</td>\n",
              "      <td>18</td>\n",
              "      <td>U</td>\n",
              "      <td>GT3</td>\n",
              "      <td>A</td>\n",
              "      <td>4</td>\n",
              "      <td>4</td>\n",
              "      <td>at_home</td>\n",
              "      <td>teacher</td>\n",
              "      <td>course</td>\n",
              "      <td>mother</td>\n",
              "      <td>2</td>\n",
              "      <td>2</td>\n",
              "      <td>0</td>\n",
              "      <td>yes</td>\n",
              "      <td>no</td>\n",
              "      <td>no</td>\n",
              "      <td>no</td>\n",
              "      <td>yes</td>\n",
              "      <td>yes</td>\n",
              "      <td>no</td>\n",
              "      <td>no</td>\n",
              "      <td>4</td>\n",
              "      <td>3</td>\n",
              "      <td>4</td>\n",
              "      <td>1</td>\n",
              "      <td>1</td>\n",
              "      <td>3</td>\n",
              "      <td>6</td>\n",
              "      <td>5</td>\n",
              "      <td>6</td>\n",
              "      <td>6</td>\n",
              "    </tr>\n",
              "    <tr>\n",
              "      <th>1</th>\n",
              "      <td>GP</td>\n",
              "      <td>F</td>\n",
              "      <td>17</td>\n",
              "      <td>U</td>\n",
              "      <td>GT3</td>\n",
              "      <td>T</td>\n",
              "      <td>1</td>\n",
              "      <td>1</td>\n",
              "      <td>at_home</td>\n",
              "      <td>other</td>\n",
              "      <td>course</td>\n",
              "      <td>father</td>\n",
              "      <td>1</td>\n",
              "      <td>2</td>\n",
              "      <td>0</td>\n",
              "      <td>no</td>\n",
              "      <td>yes</td>\n",
              "      <td>no</td>\n",
              "      <td>no</td>\n",
              "      <td>no</td>\n",
              "      <td>yes</td>\n",
              "      <td>yes</td>\n",
              "      <td>no</td>\n",
              "      <td>5</td>\n",
              "      <td>3</td>\n",
              "      <td>3</td>\n",
              "      <td>1</td>\n",
              "      <td>1</td>\n",
              "      <td>3</td>\n",
              "      <td>4</td>\n",
              "      <td>5</td>\n",
              "      <td>5</td>\n",
              "      <td>6</td>\n",
              "    </tr>\n",
              "    <tr>\n",
              "      <th>2</th>\n",
              "      <td>GP</td>\n",
              "      <td>F</td>\n",
              "      <td>15</td>\n",
              "      <td>U</td>\n",
              "      <td>LE3</td>\n",
              "      <td>T</td>\n",
              "      <td>1</td>\n",
              "      <td>1</td>\n",
              "      <td>at_home</td>\n",
              "      <td>other</td>\n",
              "      <td>other</td>\n",
              "      <td>mother</td>\n",
              "      <td>1</td>\n",
              "      <td>2</td>\n",
              "      <td>3</td>\n",
              "      <td>yes</td>\n",
              "      <td>no</td>\n",
              "      <td>yes</td>\n",
              "      <td>no</td>\n",
              "      <td>yes</td>\n",
              "      <td>yes</td>\n",
              "      <td>yes</td>\n",
              "      <td>no</td>\n",
              "      <td>4</td>\n",
              "      <td>3</td>\n",
              "      <td>2</td>\n",
              "      <td>2</td>\n",
              "      <td>3</td>\n",
              "      <td>3</td>\n",
              "      <td>10</td>\n",
              "      <td>7</td>\n",
              "      <td>8</td>\n",
              "      <td>10</td>\n",
              "    </tr>\n",
              "    <tr>\n",
              "      <th>3</th>\n",
              "      <td>GP</td>\n",
              "      <td>F</td>\n",
              "      <td>15</td>\n",
              "      <td>U</td>\n",
              "      <td>GT3</td>\n",
              "      <td>T</td>\n",
              "      <td>4</td>\n",
              "      <td>2</td>\n",
              "      <td>health</td>\n",
              "      <td>services</td>\n",
              "      <td>home</td>\n",
              "      <td>mother</td>\n",
              "      <td>1</td>\n",
              "      <td>3</td>\n",
              "      <td>0</td>\n",
              "      <td>no</td>\n",
              "      <td>yes</td>\n",
              "      <td>yes</td>\n",
              "      <td>yes</td>\n",
              "      <td>yes</td>\n",
              "      <td>yes</td>\n",
              "      <td>yes</td>\n",
              "      <td>yes</td>\n",
              "      <td>3</td>\n",
              "      <td>2</td>\n",
              "      <td>2</td>\n",
              "      <td>1</td>\n",
              "      <td>1</td>\n",
              "      <td>5</td>\n",
              "      <td>2</td>\n",
              "      <td>15</td>\n",
              "      <td>14</td>\n",
              "      <td>15</td>\n",
              "    </tr>\n",
              "    <tr>\n",
              "      <th>4</th>\n",
              "      <td>GP</td>\n",
              "      <td>F</td>\n",
              "      <td>16</td>\n",
              "      <td>U</td>\n",
              "      <td>GT3</td>\n",
              "      <td>T</td>\n",
              "      <td>3</td>\n",
              "      <td>3</td>\n",
              "      <td>other</td>\n",
              "      <td>other</td>\n",
              "      <td>home</td>\n",
              "      <td>father</td>\n",
              "      <td>1</td>\n",
              "      <td>2</td>\n",
              "      <td>0</td>\n",
              "      <td>no</td>\n",
              "      <td>yes</td>\n",
              "      <td>yes</td>\n",
              "      <td>no</td>\n",
              "      <td>yes</td>\n",
              "      <td>yes</td>\n",
              "      <td>no</td>\n",
              "      <td>no</td>\n",
              "      <td>4</td>\n",
              "      <td>3</td>\n",
              "      <td>2</td>\n",
              "      <td>1</td>\n",
              "      <td>2</td>\n",
              "      <td>5</td>\n",
              "      <td>4</td>\n",
              "      <td>6</td>\n",
              "      <td>10</td>\n",
              "      <td>10</td>\n",
              "    </tr>\n",
              "    <tr>\n",
              "      <th>5</th>\n",
              "      <td>GP</td>\n",
              "      <td>M</td>\n",
              "      <td>16</td>\n",
              "      <td>U</td>\n",
              "      <td>LE3</td>\n",
              "      <td>T</td>\n",
              "      <td>4</td>\n",
              "      <td>3</td>\n",
              "      <td>services</td>\n",
              "      <td>other</td>\n",
              "      <td>reputation</td>\n",
              "      <td>mother</td>\n",
              "      <td>1</td>\n",
              "      <td>2</td>\n",
              "      <td>0</td>\n",
              "      <td>no</td>\n",
              "      <td>yes</td>\n",
              "      <td>yes</td>\n",
              "      <td>yes</td>\n",
              "      <td>yes</td>\n",
              "      <td>yes</td>\n",
              "      <td>yes</td>\n",
              "      <td>no</td>\n",
              "      <td>5</td>\n",
              "      <td>4</td>\n",
              "      <td>2</td>\n",
              "      <td>1</td>\n",
              "      <td>2</td>\n",
              "      <td>5</td>\n",
              "      <td>10</td>\n",
              "      <td>15</td>\n",
              "      <td>15</td>\n",
              "      <td>15</td>\n",
              "    </tr>\n",
              "    <tr>\n",
              "      <th>6</th>\n",
              "      <td>GP</td>\n",
              "      <td>M</td>\n",
              "      <td>16</td>\n",
              "      <td>U</td>\n",
              "      <td>LE3</td>\n",
              "      <td>T</td>\n",
              "      <td>2</td>\n",
              "      <td>2</td>\n",
              "      <td>other</td>\n",
              "      <td>other</td>\n",
              "      <td>home</td>\n",
              "      <td>mother</td>\n",
              "      <td>1</td>\n",
              "      <td>2</td>\n",
              "      <td>0</td>\n",
              "      <td>no</td>\n",
              "      <td>no</td>\n",
              "      <td>no</td>\n",
              "      <td>no</td>\n",
              "      <td>yes</td>\n",
              "      <td>yes</td>\n",
              "      <td>yes</td>\n",
              "      <td>no</td>\n",
              "      <td>4</td>\n",
              "      <td>4</td>\n",
              "      <td>4</td>\n",
              "      <td>1</td>\n",
              "      <td>1</td>\n",
              "      <td>3</td>\n",
              "      <td>0</td>\n",
              "      <td>12</td>\n",
              "      <td>12</td>\n",
              "      <td>11</td>\n",
              "    </tr>\n",
              "    <tr>\n",
              "      <th>7</th>\n",
              "      <td>GP</td>\n",
              "      <td>F</td>\n",
              "      <td>17</td>\n",
              "      <td>U</td>\n",
              "      <td>GT3</td>\n",
              "      <td>A</td>\n",
              "      <td>4</td>\n",
              "      <td>4</td>\n",
              "      <td>other</td>\n",
              "      <td>teacher</td>\n",
              "      <td>home</td>\n",
              "      <td>mother</td>\n",
              "      <td>2</td>\n",
              "      <td>2</td>\n",
              "      <td>0</td>\n",
              "      <td>yes</td>\n",
              "      <td>yes</td>\n",
              "      <td>no</td>\n",
              "      <td>no</td>\n",
              "      <td>yes</td>\n",
              "      <td>yes</td>\n",
              "      <td>no</td>\n",
              "      <td>no</td>\n",
              "      <td>4</td>\n",
              "      <td>1</td>\n",
              "      <td>4</td>\n",
              "      <td>1</td>\n",
              "      <td>1</td>\n",
              "      <td>1</td>\n",
              "      <td>6</td>\n",
              "      <td>6</td>\n",
              "      <td>5</td>\n",
              "      <td>6</td>\n",
              "    </tr>\n",
              "    <tr>\n",
              "      <th>8</th>\n",
              "      <td>GP</td>\n",
              "      <td>M</td>\n",
              "      <td>15</td>\n",
              "      <td>U</td>\n",
              "      <td>LE3</td>\n",
              "      <td>A</td>\n",
              "      <td>3</td>\n",
              "      <td>2</td>\n",
              "      <td>services</td>\n",
              "      <td>other</td>\n",
              "      <td>home</td>\n",
              "      <td>mother</td>\n",
              "      <td>1</td>\n",
              "      <td>2</td>\n",
              "      <td>0</td>\n",
              "      <td>no</td>\n",
              "      <td>yes</td>\n",
              "      <td>yes</td>\n",
              "      <td>no</td>\n",
              "      <td>yes</td>\n",
              "      <td>yes</td>\n",
              "      <td>yes</td>\n",
              "      <td>no</td>\n",
              "      <td>4</td>\n",
              "      <td>2</td>\n",
              "      <td>2</td>\n",
              "      <td>1</td>\n",
              "      <td>1</td>\n",
              "      <td>1</td>\n",
              "      <td>0</td>\n",
              "      <td>16</td>\n",
              "      <td>18</td>\n",
              "      <td>19</td>\n",
              "    </tr>\n",
              "    <tr>\n",
              "      <th>9</th>\n",
              "      <td>GP</td>\n",
              "      <td>M</td>\n",
              "      <td>15</td>\n",
              "      <td>U</td>\n",
              "      <td>GT3</td>\n",
              "      <td>T</td>\n",
              "      <td>3</td>\n",
              "      <td>4</td>\n",
              "      <td>other</td>\n",
              "      <td>other</td>\n",
              "      <td>home</td>\n",
              "      <td>mother</td>\n",
              "      <td>1</td>\n",
              "      <td>2</td>\n",
              "      <td>0</td>\n",
              "      <td>no</td>\n",
              "      <td>yes</td>\n",
              "      <td>yes</td>\n",
              "      <td>yes</td>\n",
              "      <td>yes</td>\n",
              "      <td>yes</td>\n",
              "      <td>yes</td>\n",
              "      <td>no</td>\n",
              "      <td>5</td>\n",
              "      <td>5</td>\n",
              "      <td>1</td>\n",
              "      <td>1</td>\n",
              "      <td>1</td>\n",
              "      <td>5</td>\n",
              "      <td>0</td>\n",
              "      <td>14</td>\n",
              "      <td>15</td>\n",
              "      <td>15</td>\n",
              "    </tr>\n",
              "  </tbody>\n",
              "</table>\n",
              "</div>"
            ],
            "text/plain": [
              "  school sex  age address famsize Pstatus  ...  Walc  health absences  G1  G2  G3\n",
              "0     GP   F   18       U     GT3       A  ...     1       3        6   5   6   6\n",
              "1     GP   F   17       U     GT3       T  ...     1       3        4   5   5   6\n",
              "2     GP   F   15       U     LE3       T  ...     3       3       10   7   8  10\n",
              "3     GP   F   15       U     GT3       T  ...     1       5        2  15  14  15\n",
              "4     GP   F   16       U     GT3       T  ...     2       5        4   6  10  10\n",
              "5     GP   M   16       U     LE3       T  ...     2       5       10  15  15  15\n",
              "6     GP   M   16       U     LE3       T  ...     1       3        0  12  12  11\n",
              "7     GP   F   17       U     GT3       A  ...     1       1        6   6   5   6\n",
              "8     GP   M   15       U     LE3       A  ...     1       1        0  16  18  19\n",
              "9     GP   M   15       U     GT3       T  ...     1       5        0  14  15  15\n",
              "\n",
              "[10 rows x 33 columns]"
            ]
          },
          "metadata": {
            "tags": []
          },
          "execution_count": 5
        }
      ]
    },
    {
      "cell_type": "code",
      "metadata": {
        "id": "1xWUUbxoVv7L",
        "colab_type": "code",
        "colab": {
          "base_uri": "https://localhost:8080/",
          "height": 317
        },
        "outputId": "5df3ccab-7176-4109-f673-b2b85849b280"
      },
      "source": [
        "data.describe()"
      ],
      "execution_count": 6,
      "outputs": [
        {
          "output_type": "execute_result",
          "data": {
            "text/html": [
              "<div>\n",
              "<style scoped>\n",
              "    .dataframe tbody tr th:only-of-type {\n",
              "        vertical-align: middle;\n",
              "    }\n",
              "\n",
              "    .dataframe tbody tr th {\n",
              "        vertical-align: top;\n",
              "    }\n",
              "\n",
              "    .dataframe thead th {\n",
              "        text-align: right;\n",
              "    }\n",
              "</style>\n",
              "<table border=\"1\" class=\"dataframe\">\n",
              "  <thead>\n",
              "    <tr style=\"text-align: right;\">\n",
              "      <th></th>\n",
              "      <th>age</th>\n",
              "      <th>Medu</th>\n",
              "      <th>Fedu</th>\n",
              "      <th>traveltime</th>\n",
              "      <th>studytime</th>\n",
              "      <th>failures</th>\n",
              "      <th>famrel</th>\n",
              "      <th>freetime</th>\n",
              "      <th>goout</th>\n",
              "      <th>Dalc</th>\n",
              "      <th>Walc</th>\n",
              "      <th>health</th>\n",
              "      <th>absences</th>\n",
              "      <th>G1</th>\n",
              "      <th>G2</th>\n",
              "      <th>G3</th>\n",
              "    </tr>\n",
              "  </thead>\n",
              "  <tbody>\n",
              "    <tr>\n",
              "      <th>count</th>\n",
              "      <td>395.000000</td>\n",
              "      <td>395.000000</td>\n",
              "      <td>395.000000</td>\n",
              "      <td>395.000000</td>\n",
              "      <td>395.000000</td>\n",
              "      <td>395.000000</td>\n",
              "      <td>395.000000</td>\n",
              "      <td>395.000000</td>\n",
              "      <td>395.000000</td>\n",
              "      <td>395.000000</td>\n",
              "      <td>395.000000</td>\n",
              "      <td>395.000000</td>\n",
              "      <td>395.000000</td>\n",
              "      <td>395.000000</td>\n",
              "      <td>395.000000</td>\n",
              "      <td>395.000000</td>\n",
              "    </tr>\n",
              "    <tr>\n",
              "      <th>mean</th>\n",
              "      <td>16.696203</td>\n",
              "      <td>2.749367</td>\n",
              "      <td>2.521519</td>\n",
              "      <td>1.448101</td>\n",
              "      <td>2.035443</td>\n",
              "      <td>0.334177</td>\n",
              "      <td>3.944304</td>\n",
              "      <td>3.235443</td>\n",
              "      <td>3.108861</td>\n",
              "      <td>1.481013</td>\n",
              "      <td>2.291139</td>\n",
              "      <td>3.554430</td>\n",
              "      <td>5.708861</td>\n",
              "      <td>10.908861</td>\n",
              "      <td>10.713924</td>\n",
              "      <td>10.415190</td>\n",
              "    </tr>\n",
              "    <tr>\n",
              "      <th>std</th>\n",
              "      <td>1.276043</td>\n",
              "      <td>1.094735</td>\n",
              "      <td>1.088201</td>\n",
              "      <td>0.697505</td>\n",
              "      <td>0.839240</td>\n",
              "      <td>0.743651</td>\n",
              "      <td>0.896659</td>\n",
              "      <td>0.998862</td>\n",
              "      <td>1.113278</td>\n",
              "      <td>0.890741</td>\n",
              "      <td>1.287897</td>\n",
              "      <td>1.390303</td>\n",
              "      <td>8.003096</td>\n",
              "      <td>3.319195</td>\n",
              "      <td>3.761505</td>\n",
              "      <td>4.581443</td>\n",
              "    </tr>\n",
              "    <tr>\n",
              "      <th>min</th>\n",
              "      <td>15.000000</td>\n",
              "      <td>0.000000</td>\n",
              "      <td>0.000000</td>\n",
              "      <td>1.000000</td>\n",
              "      <td>1.000000</td>\n",
              "      <td>0.000000</td>\n",
              "      <td>1.000000</td>\n",
              "      <td>1.000000</td>\n",
              "      <td>1.000000</td>\n",
              "      <td>1.000000</td>\n",
              "      <td>1.000000</td>\n",
              "      <td>1.000000</td>\n",
              "      <td>0.000000</td>\n",
              "      <td>3.000000</td>\n",
              "      <td>0.000000</td>\n",
              "      <td>0.000000</td>\n",
              "    </tr>\n",
              "    <tr>\n",
              "      <th>25%</th>\n",
              "      <td>16.000000</td>\n",
              "      <td>2.000000</td>\n",
              "      <td>2.000000</td>\n",
              "      <td>1.000000</td>\n",
              "      <td>1.000000</td>\n",
              "      <td>0.000000</td>\n",
              "      <td>4.000000</td>\n",
              "      <td>3.000000</td>\n",
              "      <td>2.000000</td>\n",
              "      <td>1.000000</td>\n",
              "      <td>1.000000</td>\n",
              "      <td>3.000000</td>\n",
              "      <td>0.000000</td>\n",
              "      <td>8.000000</td>\n",
              "      <td>9.000000</td>\n",
              "      <td>8.000000</td>\n",
              "    </tr>\n",
              "    <tr>\n",
              "      <th>50%</th>\n",
              "      <td>17.000000</td>\n",
              "      <td>3.000000</td>\n",
              "      <td>2.000000</td>\n",
              "      <td>1.000000</td>\n",
              "      <td>2.000000</td>\n",
              "      <td>0.000000</td>\n",
              "      <td>4.000000</td>\n",
              "      <td>3.000000</td>\n",
              "      <td>3.000000</td>\n",
              "      <td>1.000000</td>\n",
              "      <td>2.000000</td>\n",
              "      <td>4.000000</td>\n",
              "      <td>4.000000</td>\n",
              "      <td>11.000000</td>\n",
              "      <td>11.000000</td>\n",
              "      <td>11.000000</td>\n",
              "    </tr>\n",
              "    <tr>\n",
              "      <th>75%</th>\n",
              "      <td>18.000000</td>\n",
              "      <td>4.000000</td>\n",
              "      <td>3.000000</td>\n",
              "      <td>2.000000</td>\n",
              "      <td>2.000000</td>\n",
              "      <td>0.000000</td>\n",
              "      <td>5.000000</td>\n",
              "      <td>4.000000</td>\n",
              "      <td>4.000000</td>\n",
              "      <td>2.000000</td>\n",
              "      <td>3.000000</td>\n",
              "      <td>5.000000</td>\n",
              "      <td>8.000000</td>\n",
              "      <td>13.000000</td>\n",
              "      <td>13.000000</td>\n",
              "      <td>14.000000</td>\n",
              "    </tr>\n",
              "    <tr>\n",
              "      <th>max</th>\n",
              "      <td>22.000000</td>\n",
              "      <td>4.000000</td>\n",
              "      <td>4.000000</td>\n",
              "      <td>4.000000</td>\n",
              "      <td>4.000000</td>\n",
              "      <td>3.000000</td>\n",
              "      <td>5.000000</td>\n",
              "      <td>5.000000</td>\n",
              "      <td>5.000000</td>\n",
              "      <td>5.000000</td>\n",
              "      <td>5.000000</td>\n",
              "      <td>5.000000</td>\n",
              "      <td>75.000000</td>\n",
              "      <td>19.000000</td>\n",
              "      <td>19.000000</td>\n",
              "      <td>20.000000</td>\n",
              "    </tr>\n",
              "  </tbody>\n",
              "</table>\n",
              "</div>"
            ],
            "text/plain": [
              "              age        Medu        Fedu  ...          G1          G2          G3\n",
              "count  395.000000  395.000000  395.000000  ...  395.000000  395.000000  395.000000\n",
              "mean    16.696203    2.749367    2.521519  ...   10.908861   10.713924   10.415190\n",
              "std      1.276043    1.094735    1.088201  ...    3.319195    3.761505    4.581443\n",
              "min     15.000000    0.000000    0.000000  ...    3.000000    0.000000    0.000000\n",
              "25%     16.000000    2.000000    2.000000  ...    8.000000    9.000000    8.000000\n",
              "50%     17.000000    3.000000    2.000000  ...   11.000000   11.000000   11.000000\n",
              "75%     18.000000    4.000000    3.000000  ...   13.000000   13.000000   14.000000\n",
              "max     22.000000    4.000000    4.000000  ...   19.000000   19.000000   20.000000\n",
              "\n",
              "[8 rows x 16 columns]"
            ]
          },
          "metadata": {
            "tags": []
          },
          "execution_count": 6
        }
      ]
    },
    {
      "cell_type": "code",
      "metadata": {
        "id": "Jcy951rBM0N0",
        "colab_type": "code",
        "outputId": "e2b00640-5bd4-449c-958c-7e0491af3d49",
        "colab": {
          "base_uri": "https://localhost:8080/",
          "height": 697
        }
      },
      "source": [
        "data.info()"
      ],
      "execution_count": 7,
      "outputs": [
        {
          "output_type": "stream",
          "text": [
            "<class 'pandas.core.frame.DataFrame'>\n",
            "RangeIndex: 395 entries, 0 to 394\n",
            "Data columns (total 33 columns):\n",
            " #   Column      Non-Null Count  Dtype \n",
            "---  ------      --------------  ----- \n",
            " 0   school      395 non-null    object\n",
            " 1   sex         395 non-null    object\n",
            " 2   age         395 non-null    int64 \n",
            " 3   address     395 non-null    object\n",
            " 4   famsize     395 non-null    object\n",
            " 5   Pstatus     395 non-null    object\n",
            " 6   Medu        395 non-null    int64 \n",
            " 7   Fedu        395 non-null    int64 \n",
            " 8   Mjob        395 non-null    object\n",
            " 9   Fjob        395 non-null    object\n",
            " 10  reason      395 non-null    object\n",
            " 11  guardian    395 non-null    object\n",
            " 12  traveltime  395 non-null    int64 \n",
            " 13  studytime   395 non-null    int64 \n",
            " 14  failures    395 non-null    int64 \n",
            " 15  schoolsup   395 non-null    object\n",
            " 16  famsup      395 non-null    object\n",
            " 17  paid        395 non-null    object\n",
            " 18  activities  395 non-null    object\n",
            " 19  nursery     395 non-null    object\n",
            " 20  higher      395 non-null    object\n",
            " 21  internet    395 non-null    object\n",
            " 22  romantic    395 non-null    object\n",
            " 23  famrel      395 non-null    int64 \n",
            " 24  freetime    395 non-null    int64 \n",
            " 25  goout       395 non-null    int64 \n",
            " 26  Dalc        395 non-null    int64 \n",
            " 27  Walc        395 non-null    int64 \n",
            " 28  health      395 non-null    int64 \n",
            " 29  absences    395 non-null    int64 \n",
            " 30  G1          395 non-null    int64 \n",
            " 31  G2          395 non-null    int64 \n",
            " 32  G3          395 non-null    int64 \n",
            "dtypes: int64(16), object(17)\n",
            "memory usage: 102.0+ KB\n"
          ],
          "name": "stdout"
        }
      ]
    },
    {
      "cell_type": "code",
      "metadata": {
        "id": "pBvpNchBLxVU",
        "colab_type": "code",
        "outputId": "6e9fc391-74c0-4844-ef8b-a5e26e7b8277",
        "colab": {
          "base_uri": "https://localhost:8080/",
          "height": 68
        }
      },
      "source": [
        "data['school'].value_counts()"
      ],
      "execution_count": 8,
      "outputs": [
        {
          "output_type": "execute_result",
          "data": {
            "text/plain": [
              "GP    349\n",
              "MS     46\n",
              "Name: school, dtype: int64"
            ]
          },
          "metadata": {
            "tags": []
          },
          "execution_count": 8
        }
      ]
    },
    {
      "cell_type": "code",
      "metadata": {
        "id": "QYjg0SEENNQX",
        "colab_type": "code",
        "outputId": "938a3425-6296-4afb-ffa8-f6ac21a645e2",
        "colab": {
          "base_uri": "https://localhost:8080/",
          "height": 204
        }
      },
      "source": [
        "school_diff = data.groupby('school')['G3'].mean()\n",
        "schools_std = data.groupby('school')['G3'].std()\n",
        "print('Average grade per'), print(school_diff), \n",
        "print('\\nStandard Deviation per')\n",
        "print(schools_std)"
      ],
      "execution_count": 9,
      "outputs": [
        {
          "output_type": "stream",
          "text": [
            "Average grade per\n",
            "school\n",
            "GP    10.489971\n",
            "MS     9.847826\n",
            "Name: G3, dtype: float64\n",
            "\n",
            "Standard Deviation per\n",
            "school\n",
            "GP    4.625397\n",
            "MS    4.237229\n",
            "Name: G3, dtype: float64\n"
          ],
          "name": "stdout"
        }
      ]
    },
    {
      "cell_type": "markdown",
      "metadata": {
        "id": "_OSM6qx-sYIw",
        "colab_type": "text"
      },
      "source": [
        "This dataset contains the information related to the schools attended by the sampled students. This information may be useful to our prediction as long as one school tend to differ consistently from the other (e.g. better teaching, different grading policies, etc.), thus acting as an *instrumental variable* for other unobserved attributes. However, **if the students from both these schools do not differ significantly in terms of performance**, since it is too \"geographically stringent\" to generalize well, **we may as well drop this attribute** altogether.\n",
        "\n",
        "Therefore, via an **independent t-test**, I'll test the **null hypothesis** H0 that these schools have, on average, similarly performing students."
      ]
    },
    {
      "cell_type": "code",
      "metadata": {
        "id": "gPO-6mg7jCD-",
        "colab_type": "code",
        "outputId": "3fe8c4cd-9776-4505-ad98-77b4f6cb82f2",
        "colab": {
          "base_uri": "https://localhost:8080/",
          "height": 295
        }
      },
      "source": [
        "sns.violinplot(x='school', y='G3', data=data, saturation=0.6)\n",
        "plt.title('Grades distribution per school')\n",
        "plt.ylabel('Grades')\n",
        "plt.ylim([0,20])\n",
        "plt.grid(linestyle=':', color='grey')\n",
        "plt.show()"
      ],
      "execution_count": 10,
      "outputs": [
        {
          "output_type": "display_data",
          "data": {
            "image/png": "[encoded data removed]",
            "text/plain": [
              "<Figure size 432x288 with 1 Axes>"
            ]
          },
          "metadata": {
            "tags": [],
            "needs_background": "light"
          }
        }
      ]
    },
    {
      "cell_type": "code",
      "metadata": {
        "id": "6_esTxuapqXj",
        "colab_type": "code",
        "outputId": "d4b1282d-1fbe-4540-df90-5883e822348d",
        "colab": {
          "base_uri": "https://localhost:8080/",
          "height": 51
        }
      },
      "source": [
        "from scipy.stats import ttest_ind\n",
        "\n",
        "GP_grades = data[data['school']=='GP'].G3\n",
        "MS_grades = data[data['school']=='MS'].G3\n",
        "\n",
        "ttest, pval = ttest_ind(GP_grades, MS_grades)\n",
        "\n",
        "if pval < 0.05:\n",
        "  print('H0 rejected\\nP-value = ' + str(pval))\n",
        "else:\n",
        "  print('H0 not rejected, we can drop the ''school'' attribute\\nP-value = ' + str(pval))"
      ],
      "execution_count": 11,
      "outputs": [
        {
          "output_type": "stream",
          "text": [
            "H0 not rejected, we can drop the school attribute\n",
            "P-value = 0.3722262371311469\n"
          ],
          "name": "stdout"
        }
      ]
    },
    {
      "cell_type": "code",
      "metadata": {
        "id": "eHrZKuQAP9CH",
        "colab_type": "code",
        "outputId": "c27fdcea-e225-4f09-9d58-711ef0ae6c5b",
        "colab": {
          "base_uri": "https://localhost:8080/",
          "height": 224
        }
      },
      "source": [
        "data.drop(['school'], axis=1, inplace=True)\n",
        "data.head()"
      ],
      "execution_count": 12,
      "outputs": [
        {
          "output_type": "execute_result",
          "data": {
            "text/html": [
              "<div>\n",
              "<style scoped>\n",
              "    .dataframe tbody tr th:only-of-type {\n",
              "        vertical-align: middle;\n",
              "    }\n",
              "\n",
              "    .dataframe tbody tr th {\n",
              "        vertical-align: top;\n",
              "    }\n",
              "\n",
              "    .dataframe thead th {\n",
              "        text-align: right;\n",
              "    }\n",
              "</style>\n",
              "<table border=\"1\" class=\"dataframe\">\n",
              "  <thead>\n",
              "    <tr style=\"text-align: right;\">\n",
              "      <th></th>\n",
              "      <th>sex</th>\n",
              "      <th>age</th>\n",
              "      <th>address</th>\n",
              "      <th>famsize</th>\n",
              "      <th>Pstatus</th>\n",
              "      <th>Medu</th>\n",
              "      <th>Fedu</th>\n",
              "      <th>Mjob</th>\n",
              "      <th>Fjob</th>\n",
              "      <th>reason</th>\n",
              "      <th>guardian</th>\n",
              "      <th>traveltime</th>\n",
              "      <th>studytime</th>\n",
              "      <th>failures</th>\n",
              "      <th>schoolsup</th>\n",
              "      <th>famsup</th>\n",
              "      <th>paid</th>\n",
              "      <th>activities</th>\n",
              "      <th>nursery</th>\n",
              "      <th>higher</th>\n",
              "      <th>internet</th>\n",
              "      <th>romantic</th>\n",
              "      <th>famrel</th>\n",
              "      <th>freetime</th>\n",
              "      <th>goout</th>\n",
              "      <th>Dalc</th>\n",
              "      <th>Walc</th>\n",
              "      <th>health</th>\n",
              "      <th>absences</th>\n",
              "      <th>G1</th>\n",
              "      <th>G2</th>\n",
              "      <th>G3</th>\n",
              "    </tr>\n",
              "  </thead>\n",
              "  <tbody>\n",
              "    <tr>\n",
              "      <th>0</th>\n",
              "      <td>F</td>\n",
              "      <td>18</td>\n",
              "      <td>U</td>\n",
              "      <td>GT3</td>\n",
              "      <td>A</td>\n",
              "      <td>4</td>\n",
              "      <td>4</td>\n",
              "      <td>at_home</td>\n",
              "      <td>teacher</td>\n",
              "      <td>course</td>\n",
              "      <td>mother</td>\n",
              "      <td>2</td>\n",
              "      <td>2</td>\n",
              "      <td>0</td>\n",
              "      <td>yes</td>\n",
              "      <td>no</td>\n",
              "      <td>no</td>\n",
              "      <td>no</td>\n",
              "      <td>yes</td>\n",
              "      <td>yes</td>\n",
              "      <td>no</td>\n",
              "      <td>no</td>\n",
              "      <td>4</td>\n",
              "      <td>3</td>\n",
              "      <td>4</td>\n",
              "      <td>1</td>\n",
              "      <td>1</td>\n",
              "      <td>3</td>\n",
              "      <td>6</td>\n",
              "      <td>5</td>\n",
              "      <td>6</td>\n",
              "      <td>6</td>\n",
              "    </tr>\n",
              "    <tr>\n",
              "      <th>1</th>\n",
              "      <td>F</td>\n",
              "      <td>17</td>\n",
              "      <td>U</td>\n",
              "      <td>GT3</td>\n",
              "      <td>T</td>\n",
              "      <td>1</td>\n",
              "      <td>1</td>\n",
              "      <td>at_home</td>\n",
              "      <td>other</td>\n",
              "      <td>course</td>\n",
              "      <td>father</td>\n",
              "      <td>1</td>\n",
              "      <td>2</td>\n",
              "      <td>0</td>\n",
              "      <td>no</td>\n",
              "      <td>yes</td>\n",
              "      <td>no</td>\n",
              "      <td>no</td>\n",
              "      <td>no</td>\n",
              "      <td>yes</td>\n",
              "      <td>yes</td>\n",
              "      <td>no</td>\n",
              "      <td>5</td>\n",
              "      <td>3</td>\n",
              "      <td>3</td>\n",
              "      <td>1</td>\n",
              "      <td>1</td>\n",
              "      <td>3</td>\n",
              "      <td>4</td>\n",
              "      <td>5</td>\n",
              "      <td>5</td>\n",
              "      <td>6</td>\n",
              "    </tr>\n",
              "    <tr>\n",
              "      <th>2</th>\n",
              "      <td>F</td>\n",
              "      <td>15</td>\n",
              "      <td>U</td>\n",
              "      <td>LE3</td>\n",
              "      <td>T</td>\n",
              "      <td>1</td>\n",
              "      <td>1</td>\n",
              "      <td>at_home</td>\n",
              "      <td>other</td>\n",
              "      <td>other</td>\n",
              "      <td>mother</td>\n",
              "      <td>1</td>\n",
              "      <td>2</td>\n",
              "      <td>3</td>\n",
              "      <td>yes</td>\n",
              "      <td>no</td>\n",
              "      <td>yes</td>\n",
              "      <td>no</td>\n",
              "      <td>yes</td>\n",
              "      <td>yes</td>\n",
              "      <td>yes</td>\n",
              "      <td>no</td>\n",
              "      <td>4</td>\n",
              "      <td>3</td>\n",
              "      <td>2</td>\n",
              "      <td>2</td>\n",
              "      <td>3</td>\n",
              "      <td>3</td>\n",
              "      <td>10</td>\n",
              "      <td>7</td>\n",
              "      <td>8</td>\n",
              "      <td>10</td>\n",
              "    </tr>\n",
              "    <tr>\n",
              "      <th>3</th>\n",
              "      <td>F</td>\n",
              "      <td>15</td>\n",
              "      <td>U</td>\n",
              "      <td>GT3</td>\n",
              "      <td>T</td>\n",
              "      <td>4</td>\n",
              "      <td>2</td>\n",
              "      <td>health</td>\n",
              "      <td>services</td>\n",
              "      <td>home</td>\n",
              "      <td>mother</td>\n",
              "      <td>1</td>\n",
              "      <td>3</td>\n",
              "      <td>0</td>\n",
              "      <td>no</td>\n",
              "      <td>yes</td>\n",
              "      <td>yes</td>\n",
              "      <td>yes</td>\n",
              "      <td>yes</td>\n",
              "      <td>yes</td>\n",
              "      <td>yes</td>\n",
              "      <td>yes</td>\n",
              "      <td>3</td>\n",
              "      <td>2</td>\n",
              "      <td>2</td>\n",
              "      <td>1</td>\n",
              "      <td>1</td>\n",
              "      <td>5</td>\n",
              "      <td>2</td>\n",
              "      <td>15</td>\n",
              "      <td>14</td>\n",
              "      <td>15</td>\n",
              "    </tr>\n",
              "    <tr>\n",
              "      <th>4</th>\n",
              "      <td>F</td>\n",
              "      <td>16</td>\n",
              "      <td>U</td>\n",
              "      <td>GT3</td>\n",
              "      <td>T</td>\n",
              "      <td>3</td>\n",
              "      <td>3</td>\n",
              "      <td>other</td>\n",
              "      <td>other</td>\n",
              "      <td>home</td>\n",
              "      <td>father</td>\n",
              "      <td>1</td>\n",
              "      <td>2</td>\n",
              "      <td>0</td>\n",
              "      <td>no</td>\n",
              "      <td>yes</td>\n",
              "      <td>yes</td>\n",
              "      <td>no</td>\n",
              "      <td>yes</td>\n",
              "      <td>yes</td>\n",
              "      <td>no</td>\n",
              "      <td>no</td>\n",
              "      <td>4</td>\n",
              "      <td>3</td>\n",
              "      <td>2</td>\n",
              "      <td>1</td>\n",
              "      <td>2</td>\n",
              "      <td>5</td>\n",
              "      <td>4</td>\n",
              "      <td>6</td>\n",
              "      <td>10</td>\n",
              "      <td>10</td>\n",
              "    </tr>\n",
              "  </tbody>\n",
              "</table>\n",
              "</div>"
            ],
            "text/plain": [
              "  sex  age address famsize Pstatus  Medu  ...  Walc health absences  G1  G2  G3\n",
              "0   F   18       U     GT3       A     4  ...     1      3        6   5   6   6\n",
              "1   F   17       U     GT3       T     1  ...     1      3        4   5   5   6\n",
              "2   F   15       U     LE3       T     1  ...     3      3       10   7   8  10\n",
              "3   F   15       U     GT3       T     4  ...     1      5        2  15  14  15\n",
              "4   F   16       U     GT3       T     3  ...     2      5        4   6  10  10\n",
              "\n",
              "[5 rows x 32 columns]"
            ]
          },
          "metadata": {
            "tags": []
          },
          "execution_count": 12
        }
      ]
    },
    {
      "cell_type": "code",
      "metadata": {
        "id": "FS-O5cGrzJ-T",
        "colab_type": "code",
        "outputId": "64162f62-4943-4fd4-9ae3-f6f3cf33b7e7",
        "colab": {
          "base_uri": "https://localhost:8080/",
          "height": 306
        }
      },
      "source": [
        "famsize_diff = data.groupby('famsize')['G3'].mean()\n",
        "mean_grade_guard = data.groupby('guardian')['G3'].mean()\n",
        "stud_per_gender = data.groupby('sex')['sex'].count()\n",
        "print(famsize_diff), print('\\n')\n",
        "print(mean_grade_guard), print('\\n')\n",
        "print(stud_per_gender)"
      ],
      "execution_count": 13,
      "outputs": [
        {
          "output_type": "stream",
          "text": [
            "famsize\n",
            "GT3    10.177936\n",
            "LE3    11.000000\n",
            "Name: G3, dtype: float64\n",
            "\n",
            "\n",
            "guardian\n",
            "father    10.688889\n",
            "mother    10.483516\n",
            "other      9.062500\n",
            "Name: G3, dtype: float64\n",
            "\n",
            "\n",
            "sex\n",
            "F    208\n",
            "M    187\n",
            "Name: sex, dtype: int64\n"
          ],
          "name": "stdout"
        }
      ]
    },
    {
      "cell_type": "code",
      "metadata": {
        "id": "dt5UgraRQj3E",
        "colab_type": "code",
        "outputId": "428cd102-376d-4615-cc65-190bde3f21f3",
        "colab": {
          "base_uri": "https://localhost:8080/",
          "height": 948
        }
      },
      "source": [
        "fig, ax = plt.subplots(3,3, figsize=(21,16))\n",
        "\n",
        "sns.distplot(data['G3'], ax=ax[0,0], bins=10)\n",
        "ax[0,0].set(title='Final Grades Distribution')\n",
        "ax[0,0].set_xlim([0,20])\n",
        "ax[0,0].set_xticks(range(0,21,2))\n",
        "\n",
        "sns.violinplot(x='address', y='G3', data=data, ax=ax[0,1])\n",
        "ax[0,1].set_title('Grades distribution by address')\n",
        "ax[0,1].set_ylim([0,20])\n",
        "\n",
        "sns.distplot(data[data['sex']=='F'].G3, ax=ax[0,2], bins=10, color='darkmagenta', kde=False, norm_hist=True)\n",
        "sns.distplot(data[data['sex']=='M'].G3, ax=ax[0,2], bins=10, color='darkcyan', kde=False, norm_hist=True)\n",
        "ax[0,2].set_title('Grades distribution by gender')\n",
        "ax[0,2].legend(['F','M'])\n",
        "ax[0,2].set_xlim([0,20])\n",
        "ax[0,2].set_xticks(range(0,21,2))\n",
        "\n",
        "sns.barplot(y='G3', x='Medu', data=data, ax=ax[1,0])\n",
        "ax[1,0].set_title('Grades and the mother\\'s education')\n",
        "\n",
        "sns.regplot(x='Medu', y='Fedu', data=data, ax=ax[1,1])\n",
        "ax[1,1].set_xticks([0,1,2,3,4])\n",
        "ax[1,1].set_yticks([0,1,2,3,4])\n",
        "ax[1,1].set_title('Correlation of fathers and mothers\\' education')\n",
        "\n",
        "sns.barplot(y='G3', x='Fedu', data=data, ax=ax[1,2])\n",
        "ax[1,2].set_title('Grades and the father\\'s education')\n",
        "\n",
        "sns.swarmplot(x='guardian', y='G3', data=data, ax=ax[2,0])\n",
        "ax[2,0].set_title('Distribution of grades by guardian')\n",
        "\n",
        "ax[2,1].scatter(data['age'], data['G3'], alpha=0.2, c='purple')\n",
        "ax[2,1].set(xlabel='Age',ylabel='Grades',title='Grades and Age')\n",
        "\n",
        "sns.swarmplot(x='famsize', y='G3', data=data, ax = ax[2,2])\n",
        "ax[2,2].set(xlabel='Family size')\n",
        "ax[2,2].set(title='Grades Distribution by Family Size')\n",
        "\n",
        "plt.show()"
      ],
      "execution_count": 14,
      "outputs": [
        {
          "output_type": "display_data",
          "data": {
            "image/png": "[encoded data removed]",
            "text/plain": [
              "<Figure size 1512x1152 with 9 Axes>"
            ]
          },
          "metadata": {
            "tags": [],
            "needs_background": "light"
          }
        }
      ]
    },
    {
      "cell_type": "code",
      "metadata": {
        "id": "pVhvtOlj3C8Q",
        "colab_type": "code",
        "outputId": "a939f1e5-6f4b-4bdb-b360-a99eaf6149de",
        "colab": {
          "base_uri": "https://localhost:8080/",
          "height": 359
        }
      },
      "source": [
        "fig, axs = plt.subplots(1,2, figsize=(12, 4), sharey=True)\n",
        "plt.suptitle('Age and Final Grades')\n",
        "sns.regplot(x=\"age\", y=\"G3\", data=data, ax = axs[0], marker='x')\n",
        "axs[0].set_title('Students from 15 to 22 yo')\n",
        "axs[1].set_title('Students from 15 to 18 yo')\n",
        "sns.regplot(x=\"age\", y=\"G3\", data=data[data.age<19], ax = axs[1], marker='x',color='darkmagenta')\n",
        "axs[1].set_xticks([15, 16, 17, 18])\n",
        "plt.show()\n",
        "print('\\nThere is a negative correlation between Age and G3 and it tends to be less strong if ages \\nthat are atypical for high school students are not taken into account. More on this below.')"
      ],
      "execution_count": 15,
      "outputs": [
        {
          "output_type": "display_data",
          "data": {
            "image/png": "[encoded data removed]",
            "text/plain": [
              "<Figure size 864x288 with 2 Axes>"
            ]
          },
          "metadata": {
            "tags": [],
            "needs_background": "light"
          }
        },
        {
          "output_type": "stream",
          "text": [
            "\n",
            "There is a negative correlation between Age and G3 and it tends to be less strong if ages \n",
            "that are atypical for high school students are not taken into account. More on this below.\n"
          ],
          "name": "stdout"
        }
      ]
    },
    {
      "cell_type": "code",
      "metadata": {
        "id": "TgOMEUojNBiL",
        "colab_type": "code",
        "outputId": "d9899329-7367-4d4f-8f5c-916dbf758673",
        "colab": {
          "base_uri": "https://localhost:8080/",
          "height": 306
        }
      },
      "source": [
        "corr_matrix = data.corr()\n",
        "corr_matrix['G3'].sort_values(ascending=False)"
      ],
      "execution_count": 16,
      "outputs": [
        {
          "output_type": "execute_result",
          "data": {
            "text/plain": [
              "G3            1.000000\n",
              "G2            0.904868\n",
              "G1            0.801468\n",
              "Medu          0.217147\n",
              "Fedu          0.152457\n",
              "studytime     0.097820\n",
              "famrel        0.051363\n",
              "absences      0.034247\n",
              "freetime      0.011307\n",
              "Walc         -0.051939\n",
              "Dalc         -0.054660\n",
              "health       -0.061335\n",
              "traveltime   -0.117142\n",
              "goout        -0.132791\n",
              "age          -0.161579\n",
              "failures     -0.360415\n",
              "Name: G3, dtype: float64"
            ]
          },
          "metadata": {
            "tags": []
          },
          "execution_count": 16
        }
      ]
    },
    {
      "cell_type": "code",
      "metadata": {
        "id": "CbdBLwTcmA_L",
        "colab_type": "code",
        "outputId": "43304bad-99c9-4d67-97a6-54a8b93607db",
        "colab": {
          "base_uri": "https://localhost:8080/",
          "height": 489
        }
      },
      "source": [
        "plt.figure(figsize=(8,8))\n",
        "sns.heatmap(corr_matrix, vmin=-1, vmax=1, center=0, cmap=sns.diverging_palette(20, 220, n=200), square=True)\n",
        "plt.show()"
      ],
      "execution_count": 17,
      "outputs": [
        {
          "output_type": "display_data",
          "data": {
            "image/png": "[encoded data removed]",
            "text/plain": [
              "<Figure size 576x576 with 2 Axes>"
            ]
          },
          "metadata": {
            "tags": [],
            "needs_background": "light"
          }
        }
      ]
    },
    {
      "cell_type": "markdown",
      "metadata": {
        "id": "KyOBhoUznqIA",
        "colab_type": "text"
      },
      "source": [
        "---\n",
        "\n",
        "* Analyzing the linear correlations among our numerical variables, it can be seen that the level of **education achieved by** the students' **parents** (especially the mother), i.e. Medu and Fedu, **has a positive correlation with grades**, which is consistent with the relevant literature on this subject (*see also: Dubow E.F., Boxer P., Huesmann L.R. Long-term effects of parents’ education on children’s educational and occupational success: mediation by family interactions, child aggression, and teenage aspirations. Merrill-Palmer Q. 2009;55(3):224–249*), although we have seen in the barplots above that students whose parents had an education score equal to zero had higher mean grades, but with a much higher variance.\n",
        "\n",
        "* **Mothers are typically more involved in** taking care of **their children's education** compared to fathers and others kind of 'guardians'. Moreover, grades tend to be higher when the mother is the 'guardian'.\n",
        "\n",
        "* As expected, **past grades** (G1 and G2) **are strongly correlated to** the **final exam grades** (G3).\n",
        "\n",
        "* Poor past performances obviously display a negative correlation with higher final grades, which is probably reflected onto **the variable 'age'** as well, that **likely catches the effect attributable to** older students having to stay longer in high school because of **grade retention** (the dataset contains students as old as 22 y.o.). As a matter of facts, this negative effect tend to vanish as atypical ages (>18) are dropped.\n",
        "\n",
        "---\n",
        "\n",
        "Finally, as a side note (irrelevant to the final end of this project), we can highlight the strong positive correlation between the educational attainment of fathers and mothers, which is in line with the findings of the main sociological end economic studies on the topic of educational assortative mating, thus indicating that the father's education might actually be a proxy variable for the mother's (*see also Lasse Eika, Magne Mogstad, and Basit Zafar, \"Educational Assortative Mating and Household Income Inequality,\" Journal of Political Economy 127, no. 6 (December 2019): 2795-2835.*).\n",
        "\n",
        "However, besides educational assortative mating, another form of relationship, this time between variables rather than parents, that is highlighted by the correlation matrix is *'multicollinearity'*.\n",
        "\n",
        "---"
      ]
    },
    {
      "cell_type": "markdown",
      "metadata": {
        "id": "IFzqKwJAm2hD",
        "colab_type": "text"
      },
      "source": [
        "##Classification"
      ]
    },
    {
      "cell_type": "code",
      "metadata": {
        "id": "xROzHMnLEuQ6",
        "colab_type": "code",
        "colab": {}
      },
      "source": [
        "#G3 grades are sorted into 5 classes in order to perform classification\n",
        "data['grade'] = pd.cut(data['G3'], [-0.1,9,11,13,15,20], labels=['F','D','C','B','A'])"
      ],
      "execution_count": 0,
      "outputs": []
    },
    {
      "cell_type": "code",
      "metadata": {
        "id": "rGG330QZQ6fp",
        "colab_type": "code",
        "outputId": "936305cd-fa3f-41ae-ac02-5313869682f5",
        "colab": {
          "base_uri": "https://localhost:8080/",
          "height": 34
        }
      },
      "source": [
        "y = data['grade'].values\n",
        "y.shape"
      ],
      "execution_count": 19,
      "outputs": [
        {
          "output_type": "execute_result",
          "data": {
            "text/plain": [
              "(395,)"
            ]
          },
          "metadata": {
            "tags": []
          },
          "execution_count": 19
        }
      ]
    },
    {
      "cell_type": "code",
      "metadata": {
        "id": "2jwhL6wxowBF",
        "colab_type": "code",
        "outputId": "a4c76cf5-0fee-415b-f897-7e179e6654c8",
        "colab": {
          "base_uri": "https://localhost:8080/",
          "height": 119
        }
      },
      "source": [
        "#Checking for relevant class imbalances\n",
        "y.value_counts()/len(y)"
      ],
      "execution_count": 20,
      "outputs": [
        {
          "output_type": "execute_result",
          "data": {
            "text/plain": [
              "F    0.329114\n",
              "D    0.260759\n",
              "C    0.156962\n",
              "B    0.151899\n",
              "A    0.101266\n",
              "dtype: float64"
            ]
          },
          "metadata": {
            "tags": []
          },
          "execution_count": 20
        }
      ]
    },
    {
      "cell_type": "code",
      "metadata": {
        "id": "OsI2TpjKxfh5",
        "colab_type": "code",
        "outputId": "251445ff-3daa-47c6-dd1c-201cf65e9c4c",
        "colab": {
          "base_uri": "https://localhost:8080/",
          "height": 34
        }
      },
      "source": [
        "X = data.drop(['G3','grade'], axis=1)\n",
        "X.shape"
      ],
      "execution_count": 21,
      "outputs": [
        {
          "output_type": "execute_result",
          "data": {
            "text/plain": [
              "(395, 31)"
            ]
          },
          "metadata": {
            "tags": []
          },
          "execution_count": 21
        }
      ]
    },
    {
      "cell_type": "code",
      "metadata": {
        "id": "zofEZOA1zF1S",
        "colab_type": "code",
        "outputId": "352630f1-1c41-4659-e1d6-b0afa4bfb89d",
        "colab": {
          "base_uri": "https://localhost:8080/",
          "height": 71
        }
      },
      "source": [
        "to_encode = []\n",
        "to_normalize = []\n",
        "\n",
        "for col in X.columns:\n",
        "  if X[col].dtype == int:\n",
        "    to_normalize.append(col)\n",
        "  else:\n",
        "    to_encode.append(col)\n",
        "\n",
        "print(to_encode)\n",
        "print(to_normalize)"
      ],
      "execution_count": 22,
      "outputs": [
        {
          "output_type": "stream",
          "text": [
            "['sex', 'address', 'famsize', 'Pstatus', 'Mjob', 'Fjob', 'reason', 'guardian', 'schoolsup', 'famsup', 'paid', 'activities', 'nursery', 'higher', 'internet', 'romantic']\n",
            "['age', 'Medu', 'Fedu', 'traveltime', 'studytime', 'failures', 'famrel', 'freetime', 'goout', 'Dalc', 'Walc', 'health', 'absences', 'G1', 'G2']\n"
          ],
          "name": "stdout"
        }
      ]
    },
    {
      "cell_type": "code",
      "metadata": {
        "id": "itIMeHvCQ_zL",
        "colab_type": "code",
        "colab": {}
      },
      "source": [
        "X_train, X_test, y_train, y_test = train_test_split(X,y, test_size=0.3, stratify=y, random_state=42)"
      ],
      "execution_count": 0,
      "outputs": []
    },
    {
      "cell_type": "code",
      "metadata": {
        "id": "0WyTOA92Vbfl",
        "colab_type": "code",
        "colab": {}
      },
      "source": [
        "transformer = ColumnTransformer([\n",
        "                                 ('enc', OneHotEncoder(drop='first'), to_encode),\n",
        "                                 ('norm', Normalizer(), to_normalize)\n",
        "])"
      ],
      "execution_count": 0,
      "outputs": []
    },
    {
      "cell_type": "code",
      "metadata": {
        "id": "o2duy-emXgqB",
        "colab_type": "code",
        "colab": {}
      },
      "source": [
        "X_train_trans = transformer.fit_transform(X_train)\n",
        "X_test_trans = transformer.transform(X_test)"
      ],
      "execution_count": 0,
      "outputs": []
    },
    {
      "cell_type": "code",
      "metadata": {
        "id": "mfsItGjKj3Ua",
        "colab_type": "code",
        "outputId": "dfa3372a-adbe-4174-8ef2-fc7ed3c2dff0",
        "colab": {
          "base_uri": "https://localhost:8080/",
          "height": 105
        }
      },
      "source": [
        "#Correcting the labels of our variables after transformation\n",
        "#...\n",
        "cat_encoder = transformer.named_transformers_['enc']\n",
        "cat_attr = list(cat_encoder.get_feature_names())\n",
        "print(cat_attr)\n",
        "print(to_encode)\n",
        "print('\\nSince the labels of the attributes resulting from encoding are not clear, they should be changed into something easily understandable.')"
      ],
      "execution_count": 26,
      "outputs": [
        {
          "output_type": "stream",
          "text": [
            "['x0_M', 'x1_U', 'x2_LE3', 'x3_T', 'x4_health', 'x4_other', 'x4_services', 'x4_teacher', 'x5_health', 'x5_other', 'x5_services', 'x5_teacher', 'x6_home', 'x6_other', 'x6_reputation', 'x7_mother', 'x7_other', 'x8_yes', 'x9_yes', 'x10_yes', 'x11_yes', 'x12_yes', 'x13_yes', 'x14_yes', 'x15_yes']\n",
            "['sex', 'address', 'famsize', 'Pstatus', 'Mjob', 'Fjob', 'reason', 'guardian', 'schoolsup', 'famsup', 'paid', 'activities', 'nursery', 'higher', 'internet', 'romantic']\n",
            "\n",
            "Since the labels of the attributes resulting from encoding are not clear, they should be changed into something easily understandable.\n"
          ],
          "name": "stdout"
        }
      ]
    },
    {
      "cell_type": "code",
      "metadata": {
        "id": "E_6cnBIG83Qn",
        "colab_type": "code",
        "outputId": "05105323-d331-418f-9601-cf1827f7505b",
        "colab": {
          "base_uri": "https://localhost:8080/",
          "height": 734
        }
      },
      "source": [
        "cat_attributes = []\n",
        "for text in cat_attr:\n",
        "  end = text.find('_')\n",
        "  if end ==2:\n",
        "    replacement = to_encode[int(text[1:2])]\n",
        "    cat_attributes.append(text.replace(text[0:end],replacement))\n",
        "  else:\n",
        "    replacement = to_encode[int(text[1:3])]\n",
        "    cat_attributes.append(text.replace(text[0:end],replacement))\n",
        "print(cat_attributes)\n",
        "attributes = cat_attributes + to_normalize\n",
        "attributes\n",
        "#...\n",
        "#End of labels correction"
      ],
      "execution_count": 27,
      "outputs": [
        {
          "output_type": "stream",
          "text": [
            "['sex_M', 'address_U', 'famsize_LE3', 'Pstatus_T', 'Mjob_health', 'Mjob_other', 'Mjob_services', 'Mjob_teacher', 'Fjob_health', 'Fjob_other', 'Fjob_services', 'Fjob_teacher', 'reason_home', 'reason_other', 'reason_reputation', 'guardian_mother', 'guardian_other', 'schoolsup_yes', 'famsup_yes', 'paid_yes', 'activities_yes', 'nursery_yes', 'higher_yes', 'internet_yes', 'romantic_yes']\n"
          ],
          "name": "stdout"
        },
        {
          "output_type": "execute_result",
          "data": {
            "text/plain": [
              "['sex_M',\n",
              " 'address_U',\n",
              " 'famsize_LE3',\n",
              " 'Pstatus_T',\n",
              " 'Mjob_health',\n",
              " 'Mjob_other',\n",
              " 'Mjob_services',\n",
              " 'Mjob_teacher',\n",
              " 'Fjob_health',\n",
              " 'Fjob_other',\n",
              " 'Fjob_services',\n",
              " 'Fjob_teacher',\n",
              " 'reason_home',\n",
              " 'reason_other',\n",
              " 'reason_reputation',\n",
              " 'guardian_mother',\n",
              " 'guardian_other',\n",
              " 'schoolsup_yes',\n",
              " 'famsup_yes',\n",
              " 'paid_yes',\n",
              " 'activities_yes',\n",
              " 'nursery_yes',\n",
              " 'higher_yes',\n",
              " 'internet_yes',\n",
              " 'romantic_yes',\n",
              " 'age',\n",
              " 'Medu',\n",
              " 'Fedu',\n",
              " 'traveltime',\n",
              " 'studytime',\n",
              " 'failures',\n",
              " 'famrel',\n",
              " 'freetime',\n",
              " 'goout',\n",
              " 'Dalc',\n",
              " 'Walc',\n",
              " 'health',\n",
              " 'absences',\n",
              " 'G1',\n",
              " 'G2']"
            ]
          },
          "metadata": {
            "tags": []
          },
          "execution_count": 27
        }
      ]
    },
    {
      "cell_type": "markdown",
      "metadata": {
        "id": "xMOyHJ2x_37s",
        "colab_type": "text"
      },
      "source": [
        "Quick evaluation of different classification algorithms based on accuracy:"
      ]
    },
    {
      "cell_type": "code",
      "metadata": {
        "id": "gX0L9yKf2alg",
        "colab_type": "code",
        "outputId": "28ad607d-bd74-47f0-e554-ef236cc5688c",
        "colab": {
          "base_uri": "https://localhost:8080/",
          "height": 34
        }
      },
      "source": [
        "nb_class = GaussianNB()\n",
        "nb_class.fit(X_train_trans, y_train)\n",
        "nb_pred = nb_class.predict(X_test_trans)\n",
        "nb_acc = accuracy_score(y_test, nb_pred)\n",
        "nb_acc"
      ],
      "execution_count": 0,
      "outputs": [
        {
          "output_type": "execute_result",
          "data": {
            "text/plain": [
              "0.40336134453781514"
            ]
          },
          "metadata": {
            "tags": []
          },
          "execution_count": 129
        }
      ]
    },
    {
      "cell_type": "code",
      "metadata": {
        "id": "p8MSe1sM6g7H",
        "colab_type": "code",
        "outputId": "0e713406-16f4-49fe-dcb5-429bf9d9cbec",
        "colab": {
          "base_uri": "https://localhost:8080/",
          "height": 34
        }
      },
      "source": [
        "knn_class = KNeighborsClassifier(n_neighbors=10)\n",
        "knn_class.fit(X_train_trans, y_train)\n",
        "knn_pred = knn_class.predict(X_test_trans)\n",
        "knn_acc = accuracy_score(y_test, knn_pred)\n",
        "knn_acc"
      ],
      "execution_count": 0,
      "outputs": [
        {
          "output_type": "execute_result",
          "data": {
            "text/plain": [
              "0.3025210084033613"
            ]
          },
          "metadata": {
            "tags": []
          },
          "execution_count": 130
        }
      ]
    },
    {
      "cell_type": "code",
      "metadata": {
        "id": "phvVyiIV70tI",
        "colab_type": "code",
        "outputId": "71ce4ca7-2da1-42c4-dc7a-b2804ded4c9d",
        "colab": {
          "base_uri": "https://localhost:8080/",
          "height": 34
        }
      },
      "source": [
        "xgb_class = XGBClassifier(random_state=42)\n",
        "xgb_class.fit(X_train_trans, y_train)\n",
        "xgb_pred = xgb_class.predict(X_test_trans)\n",
        "xgb_acc = accuracy_score(y_test, xgb_pred)\n",
        "xgb_acc"
      ],
      "execution_count": 0,
      "outputs": [
        {
          "output_type": "execute_result",
          "data": {
            "text/plain": [
              "0.680672268907563"
            ]
          },
          "metadata": {
            "tags": []
          },
          "execution_count": 131
        }
      ]
    },
    {
      "cell_type": "code",
      "metadata": {
        "id": "OfbmoAO3q9Pn",
        "colab_type": "code",
        "outputId": "2cf721d3-15c5-40c5-e732-bdc3b0cbeb2d",
        "colab": {
          "base_uri": "https://localhost:8080/",
          "height": 34
        }
      },
      "source": [
        "random_forest = RandomForestClassifier(random_state=42)\n",
        "random_forest.fit(X_train_trans, y_train)\n",
        "rand_f_pred = random_forest.predict(X_test_trans)\n",
        "rand_f_acc = accuracy_score(y_test, rand_f_pred)\n",
        "rand_f_acc"
      ],
      "execution_count": 66,
      "outputs": [
        {
          "output_type": "execute_result",
          "data": {
            "text/plain": [
              "0.7142857142857143"
            ]
          },
          "metadata": {
            "tags": []
          },
          "execution_count": 66
        }
      ]
    },
    {
      "cell_type": "code",
      "metadata": {
        "id": "lQr2xPpRI2QN",
        "colab_type": "code",
        "outputId": "eafa05a5-2c7b-411f-c64e-0b7105400501",
        "colab": {
          "base_uri": "https://localhost:8080/",
          "height": 34
        }
      },
      "source": [
        "train_randf_acc = accuracy_score(y_train, random_forest.predict(X_train_trans))\n",
        "print('Accuracy on training set : ' + str(train_randf_acc))"
      ],
      "execution_count": 0,
      "outputs": [
        {
          "output_type": "stream",
          "text": [
            "Accuracy on training set : 1.0\n"
          ],
          "name": "stdout"
        }
      ]
    },
    {
      "cell_type": "code",
      "metadata": {
        "id": "GiiUxZK-9Q2n",
        "colab_type": "code",
        "outputId": "36cbc0bb-45b9-434f-b1c9-4811ed8ae554",
        "colab": {
          "base_uri": "https://localhost:8080/",
          "height": 295
        }
      },
      "source": [
        "accuracies = pd.Series([rand_f_acc, xgb_acc, knn_acc, nb_acc], index=['Random_Forest','XGBoost', 'K-NN','Naive Bayes'])\n",
        "accuracies.plot(kind='barh', title='Accuracies comparison')\n",
        "plt.xlabel('Accuracy scores')\n",
        "plt.ylabel('Models')\n",
        "plt.show()"
      ],
      "execution_count": 0,
      "outputs": [
        {
          "output_type": "display_data",
          "data": {
            "image/png": "[encoded data removed]",
            "text/plain": [
              "<Figure size 432x288 with 1 Axes>"
            ]
          },
          "metadata": {
            "tags": []
          }
        }
      ]
    },
    {
      "cell_type": "code",
      "metadata": {
        "id": "uot38sRDaMeF",
        "colab_type": "code",
        "colab": {}
      },
      "source": [
        "tuned_forest_class = RandomForestClassifier()\n",
        "\n",
        "n_estimators = [int(x) for x in np.arange(45, 66, 5)]\n",
        "max_depth = [int(x) for x in np.arange(2, 10, 2)]\n",
        "criterion = ['gini','entropy']\n",
        "\n",
        "random_grid = {'n_estimators': n_estimators,\n",
        "               'max_depth' : max_depth,\n",
        "               'criterion' : criterion\n",
        "               }\n",
        "\n",
        "rand_search = RandomizedSearchCV(tuned_forest_class, random_grid, cv=5, n_jobs=-1, random_state=42, n_iter=35)"
      ],
      "execution_count": 0,
      "outputs": []
    },
    {
      "cell_type": "code",
      "metadata": {
        "id": "RE3kiqMIgDnM",
        "colab_type": "code",
        "outputId": "a463b92d-1007-40cc-9060-56d85b7e28a6",
        "colab": {
          "base_uri": "https://localhost:8080/",
          "height": 459
        }
      },
      "source": [
        "rand_search.fit(X_train_trans, y_train)"
      ],
      "execution_count": 152,
      "outputs": [
        {
          "output_type": "execute_result",
          "data": {
            "text/plain": [
              "RandomizedSearchCV(cv=5, error_score=nan,\n",
              "                   estimator=RandomForestClassifier(bootstrap=True,\n",
              "                                                    ccp_alpha=0.0,\n",
              "                                                    class_weight=None,\n",
              "                                                    criterion='gini',\n",
              "                                                    max_depth=None,\n",
              "                                                    max_features='auto',\n",
              "                                                    max_leaf_nodes=None,\n",
              "                                                    max_samples=None,\n",
              "                                                    min_impurity_decrease=0.0,\n",
              "                                                    min_impurity_split=None,\n",
              "                                                    min_samples_leaf=1,\n",
              "                                                    min_samples_split=2,\n",
              "                                                    min_weight_fraction_leaf=0.0,\n",
              "                                                    n_estimators=100,\n",
              "                                                    n_jobs=None,\n",
              "                                                    oob_score=False,\n",
              "                                                    random_state=None,\n",
              "                                                    verbose=0,\n",
              "                                                    warm_start=False),\n",
              "                   iid='deprecated', n_iter=35, n_jobs=-1,\n",
              "                   param_distributions={'criterion': ['gini', 'entropy'],\n",
              "                                        'max_depth': [2, 4, 6, 8],\n",
              "                                        'n_estimators': [45, 50, 55, 60, 65]},\n",
              "                   pre_dispatch='2*n_jobs', random_state=42, refit=True,\n",
              "                   return_train_score=False, scoring=None, verbose=0)"
            ]
          },
          "metadata": {
            "tags": []
          },
          "execution_count": 152
        }
      ]
    },
    {
      "cell_type": "code",
      "metadata": {
        "id": "DOL836etgR62",
        "colab_type": "code",
        "outputId": "07e599f2-65a9-416c-9c1f-71d6428977b5",
        "colab": {
          "base_uri": "https://localhost:8080/",
          "height": 153
        }
      },
      "source": [
        "rf_best = rand_search.best_estimator_\n",
        "rf_best"
      ],
      "execution_count": 153,
      "outputs": [
        {
          "output_type": "execute_result",
          "data": {
            "text/plain": [
              "RandomForestClassifier(bootstrap=True, ccp_alpha=0.0, class_weight=None,\n",
              "                       criterion='entropy', max_depth=6, max_features='auto',\n",
              "                       max_leaf_nodes=None, max_samples=None,\n",
              "                       min_impurity_decrease=0.0, min_impurity_split=None,\n",
              "                       min_samples_leaf=1, min_samples_split=2,\n",
              "                       min_weight_fraction_leaf=0.0, n_estimators=50,\n",
              "                       n_jobs=None, oob_score=False, random_state=None,\n",
              "                       verbose=0, warm_start=False)"
            ]
          },
          "metadata": {
            "tags": []
          },
          "execution_count": 153
        }
      ]
    },
    {
      "cell_type": "code",
      "metadata": {
        "id": "c5I-y1hODa7X",
        "colab_type": "code",
        "outputId": "c1db216e-4e17-4abd-a2cf-df9ac3f3b731",
        "colab": {
          "base_uri": "https://localhost:8080/",
          "height": 697
        }
      },
      "source": [
        "feature_importance = rand_search.best_estimator_.feature_importances_\n",
        "\n",
        "relevant_features = sorted(zip(feature_importance, attributes), reverse=True)\n",
        "relevant_features"
      ],
      "execution_count": 154,
      "outputs": [
        {
          "output_type": "execute_result",
          "data": {
            "text/plain": [
              "[(0.2201339589489342, 'G2'),\n",
              " (0.15335588003760325, 'G1'),\n",
              " (0.10556441251309137, 'age'),\n",
              " (0.07355867009889401, 'Dalc'),\n",
              " (0.061067849366206156, 'traveltime'),\n",
              " (0.04661572202750545, 'Walc'),\n",
              " (0.044807285666354835, 'goout'),\n",
              " (0.038542425424843374, 'absences'),\n",
              " (0.0342510476437393, 'studytime'),\n",
              " (0.029229508822906983, 'famrel'),\n",
              " (0.02721556736079321, 'Fedu'),\n",
              " (0.027058725320186664, 'Medu'),\n",
              " (0.025701211001784335, 'health'),\n",
              " (0.020466990325142643, 'freetime'),\n",
              " (0.0160276679136398, 'failures'),\n",
              " (0.005913514318477983, 'guardian_mother'),\n",
              " (0.005765254482300205, 'reason_reputation'),\n",
              " (0.005166188264280603, 'sex_M'),\n",
              " (0.004550749563684982, 'famsize_LE3'),\n",
              " (0.004549698264678864, 'internet_yes'),\n",
              " (0.004504124866016181, 'romantic_yes'),\n",
              " (0.004283667956721049, 'paid_yes'),\n",
              " (0.004250615798484837, 'Fjob_services'),\n",
              " (0.0037198990914093966, 'Fjob_other'),\n",
              " (0.0035157448992339923, 'activities_yes'),\n",
              " (0.0033536500609265387, 'famsup_yes'),\n",
              " (0.0031407993649819515, 'Pstatus_T'),\n",
              " (0.0028447222977073068, 'Mjob_other'),\n",
              " (0.002703669779288958, 'address_U'),\n",
              " (0.002678413345955206, 'reason_home'),\n",
              " (0.0024171604362283926, 'schoolsup_yes'),\n",
              " (0.0024119365003675607, 'Mjob_teacher'),\n",
              " (0.002240124509621268, 'nursery_yes'),\n",
              " (0.0019312816812850258, 'Fjob_teacher'),\n",
              " (0.0018257732433501327, 'Mjob_services'),\n",
              " (0.0014857889617345304, 'guardian_other'),\n",
              " (0.0011485592516399636, 'Fjob_health'),\n",
              " (0.0008717074279226123, 'higher_yes'),\n",
              " (0.0007832868298278939, 'Mjob_health'),\n",
              " (0.00034674633224892747, 'reason_other')]"
            ]
          },
          "metadata": {
            "tags": []
          },
          "execution_count": 154
        }
      ]
    },
    {
      "cell_type": "code",
      "metadata": {
        "id": "-py-urboUMyQ",
        "colab_type": "code",
        "outputId": "5836c073-eed7-46f2-a2ef-0fb3b9a37a63",
        "colab": {
          "base_uri": "https://localhost:8080/",
          "height": 390
        }
      },
      "source": [
        "top5 = relevant_features[0:5]\n",
        "attr = [x[1] for x in top5]\n",
        "imp = [x[0] for x in top5]\n",
        "\n",
        "plt.figure(figsize=(10,6))\n",
        "plt.title('Top 5 attributes')\n",
        "plt.barh(attr, imp, color=['cadetblue','steelblue','slateblue','darkmagenta','orchid'],  edgecolor='black')\n",
        "plt.show()"
      ],
      "execution_count": 155,
      "outputs": [
        {
          "output_type": "display_data",
          "data": {
            "image/png": "[encoded data removed]",
            "text/plain": [
              "<Figure size 720x432 with 1 Axes>"
            ]
          },
          "metadata": {
            "tags": [],
            "needs_background": "light"
          }
        }
      ]
    },
    {
      "cell_type": "code",
      "metadata": {
        "id": "4oC0U_CGcy9c",
        "colab_type": "code",
        "outputId": "e1f4d51c-15c2-4ffa-8eea-d6fd811d6515",
        "colab": {
          "base_uri": "https://localhost:8080/",
          "height": 34
        }
      },
      "source": [
        "rf_predictions = rand_search.predict(X_test_trans)\n",
        "rf_acc = accuracy_score(y_test, rf_predictions)\n",
        "rf_acc"
      ],
      "execution_count": 156,
      "outputs": [
        {
          "output_type": "execute_result",
          "data": {
            "text/plain": [
              "0.7478991596638656"
            ]
          },
          "metadata": {
            "tags": []
          },
          "execution_count": 156
        }
      ]
    },
    {
      "cell_type": "code",
      "metadata": {
        "id": "HVvzR0DRDwgV",
        "colab_type": "code",
        "outputId": "00898a95-71a8-48d1-b341-682e257061ff",
        "colab": {
          "base_uri": "https://localhost:8080/",
          "height": 133
        }
      },
      "source": [
        "base_accuracy = accuracy_score(y_test, np.ones_like(y_test)*stats.mode(y_test)[0][0])\n",
        "comparison_acc = 'Accuracy'\n",
        "plt.figure(figsize=(7,1))\n",
        "plt.barh(comparison_acc, rf_acc,color='darkblue', edgecolor='black')\n",
        "plt.barh(comparison_acc, rand_f_acc, color='lightblue', edgecolor='black')\n",
        "plt.barh(comparison_acc, base_accuracy, color='lightcyan', edgecolor='black')\n",
        "plt.xlim([0,0.85])\n",
        "plt.title('Comparison of base vs tuned random forest accuracy\\non top of always predicting the mode')\n",
        "plt.legend(['Tuned RF','Base RF','Mode acc.'], loc='center left')\n",
        "plt.show()"
      ],
      "execution_count": 157,
      "outputs": [
        {
          "output_type": "display_data",
          "data": {
            "image/png": "[encoded data removed]",
            "text/plain": [
              "<Figure size 504x72 with 1 Axes>"
            ]
          },
          "metadata": {
            "tags": [],
            "needs_background": "light"
          }
        }
      ]
    },
    {
      "cell_type": "markdown",
      "metadata": {
        "id": "RhOwEmrkpnUJ",
        "colab_type": "text"
      },
      "source": [
        "Although the tuned random forest performs slightly better, the more basic random forest still provides comparable results"
      ]
    },
    {
      "cell_type": "code",
      "metadata": {
        "id": "r0B80XeW06HH",
        "colab_type": "code",
        "colab": {}
      },
      "source": [
        "def get_grade_share(to_count, checker=None, wrong_predictions=True):\n",
        "  '''get_grade_share counts how many times a grade appears in the array to_count. \n",
        "  Checker is a second array to be matched with to_count. \n",
        "  If checker is not None, the first number in the returned list indicates how many times a grade in a given position in to_count is not a perfect match for the grade in the same position in checker. \n",
        "  If there is no checker and you still want to return a list of 6 elemnts instead of 5 wrong_predictions should be set to True, thus the first number in the returned 6-elements list is a 0.'''\n",
        "  grades = ['A','B','C','D','F']\n",
        "  if checker is None:\n",
        "    if wrong_predictions==True:\n",
        "      grades_sum = [0]\n",
        "    else:\n",
        "      grades_sum = []\n",
        "    for grade in grades:\n",
        "      sum = 0\n",
        "      for x in to_count:\n",
        "        if x == grade:\n",
        "          sum += 1\n",
        "      grades_sum.append(sum)\n",
        "  else:\n",
        "    sum = 0\n",
        "    check = []\n",
        "    for i in np.arange(0,len(to_count),1):\n",
        "      if to_count[i] != checker[i]:\n",
        "        sum += 1\n",
        "      else:\n",
        "        check.append(to_count[i])\n",
        "    grades_sum = [sum]\n",
        "    for grade in grades:\n",
        "      sum_c = 0\n",
        "      for c in check:\n",
        "        if grade == c:\n",
        "          sum_c += 1\n",
        "      grades_sum.append(sum_c)\n",
        "  return grades_sum"
      ],
      "execution_count": 0,
      "outputs": []
    },
    {
      "cell_type": "code",
      "metadata": {
        "id": "xWqDFclKWriC",
        "colab_type": "code",
        "outputId": "1c08d364-4b6d-4ab0-e1e9-359225b2eddb",
        "colab": {
          "base_uri": "https://localhost:8080/",
          "height": 51
        }
      },
      "source": [
        "predictions = get_grade_share(rf_predictions[-15:], y_test[-15:])\n",
        "predictions_dict = dict(zip(['!=','A','B','C','D','F'], predictions)) \n",
        "print('Correct predictions on the last {} elements in the test set:'.format(sum(predictions)))\n",
        "print(predictions_dict)"
      ],
      "execution_count": 159,
      "outputs": [
        {
          "output_type": "stream",
          "text": [
            "Correct predictions on the last 15 elements in the test set:\n",
            "{'!=': 4, 'A': 1, 'B': 4, 'C': 1, 'D': 2, 'F': 3}\n"
          ],
          "name": "stdout"
        }
      ]
    },
    {
      "cell_type": "code",
      "metadata": {
        "id": "LskH3xtjd8Wy",
        "colab_type": "code",
        "outputId": "2d110f98-a907-464e-a800-4e89ec34a9e7",
        "colab": {
          "base_uri": "https://localhost:8080/",
          "height": 427
        }
      },
      "source": [
        "fig, ax = plt.subplots(figsize=(7,7))\n",
        "\n",
        "length = len(y_test)\n",
        "cmap = plt.get_cmap(\"tab10\")\n",
        "colors = cmap(range(6))\n",
        "colors[0] = [1,1,1,1]\n",
        "colors[-1] = cmap(0)\n",
        "\n",
        "ax.pie(get_grade_share(np.ones_like(y_test[-length:])*'F',y_test[-length:]), radius=0.8,colors=colors, wedgeprops=dict(width=0.1, edgecolor='w'))\n",
        "ax.pie(get_grade_share(rf_predictions[-length:], y_test[-length:]), radius=0.69, colors=colors, wedgeprops=dict(width=0.3, edgecolor='grey'))\n",
        "ax.pie(get_grade_share(y_test[-length:]), radius=1.11, colors=colors, wedgeprops=dict(width=0.3, edgecolor='grey'))\n",
        "ax.legend(['Wrong\\npredictions','A','B','C','D','F'], loc='lower right')\n",
        "ax.set(aspect=\"equal\", title='Share of correctly predicted grades')\n",
        "ax.annotate('', xy=(0.525,0), xytext=(1.3,1), arrowprops=dict(arrowstyle=\"-\", color='grey'))\n",
        "ax.annotate('', xy=(0.745,0), xytext=(1.3,0.75), arrowprops=dict(arrowstyle=\"-\", color='grey'))\n",
        "ax.annotate('', xy=(0.935,0), xytext=(1.3,0.5), arrowprops=dict(arrowstyle=\"-\", color='grey'))\n",
        "ax.annotate('Correctly predicted grades', xy=(0.525,0), xytext=(1.3,1), bbox=dict(boxstyle=\"square\", fc='w', ec='black'))\n",
        "ax.annotate('Predicting always F', xy=(0.745,0), xytext=(1.3,0.75), bbox=dict(boxstyle=\"square\", fc='w', ec='black'))\n",
        "ax.annotate('Actual grades', xy=(0.935,0), xytext=(1.3,0.5), bbox=dict(boxstyle=\"square\", fc='w', ec='black'))\n",
        "plt.show()"
      ],
      "execution_count": 160,
      "outputs": [
        {
          "output_type": "display_data",
          "data": {
            "image/png": "[encoded data removed]",
            "text/plain": [
              "<Figure size 504x504 with 1 Axes>"
            ]
          },
          "metadata": {
            "tags": []
          }
        }
      ]
    },
    {
      "cell_type": "markdown",
      "metadata": {
        "id": "8mrmksZNDbOI",
        "colab_type": "text"
      },
      "source": [
        "#Regression"
      ]
    },
    {
      "cell_type": "code",
      "metadata": {
        "id": "yO_DAp5AnBRB",
        "colab_type": "code",
        "outputId": "fbbf8a4e-18f6-442e-d93c-9deb1e913773",
        "colab": {
          "base_uri": "https://localhost:8080/",
          "height": 34
        }
      },
      "source": [
        "#Redefinition of the dependent variable before performing regression\n",
        "yr = data['G3'].values\n",
        "yr.shape"
      ],
      "execution_count": 0,
      "outputs": [
        {
          "output_type": "execute_result",
          "data": {
            "text/plain": [
              "(395,)"
            ]
          },
          "metadata": {
            "tags": []
          },
          "execution_count": 149
        }
      ]
    },
    {
      "cell_type": "code",
      "metadata": {
        "id": "j6BP0deTq0lr",
        "colab_type": "code",
        "colab": {}
      },
      "source": [
        "Xr_train, Xr_test, yr_train, yr_test = train_test_split(X,yr, test_size=0.3, random_state=42)"
      ],
      "execution_count": 0,
      "outputs": []
    },
    {
      "cell_type": "code",
      "metadata": {
        "id": "1_lgNUX43-HP",
        "colab_type": "code",
        "colab": {}
      },
      "source": [
        "Xr_train_trans = transformer.fit_transform(Xr_train)\n",
        "Xr_test_trans = transformer.transform(Xr_test)"
      ],
      "execution_count": 0,
      "outputs": []
    },
    {
      "cell_type": "markdown",
      "metadata": {
        "id": "Jy0TvrBLALDO",
        "colab_type": "text"
      },
      "source": [
        "Quick evaluation of different regression algorithms based on RMSE:"
      ]
    },
    {
      "cell_type": "code",
      "metadata": {
        "id": "6QlvWBCi4n6r",
        "colab_type": "code",
        "outputId": "642a5fb3-178a-4a06-d604-379277d2b5de",
        "colab": {
          "base_uri": "https://localhost:8080/",
          "height": 68
        }
      },
      "source": [
        "lasso_reg = Lasso(alpha=0.01)\n",
        "lasso_reg.fit(Xr_train_trans, yr_train)"
      ],
      "execution_count": 0,
      "outputs": [
        {
          "output_type": "execute_result",
          "data": {
            "text/plain": [
              "Lasso(alpha=0.01, copy_X=True, fit_intercept=True, max_iter=1000,\n",
              "      normalize=False, positive=False, precompute=False, random_state=None,\n",
              "      selection='cyclic', tol=0.0001, warm_start=False)"
            ]
          },
          "metadata": {
            "tags": []
          },
          "execution_count": 152
        }
      ]
    },
    {
      "cell_type": "code",
      "metadata": {
        "id": "mtAvsG9k42X8",
        "colab_type": "code",
        "outputId": "7c68ba4f-c22f-4fa7-ec31-9e345fcacdf1",
        "colab": {
          "base_uri": "https://localhost:8080/",
          "height": 374
        }
      },
      "source": [
        "print('Attributes selected by LASSO:')\n",
        "list(np.array(attributes)[lasso_reg.sparse_coef_.indices])"
      ],
      "execution_count": 0,
      "outputs": [
        {
          "output_type": "stream",
          "text": [
            "Attributes selected by LASSO:\n"
          ],
          "name": "stdout"
        },
        {
          "output_type": "execute_result",
          "data": {
            "text/plain": [
              "['sex_M',\n",
              " 'address_U',\n",
              " 'famsize_LE3',\n",
              " 'Mjob_services',\n",
              " 'Fjob_other',\n",
              " 'Fjob_services',\n",
              " 'reason_home',\n",
              " 'reason_reputation',\n",
              " 'guardian_mother',\n",
              " 'guardian_other',\n",
              " 'famsup_yes',\n",
              " 'activities_yes',\n",
              " 'nursery_yes',\n",
              " 'internet_yes',\n",
              " 'romantic_yes',\n",
              " 'age',\n",
              " 'Fedu',\n",
              " 'absences',\n",
              " 'G1',\n",
              " 'G2']"
            ]
          },
          "metadata": {
            "tags": []
          },
          "execution_count": 153
        }
      ]
    },
    {
      "cell_type": "code",
      "metadata": {
        "id": "5-_lr4dQ5MvA",
        "colab_type": "code",
        "outputId": "9a3688ca-75a5-469c-eaac-9200b7d04d2b",
        "colab": {
          "base_uri": "https://localhost:8080/",
          "height": 34
        }
      },
      "source": [
        "lasso_pred = lasso_reg.predict(Xr_test_trans)\n",
        "lasso_rmse = MSE(yr_test, lasso_pred)**0.5\n",
        "lasso_rmse"
      ],
      "execution_count": 0,
      "outputs": [
        {
          "output_type": "execute_result",
          "data": {
            "text/plain": [
              "2.200268353483738"
            ]
          },
          "metadata": {
            "tags": []
          },
          "execution_count": 154
        }
      ]
    },
    {
      "cell_type": "code",
      "metadata": {
        "id": "kIxVCQPt5a1J",
        "colab_type": "code",
        "outputId": "bd982a01-574e-4047-a8be-99f201a7826d",
        "colab": {
          "base_uri": "https://localhost:8080/",
          "height": 34
        }
      },
      "source": [
        "lin_reg = LinearRegression()\n",
        "lin_reg.fit(Xr_train_trans, yr_train)"
      ],
      "execution_count": 0,
      "outputs": [
        {
          "output_type": "execute_result",
          "data": {
            "text/plain": [
              "LinearRegression(copy_X=True, fit_intercept=True, n_jobs=None, normalize=False)"
            ]
          },
          "metadata": {
            "tags": []
          },
          "execution_count": 155
        }
      ]
    },
    {
      "cell_type": "code",
      "metadata": {
        "id": "3kQTZKuh5s-P",
        "colab_type": "code",
        "outputId": "2c8fa230-e87c-456a-aee7-3dfb03218928",
        "colab": {
          "base_uri": "https://localhost:8080/",
          "height": 731
        }
      },
      "source": [
        "display(sorted(zip(lin_reg.coef_,attributes), reverse=True))\n",
        "print('\\n ('+str(lin_reg.intercept_)+', \\'intercept\\')')"
      ],
      "execution_count": 0,
      "outputs": [
        {
          "output_type": "display_data",
          "data": {
            "text/plain": [
              "[(21.493236678296686, 'G2'),\n",
              " (13.132259622171397, 'G1'),\n",
              " (8.799147298190887, 'famrel'),\n",
              " (8.29479336882827, 'goout'),\n",
              " (4.332199476135237, 'absences'),\n",
              " (0.5256338781910829, 'Mjob_teacher'),\n",
              " (0.4008284423573147, 'guardian_other'),\n",
              " (0.25444610754670616, 'sex_M'),\n",
              " (0.24543733899400355, 'Mjob_services'),\n",
              " (0.23875161015395346, 'famsup_yes'),\n",
              " (0.23111178732822454, 'Mjob_health'),\n",
              " (0.21116552402388497, 'guardian_mother'),\n",
              " (0.1603243786182941, 'Mjob_other'),\n",
              " (0.15708062730702213, 'reason_other'),\n",
              " (0.144950181178833, 'schoolsup_yes'),\n",
              " (0.1260440654939359, 'Fjob_teacher'),\n",
              " (0.07259904093431169, 'Fjob_health'),\n",
              " (0.0667048103287822, 'paid_yes'),\n",
              " (0.04215455505711194, 'Fjob_other'),\n",
              " (-0.08106918268206233, 'higher_yes'),\n",
              " (-0.1320349174490228, 'internet_yes'),\n",
              " (-0.1814549588563758, 'famsize_LE3'),\n",
              " (-0.20849508582845455, 'Fjob_services'),\n",
              " (-0.22429612954611303, 'romantic_yes'),\n",
              " (-0.2503649215833225, 'address_U'),\n",
              " (-0.26743162369873413, 'Pstatus_T'),\n",
              " (-0.26977076985134546, 'nursery_yes'),\n",
              " (-0.28306472753560236, 'reason_reputation'),\n",
              " (-0.410374155121828, 'activities_yes'),\n",
              " (-0.7178306389815, 'reason_home'),\n",
              " (-0.8009411404967863, 'health'),\n",
              " (-1.0697824898475794, 'traveltime'),\n",
              " (-1.658295468747025, 'Medu'),\n",
              " (-1.9683168057998548, 'Walc'),\n",
              " (-3.278035208547323, 'failures'),\n",
              " (-5.349975134155567, 'freetime'),\n",
              " (-7.37554280818155, 'Dalc'),\n",
              " (-7.601431101315822, 'studytime'),\n",
              " (-8.562638561662004, 'Fedu'),\n",
              " (-12.95806649876478, 'age')]"
            ]
          },
          "metadata": {
            "tags": []
          }
        },
        {
          "output_type": "stream",
          "text": [
            "\n",
            " (5.324026051442755, 'intercept')\n"
          ],
          "name": "stdout"
        }
      ]
    },
    {
      "cell_type": "code",
      "metadata": {
        "id": "4N4librL5w8u",
        "colab_type": "code",
        "outputId": "628ce395-7c04-495b-b1f6-3f93479ad78a",
        "colab": {
          "base_uri": "https://localhost:8080/",
          "height": 34
        }
      },
      "source": [
        "lin_pred = lin_reg.predict(Xr_test_trans)\n",
        "lin_rmse = MSE(yr_test, lin_pred)**0.5\n",
        "lin_rmse"
      ],
      "execution_count": 0,
      "outputs": [
        {
          "output_type": "execute_result",
          "data": {
            "text/plain": [
              "2.3542808572917644"
            ]
          },
          "metadata": {
            "tags": []
          },
          "execution_count": 157
        }
      ]
    },
    {
      "cell_type": "code",
      "metadata": {
        "id": "CXkWrtVB52SN",
        "colab_type": "code",
        "outputId": "6c1175c1-1f40-48e6-d8eb-c5d9da68fc1f",
        "colab": {
          "base_uri": "https://localhost:8080/",
          "height": 34
        }
      },
      "source": [
        "xgb_reg = XGBRegressor(objective ='reg:squarederror')\n",
        "xgb_reg.fit(Xr_train_trans, yr_train)\n",
        "xgb_pred = xgb_reg.predict(Xr_test_trans)\n",
        "xgb_rmse = MSE(yr_test, xgb_pred)**0.5\n",
        "xgb_rmse"
      ],
      "execution_count": 0,
      "outputs": [
        {
          "output_type": "execute_result",
          "data": {
            "text/plain": [
              "1.8880727551701788"
            ]
          },
          "metadata": {
            "tags": []
          },
          "execution_count": 175
        }
      ]
    },
    {
      "cell_type": "code",
      "metadata": {
        "id": "OWf4z67357CH",
        "colab_type": "code",
        "outputId": "a5d14f7e-b017-4644-edf0-e1951d9a020c",
        "colab": {
          "base_uri": "https://localhost:8080/",
          "height": 34
        }
      },
      "source": [
        "random_forest = RandomForestRegressor()\n",
        "random_forest.fit(Xr_train_trans, yr_train)\n",
        "rand_f_pred = random_forest.predict(Xr_test_trans)\n",
        "rand_f_rmse = MSE(yr_test, rand_f_pred)**0.5\n",
        "rand_f_rmse"
      ],
      "execution_count": 0,
      "outputs": [
        {
          "output_type": "execute_result",
          "data": {
            "text/plain": [
              "1.8082418686288027"
            ]
          },
          "metadata": {
            "tags": []
          },
          "execution_count": 176
        }
      ]
    },
    {
      "cell_type": "code",
      "metadata": {
        "id": "OTJsbQkp6Ac_",
        "colab_type": "code",
        "outputId": "0d2d8f93-ea7b-497c-b33c-58b979eafeeb",
        "colab": {
          "base_uri": "https://localhost:8080/",
          "height": 295
        }
      },
      "source": [
        "maes = pd.Series([rand_f_rmse, xgb_rmse, lasso_rmse, lin_rmse], index=['Random_Forest','XGBoost', 'Lasso','LinReg'])\n",
        "maes.plot(kind='barh', title='RMSEs comparison')\n",
        "plt.xlabel('RMSE score')\n",
        "plt.ylabel('Models')\n",
        "plt.show()"
      ],
      "execution_count": 0,
      "outputs": [
        {
          "output_type": "display_data",
          "data": {
            "image/png": "[encoded data removed]",
            "text/plain": [
              "<Figure size 432x288 with 1 Axes>"
            ]
          },
          "metadata": {
            "tags": []
          }
        }
      ]
    },
    {
      "cell_type": "code",
      "metadata": {
        "id": "mHtVgB-f6FRu",
        "colab_type": "code",
        "colab": {}
      },
      "source": [
        "tuned_forest_reg = RandomForestRegressor()\n",
        "\n",
        "n_estimators = [int(x) for x in np.arange(30, 40, 1)]\n",
        "max_depth = [int(x) for x in np.arange(5, 10, 1)]\n",
        "\n",
        "random_grid = {'n_estimators': n_estimators,\n",
        "               'max_depth' : max_depth\n",
        "               }\n",
        "\n",
        "reg_rsearch = RandomizedSearchCV(tuned_forest_reg, random_grid, scoring='neg_mean_squared_error', cv=3, n_jobs=-1, random_state=42)"
      ],
      "execution_count": 0,
      "outputs": []
    },
    {
      "cell_type": "code",
      "metadata": {
        "id": "JHTQxjD-6KfN",
        "colab_type": "code",
        "outputId": "b2821071-f1dd-4403-a89d-7863e0087917",
        "colab": {
          "base_uri": "https://localhost:8080/",
          "height": 425
        }
      },
      "source": [
        "reg_rsearch.fit(Xr_train_trans, yr_train)"
      ],
      "execution_count": 0,
      "outputs": [
        {
          "output_type": "execute_result",
          "data": {
            "text/plain": [
              "RandomizedSearchCV(cv=3, error_score=nan,\n",
              "                   estimator=RandomForestRegressor(bootstrap=True,\n",
              "                                                   ccp_alpha=0.0,\n",
              "                                                   criterion='mse',\n",
              "                                                   max_depth=None,\n",
              "                                                   max_features='auto',\n",
              "                                                   max_leaf_nodes=None,\n",
              "                                                   max_samples=None,\n",
              "                                                   min_impurity_decrease=0.0,\n",
              "                                                   min_impurity_split=None,\n",
              "                                                   min_samples_leaf=1,\n",
              "                                                   min_samples_split=2,\n",
              "                                                   min_weight_fraction_leaf=0.0,\n",
              "                                                   n_estimators=100,\n",
              "                                                   n_jobs=None, oob_score=False,\n",
              "                                                   random_state=None, verbose=0,\n",
              "                                                   warm_start=False),\n",
              "                   iid='deprecated', n_iter=10, n_jobs=-1,\n",
              "                   param_distributions={'max_depth': [5, 6, 7, 8, 9],\n",
              "                                        'n_estimators': [30, 31, 32, 33, 34, 35,\n",
              "                                                         36, 37, 38, 39]},\n",
              "                   pre_dispatch='2*n_jobs', random_state=42, refit=True,\n",
              "                   return_train_score=False, scoring='neg_mean_squared_error',\n",
              "                   verbose=0)"
            ]
          },
          "metadata": {
            "tags": []
          },
          "execution_count": 898
        }
      ]
    },
    {
      "cell_type": "code",
      "metadata": {
        "id": "E3nglWLT6OWw",
        "colab_type": "code",
        "outputId": "378d635c-77d6-48fb-9338-9a27832d591c",
        "colab": {
          "base_uri": "https://localhost:8080/",
          "height": 136
        }
      },
      "source": [
        "rf_reg_best = reg_rsearch.best_estimator_\n",
        "rf_reg_best"
      ],
      "execution_count": 0,
      "outputs": [
        {
          "output_type": "execute_result",
          "data": {
            "text/plain": [
              "RandomForestRegressor(bootstrap=True, ccp_alpha=0.0, criterion='mse',\n",
              "                      max_depth=9, max_features='auto', max_leaf_nodes=None,\n",
              "                      max_samples=None, min_impurity_decrease=0.0,\n",
              "                      min_impurity_split=None, min_samples_leaf=1,\n",
              "                      min_samples_split=2, min_weight_fraction_leaf=0.0,\n",
              "                      n_estimators=38, n_jobs=None, oob_score=False,\n",
              "                      random_state=None, verbose=0, warm_start=False)"
            ]
          },
          "metadata": {
            "tags": []
          },
          "execution_count": 899
        }
      ]
    },
    {
      "cell_type": "code",
      "metadata": {
        "id": "CpZcICNx6ssF",
        "colab_type": "code",
        "outputId": "72b29df9-d811-4d85-c4b7-a8ebd2d42021",
        "colab": {
          "base_uri": "https://localhost:8080/",
          "height": 697
        }
      },
      "source": [
        "reg_feature_importance = rf_reg_best.feature_importances_\n",
        "\n",
        "reg_relevant_features = sorted(zip(reg_feature_importance, attributes), reverse=True)\n",
        "reg_relevant_features"
      ],
      "execution_count": 0,
      "outputs": [
        {
          "output_type": "execute_result",
          "data": {
            "text/plain": [
              "[(0.42306498395847925, 'age'),\n",
              " (0.34311826325723427, 'G2'),\n",
              " (0.08836482026410826, 'absences'),\n",
              " (0.029385838181660687, 'G1'),\n",
              " (0.017733370608318966, 'Dalc'),\n",
              " (0.015809307467838648, 'Fedu'),\n",
              " (0.011297650573399695, 'traveltime'),\n",
              " (0.010301677194189363, 'freetime'),\n",
              " (0.008469135264492422, 'famrel'),\n",
              " (0.007960971379816727, 'studytime'),\n",
              " (0.007472993394536, 'goout'),\n",
              " (0.006697224959890372, 'health'),\n",
              " (0.005533338205668352, 'Walc'),\n",
              " (0.004601214220838242, 'reason_home'),\n",
              " (0.004058519943660847, 'Medu'),\n",
              " (0.0034163286859191684, 'schoolsup_yes'),\n",
              " (0.0019844970365791837, 'failures'),\n",
              " (0.0013834283595122606, 'Fjob_services'),\n",
              " (0.0013731052096397816, 'romantic_yes'),\n",
              " (0.0009559081507310017, 'Mjob_services'),\n",
              " (0.0008321210016450605, 'Mjob_teacher'),\n",
              " (0.0007104361867319522, 'reason_other'),\n",
              " (0.0006118905269006665, 'Fjob_health'),\n",
              " (0.0006073346118617583, 'Mjob_other'),\n",
              " (0.0006022935962581924, 'famsize_LE3'),\n",
              " (0.0005928287256278514, 'guardian_mother'),\n",
              " (0.0004135721341316792, 'Fjob_teacher'),\n",
              " (0.00033285612342766487, 'activities_yes'),\n",
              " (0.00031352464171791153, 'reason_reputation'),\n",
              " (0.000262720590784877, 'sex_M'),\n",
              " (0.0002585501368146259, 'Fjob_other'),\n",
              " (0.00024558675536648144, 'nursery_yes'),\n",
              " (0.00024236445621087484, 'Mjob_health'),\n",
              " (0.00017470455146247188, 'famsup_yes'),\n",
              " (0.0001707383841501332, 'internet_yes'),\n",
              " (0.00016448657029232764, 'guardian_other'),\n",
              " (0.00015594126240007656, 'higher_yes'),\n",
              " (0.00013880530826966442, 'paid_yes'),\n",
              " (0.0001112877491311242, 'address_U'),\n",
              " (7.538037030114045e-05, 'Pstatus_T')]"
            ]
          },
          "metadata": {
            "tags": []
          },
          "execution_count": 900
        }
      ]
    },
    {
      "cell_type": "code",
      "metadata": {
        "id": "3M5d-Xzu6wpw",
        "colab_type": "code",
        "outputId": "245dbe01-e9b9-4b82-8682-fd900b08fe6f",
        "colab": {
          "base_uri": "https://localhost:8080/",
          "height": 390
        }
      },
      "source": [
        "top5 = reg_relevant_features[0:5]\n",
        "reg_attr = [x[1] for x in top5]\n",
        "reg_imp = [x[0] for x in top5]\n",
        "\n",
        "sns.set_style(\"whitegrid\")\n",
        "plt.figure(figsize=(10,6))\n",
        "plt.title('Top 5 attributes')\n",
        "plt.barh(reg_attr, reg_imp, color=['cadetblue','steelblue','slateblue','darkmagenta','orchid'],  edgecolor='black')\n",
        "plt.show()"
      ],
      "execution_count": 0,
      "outputs": [
        {
          "output_type": "display_data",
          "data": {
            "image/png": "[encoded data removed]",
            "text/plain": [
              "<Figure size 720x432 with 1 Axes>"
            ]
          },
          "metadata": {
            "tags": []
          }
        }
      ]
    },
    {
      "cell_type": "code",
      "metadata": {
        "id": "6-1XEbXo60XB",
        "colab_type": "code",
        "outputId": "7cc6d2f0-2f54-4f9c-944d-6058afcf3af8",
        "colab": {
          "base_uri": "https://localhost:8080/",
          "height": 34
        }
      },
      "source": [
        "rf_reg_predictions = reg_rsearch.predict(Xr_test_trans)\n",
        "rf_rmse = MSE(yr_test, rf_reg_predictions)**0.5\n",
        "rf_rmse"
      ],
      "execution_count": 0,
      "outputs": [
        {
          "output_type": "execute_result",
          "data": {
            "text/plain": [
              "1.784393937585789"
            ]
          },
          "metadata": {
            "tags": []
          },
          "execution_count": 902
        }
      ]
    },
    {
      "cell_type": "code",
      "metadata": {
        "id": "kH9Dudco64v0",
        "colab_type": "code",
        "outputId": "50d42d66-7961-4ce0-d6cd-295dcfc4155f",
        "colab": {
          "base_uri": "https://localhost:8080/",
          "height": 118
        }
      },
      "source": [
        "comparison_rmse = 'RMSE'\n",
        "plt.figure(figsize=(7,1))\n",
        "plt.barh(comparison_rmse, rand_f_rmse,color='darkred')\n",
        "plt.barh(comparison_rmse, rf_rmse)\n",
        "plt.xlim(1.5, 1.85)\n",
        "plt.title('Comparison of base vs tuned Random Forest')\n",
        "plt.legend(['Base RF','Tuned RF'], loc='center left')\n",
        "plt.show()"
      ],
      "execution_count": 0,
      "outputs": [
        {
          "output_type": "display_data",
          "data": {
            "image/png": "[encoded data removed]",
            "text/plain": [
              "<Figure size 504x72 with 1 Axes>"
            ]
          },
          "metadata": {
            "tags": []
          }
        }
      ]
    },
    {
      "cell_type": "code",
      "metadata": {
        "id": "EQuC5rSP68RC",
        "colab_type": "code",
        "outputId": "923572f2-c89d-4186-aed4-8d5197a87373",
        "colab": {
          "base_uri": "https://localhost:8080/",
          "height": 350
        }
      },
      "source": [
        "num_to_viz = 20\n",
        "plt.figure(figsize=(15,5))\n",
        "plt.scatter(y=yr_test[-num_to_viz:], x=[x for x in range(num_to_viz)], c='b')\n",
        "plt.scatter(y=rf_reg_predictions[-num_to_viz:], x=[x for x in range(num_to_viz)], c='r')\n",
        "plt.scatter(y=np.zeros_like(yr_test[-num_to_viz:]) + np.mean(yr_test[-num_to_viz:]), x=[x for x in range(num_to_viz)], c='black', marker='D')\n",
        "plt.vlines(x=[x for x in range(num_to_viz)], ymin=rf_reg_predictions[-num_to_viz:], ymax=yr_test[-num_to_viz:], color='darkmagenta', alpha=0.7)\n",
        "plt.legend(['Actual', 'Prediction', 'Mean'])\n",
        "plt.xticks(np.arange(0,num_to_viz,step=1), labels=[str(x) for x in np.arange(1,num_to_viz+1,1)])\n",
        "plt.ylabel('Grades')\n",
        "plt.xlabel('Students')\n",
        "plt.yticks(range(0,21,2))\n",
        "plt.title('Predicted vs actual final grades of {} students'.format(num_to_viz))\n",
        "plt.show()"
      ],
      "execution_count": 0,
      "outputs": [
        {
          "output_type": "display_data",
          "data": {
            "image/png": "[encoded data removed]",
            "text/plain": [
              "<Figure size 1080x360 with 1 Axes>"
            ]
          },
          "metadata": {
            "tags": []
          }
        }
      ]
    },
    {
      "cell_type": "code",
      "metadata": {
        "id": "g2-BtSXv7ESe",
        "colab_type": "code",
        "outputId": "3077d337-b4be-4930-8b90-59d5808c8a82",
        "colab": {
          "base_uri": "https://localhost:8080/",
          "height": 350
        }
      },
      "source": [
        "plt.figure(figsize=(7,5))\n",
        "plt.title('Distribution of actual and predicted final grades')\n",
        "plt.xlabel('Grades')\n",
        "plt.hist(yr_test, color='lightblue', bins=[0,3,6,9,12,15,18,21])\n",
        "plt.hist(rf_reg_predictions, color='darkmagenta', bins=[0,3,6,9,12,15,18,21], alpha=0.4)\n",
        "plt.legend(['Actual','Predicted'], loc='upper left')\n",
        "plt.xticks([0,3,6,9,12,15,18])\n",
        "plt.show()"
      ],
      "execution_count": 0,
      "outputs": [
        {
          "output_type": "display_data",
          "data": {
            "image/png": "[encoded data removed]",
            "text/plain": [
              "<Figure size 504x360 with 1 Axes>"
            ]
          },
          "metadata": {
            "tags": []
          }
        }
      ]
    },
    {
      "cell_type": "code",
      "metadata": {
        "id": "q5daHTIs_nKg",
        "colab_type": "code",
        "colab": {}
      },
      "source": [
        ""
      ],
      "execution_count": 0,
      "outputs": []
    }
  ]
}