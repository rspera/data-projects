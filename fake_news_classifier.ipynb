{
  "nbformat": 4,
  "nbformat_minor": 0,
  "metadata": {
    "colab": {
      "name": "fn-data.ipynb",
      "provenance": [],
      "collapsed_sections": []
    },
    "kernelspec": {
      "name": "python3",
      "display_name": "Python 3"
    }
  },
  "cells": [
    {
      "cell_type": "code",
      "metadata": {
        "id": "mqWydN6sNf0R",
        "colab_type": "code",
        "colab": {}
      },
      "source": [
        "from google.colab import files\n",
        "\n",
        "import numpy as np\n",
        "import pandas as pd\n",
        "import tensorflow as tf\n",
        "import matplotlib.pyplot as plt\n",
        "from sklearn.utils import shuffle\n",
        "\n",
        "from tensorflow.keras.utils import plot_model\n",
        "from tensorflow.keras.preprocessing.text import Tokenizer\n",
        "from tensorflow.keras.preprocessing.sequence import pad_sequences"
      ],
      "execution_count": 0,
      "outputs": []
    },
    {
      "cell_type": "code",
      "metadata": {
        "id": "aLUJxRYPOvuJ",
        "colab_type": "code",
        "outputId": "676586fe-789c-4ad2-8acb-04e45e3894f1",
        "colab": {
          "resources": {
            "http://localhost:8080/nbextensions/google.colab/files.js": {
              "data": "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",
              "ok": true,
              "headers": [
                [
                  "content-type",
                  "application/javascript"
                ]
              ],
              "status": 200,
              "status_text": ""
            }
          },
          "base_uri": "https://localhost:8080/",
          "height": 71
        }
      },
      "source": [
        "uploaded = files.upload()"
      ],
      "execution_count": 2,
      "outputs": [
        {
          "output_type": "display_data",
          "data": {
            "text/html": [
              "\n",
              "     <input type=\"file\" id=\"files-8290dc11-1a1c-4280-815b-616ce1cde482\" name=\"files[]\" multiple disabled />\n",
              "     <output id=\"result-8290dc11-1a1c-4280-815b-616ce1cde482\">\n",
              "      Upload widget is only available when the cell has been executed in the\n",
              "      current browser session. Please rerun this cell to enable.\n",
              "      </output>\n",
              "      <script src=\"/nbextensions/google.colab/files.js\"></script> "
            ],
            "text/plain": [
              "<IPython.core.display.HTML object>"
            ]
          },
          "metadata": {
            "tags": []
          }
        },
        {
          "output_type": "stream",
          "text": [
            "Saving train.csv to train.csv\n"
          ],
          "name": "stdout"
        }
      ]
    },
    {
      "cell_type": "code",
      "metadata": {
        "id": "0T1UkAdJNkoN",
        "colab_type": "code",
        "colab": {}
      },
      "source": [
        "df = pd.read_csv('/content/drive/My Drive/train.csv', index_col=0)"
      ],
      "execution_count": 0,
      "outputs": []
    },
    {
      "cell_type": "code",
      "metadata": {
        "id": "t6AEsCk7NnLz",
        "colab_type": "code",
        "outputId": "50f7700d-f37a-4566-a126-f10b3bfbeb99",
        "colab": {
          "base_uri": "https://localhost:8080/",
          "height": 456
        }
      },
      "source": [
        "data = df.copy()\n",
        "display(data.head())\n",
        "print('\\n')\n",
        "data.info()"
      ],
      "execution_count": 3,
      "outputs": [
        {
          "output_type": "display_data",
          "data": {
            "text/html": [
              "<div>\n",
              "<style scoped>\n",
              "    .dataframe tbody tr th:only-of-type {\n",
              "        vertical-align: middle;\n",
              "    }\n",
              "\n",
              "    .dataframe tbody tr th {\n",
              "        vertical-align: top;\n",
              "    }\n",
              "\n",
              "    .dataframe thead th {\n",
              "        text-align: right;\n",
              "    }\n",
              "</style>\n",
              "<table border=\"1\" class=\"dataframe\">\n",
              "  <thead>\n",
              "    <tr style=\"text-align: right;\">\n",
              "      <th></th>\n",
              "      <th>title</th>\n",
              "      <th>author</th>\n",
              "      <th>text</th>\n",
              "      <th>label</th>\n",
              "    </tr>\n",
              "    <tr>\n",
              "      <th>id</th>\n",
              "      <th></th>\n",
              "      <th></th>\n",
              "      <th></th>\n",
              "      <th></th>\n",
              "    </tr>\n",
              "  </thead>\n",
              "  <tbody>\n",
              "    <tr>\n",
              "      <th>0</th>\n",
              "      <td>House Dem Aide: We Didn’t Even See Comey’s Let...</td>\n",
              "      <td>Darrell Lucus</td>\n",
              "      <td>House Dem Aide: We Didn’t Even See Comey’s Let...</td>\n",
              "      <td>1</td>\n",
              "    </tr>\n",
              "    <tr>\n",
              "      <th>1</th>\n",
              "      <td>FLYNN: Hillary Clinton, Big Woman on Campus - ...</td>\n",
              "      <td>Daniel J. Flynn</td>\n",
              "      <td>Ever get the feeling your life circles the rou...</td>\n",
              "      <td>0</td>\n",
              "    </tr>\n",
              "    <tr>\n",
              "      <th>2</th>\n",
              "      <td>Why the Truth Might Get You Fired</td>\n",
              "      <td>Consortiumnews.com</td>\n",
              "      <td>Why the Truth Might Get You Fired October 29, ...</td>\n",
              "      <td>1</td>\n",
              "    </tr>\n",
              "    <tr>\n",
              "      <th>3</th>\n",
              "      <td>15 Civilians Killed In Single US Airstrike Hav...</td>\n",
              "      <td>Jessica Purkiss</td>\n",
              "      <td>Videos 15 Civilians Killed In Single US Airstr...</td>\n",
              "      <td>1</td>\n",
              "    </tr>\n",
              "    <tr>\n",
              "      <th>4</th>\n",
              "      <td>Iranian woman jailed for fictional unpublished...</td>\n",
              "      <td>Howard Portnoy</td>\n",
              "      <td>Print \\nAn Iranian woman has been sentenced to...</td>\n",
              "      <td>1</td>\n",
              "    </tr>\n",
              "  </tbody>\n",
              "</table>\n",
              "</div>"
            ],
            "text/plain": [
              "                                                title  ... label\n",
              "id                                                     ...      \n",
              "0   House Dem Aide: We Didn’t Even See Comey’s Let...  ...     1\n",
              "1   FLYNN: Hillary Clinton, Big Woman on Campus - ...  ...     0\n",
              "2                   Why the Truth Might Get You Fired  ...     1\n",
              "3   15 Civilians Killed In Single US Airstrike Hav...  ...     1\n",
              "4   Iranian woman jailed for fictional unpublished...  ...     1\n",
              "\n",
              "[5 rows x 4 columns]"
            ]
          },
          "metadata": {
            "tags": []
          }
        },
        {
          "output_type": "stream",
          "text": [
            "\n",
            "\n",
            "<class 'pandas.core.frame.DataFrame'>\n",
            "Int64Index: 20800 entries, 0 to 20799\n",
            "Data columns (total 4 columns):\n",
            " #   Column  Non-Null Count  Dtype \n",
            "---  ------  --------------  ----- \n",
            " 0   title   20242 non-null  object\n",
            " 1   author  18843 non-null  object\n",
            " 2   text    20761 non-null  object\n",
            " 3   label   20800 non-null  int64 \n",
            "dtypes: int64(1), object(3)\n",
            "memory usage: 812.5+ KB\n"
          ],
          "name": "stdout"
        }
      ]
    },
    {
      "cell_type": "code",
      "metadata": {
        "id": "38-bSc5SNrm3",
        "colab_type": "code",
        "outputId": "c60631bb-d713-4f47-c0a1-05be5db84aef",
        "colab": {
          "base_uri": "https://localhost:8080/",
          "height": 102
        }
      },
      "source": [
        "data.isnull().sum()"
      ],
      "execution_count": 4,
      "outputs": [
        {
          "output_type": "execute_result",
          "data": {
            "text/plain": [
              "title      558\n",
              "author    1957\n",
              "text        39\n",
              "label        0\n",
              "dtype: int64"
            ]
          },
          "metadata": {
            "tags": []
          },
          "execution_count": 4
        }
      ]
    },
    {
      "cell_type": "markdown",
      "metadata": {
        "id": "nT53cEWANsFk",
        "colab_type": "text"
      },
      "source": [
        "Out of 20800 entries, 558 titles, 1957 authors and 39 texts are null objects.\n",
        "\n",
        "Since missing titles and authors may not constitute a significant drawback as long as the text of the article is available (and could actually turn out to be a driver of useful information), the best strategy in this case is to drop the datapoint without text, which is expected to be the foundation of this analysis, and fill in with a whitespace the other unavailable feature, i.e. title and author."
      ]
    },
    {
      "cell_type": "code",
      "metadata": {
        "id": "FkPTPl2-NvAg",
        "colab_type": "code",
        "outputId": "c0667ebe-bfa0-44ce-9bee-6c55b80f8d63",
        "colab": {
          "base_uri": "https://localhost:8080/",
          "height": 204
        }
      },
      "source": [
        "data = data.dropna(subset=['text'], axis=0)\n",
        "data[['author','title']] = data[['author','title']].fillna('')\n",
        "data.info()"
      ],
      "execution_count": 5,
      "outputs": [
        {
          "output_type": "stream",
          "text": [
            "<class 'pandas.core.frame.DataFrame'>\n",
            "Int64Index: 20761 entries, 0 to 20799\n",
            "Data columns (total 4 columns):\n",
            " #   Column  Non-Null Count  Dtype \n",
            "---  ------  --------------  ----- \n",
            " 0   title   20761 non-null  object\n",
            " 1   author  20761 non-null  object\n",
            " 2   text    20761 non-null  object\n",
            " 3   label   20761 non-null  int64 \n",
            "dtypes: int64(1), object(3)\n",
            "memory usage: 811.0+ KB\n"
          ],
          "name": "stdout"
        }
      ]
    },
    {
      "cell_type": "code",
      "metadata": {
        "id": "gK7BerD32SjS",
        "colab_type": "code",
        "outputId": "80448621-f60a-4300-eb8e-56c4b8cc66cd",
        "colab": {
          "base_uri": "https://localhost:8080/",
          "height": 34
        }
      },
      "source": [
        "empty_titles = data[data['title']=='']\n",
        "print('Number of unreliable news among the articles without any recorded title : ' + str(100*sum(empty_titles['label'])/len(empty_titles))+'%')"
      ],
      "execution_count": 6,
      "outputs": [
        {
          "output_type": "stream",
          "text": [
            "Number of unreliable news among the articles without any recorded title : 100.0%\n"
          ],
          "name": "stdout"
        }
      ]
    },
    {
      "cell_type": "code",
      "metadata": {
        "id": "aTb1Gm0eNxf3",
        "colab_type": "code",
        "outputId": "45cff8ba-d0e0-4d58-e7f4-d160fdecc4f9",
        "colab": {
          "base_uri": "https://localhost:8080/",
          "height": 272
        }
      },
      "source": [
        "length = pd.Series(len(str(text)) for text in data['text'])\n",
        "display(length.describe())\n",
        "print('\\n80th percentile = ' + str(int(length.quantile(0.8))))\n",
        "print('\\n95th percentile = ' + str(int(length.quantile(0.95))))\n",
        "print('\\n99.9th percentile = ' + str(int(length.quantile(0.999))))"
      ],
      "execution_count": 7,
      "outputs": [
        {
          "output_type": "display_data",
          "data": {
            "text/plain": [
              "count     20761.000000\n",
              "mean       4552.715380\n",
              "std        5130.563491\n",
              "min           1.000000\n",
              "25%        1628.000000\n",
              "50%        3361.000000\n",
              "75%        6275.000000\n",
              "max      142961.000000\n",
              "dtype: float64"
            ]
          },
          "metadata": {
            "tags": []
          }
        },
        {
          "output_type": "stream",
          "text": [
            "\n",
            "80th percentile = 6966\n",
            "\n",
            "95th percentile = 11210\n",
            "\n",
            "99.9th percentile = 52181\n"
          ],
          "name": "stdout"
        }
      ]
    },
    {
      "cell_type": "code",
      "metadata": {
        "id": "sNIwdjo9N0YW",
        "colab_type": "code",
        "outputId": "4b424c36-56e6-432c-a376-cd132ca3ac08",
        "colab": {
          "base_uri": "https://localhost:8080/",
          "height": 34
        }
      },
      "source": [
        "print(length[length == 6966].index)"
      ],
      "execution_count": 8,
      "outputs": [
        {
          "output_type": "stream",
          "text": [
            "Int64Index([6300], dtype='int64')\n"
          ],
          "name": "stdout"
        }
      ]
    },
    {
      "cell_type": "code",
      "metadata": {
        "id": "GHJrhex2N24u",
        "colab_type": "code",
        "outputId": "9d9319f2-db2e-4d16-a133-2cf5d51edc4e",
        "colab": {
          "base_uri": "https://localhost:8080/",
          "height": 34
        }
      },
      "source": [
        "print(len(str(data['text'].iloc[6300])))"
      ],
      "execution_count": 9,
      "outputs": [
        {
          "output_type": "stream",
          "text": [
            "6966\n"
          ],
          "name": "stdout"
        }
      ]
    },
    {
      "cell_type": "code",
      "metadata": {
        "id": "0lBphp0ON5io",
        "colab_type": "code",
        "outputId": "10522e16-da04-4218-d4b2-c3603ddec829",
        "colab": {
          "base_uri": "https://localhost:8080/",
          "height": 34
        }
      },
      "source": [
        "reference_words_article = data['text'].iloc[6300]\n",
        "count_reference_words = len(reference_words_article.split())\n",
        "print('Number of words in a 80th percentile article: ' + str(count_reference_words))"
      ],
      "execution_count": 10,
      "outputs": [
        {
          "output_type": "stream",
          "text": [
            "Number of words in a 80th percentile article: 1116\n"
          ],
          "name": "stdout"
        }
      ]
    },
    {
      "cell_type": "markdown",
      "metadata": {
        "id": "HAXgIbNkOByr",
        "colab_type": "text"
      },
      "source": [
        "80% of the articles in our sample have less than 7000 characters, that, in this case, correspond to 1100 words circa. \n",
        "This figure seems to be a good reference to determine the number of maximum features when tokenizing."
      ]
    },
    {
      "cell_type": "code",
      "metadata": {
        "id": "9mz3XZZqB46M",
        "colab_type": "code",
        "colab": {
          "base_uri": "https://localhost:8080/",
          "height": 235
        },
        "outputId": "83a10878-4ad9-4da1-9b96-3f0b969431ae"
      },
      "source": [
        "shuffled_data = shuffle(data)\n",
        "shuffled_data.head()"
      ],
      "execution_count": 15,
      "outputs": [
        {
          "output_type": "execute_result",
          "data": {
            "text/html": [
              "<div>\n",
              "<style scoped>\n",
              "    .dataframe tbody tr th:only-of-type {\n",
              "        vertical-align: middle;\n",
              "    }\n",
              "\n",
              "    .dataframe tbody tr th {\n",
              "        vertical-align: top;\n",
              "    }\n",
              "\n",
              "    .dataframe thead th {\n",
              "        text-align: right;\n",
              "    }\n",
              "</style>\n",
              "<table border=\"1\" class=\"dataframe\">\n",
              "  <thead>\n",
              "    <tr style=\"text-align: right;\">\n",
              "      <th></th>\n",
              "      <th>title</th>\n",
              "      <th>author</th>\n",
              "      <th>text</th>\n",
              "      <th>label</th>\n",
              "    </tr>\n",
              "    <tr>\n",
              "      <th>id</th>\n",
              "      <th></th>\n",
              "      <th></th>\n",
              "      <th></th>\n",
              "      <th></th>\n",
              "    </tr>\n",
              "  </thead>\n",
              "  <tbody>\n",
              "    <tr>\n",
              "      <th>5422</th>\n",
              "      <td>Leon Russell, Hit Maker and Musicians’ Musicia...</td>\n",
              "      <td>Jon Pareles</td>\n",
              "      <td>Leon Russell, the longhaired,   pianist, guita...</td>\n",
              "      <td>0</td>\n",
              "    </tr>\n",
              "    <tr>\n",
              "      <th>16525</th>\n",
              "      <td>Six Things Betsy DeVos Can Do to Show She Is ‘...</td>\n",
              "      <td>Dr. Susan Berry</td>\n",
              "      <td>Betsy DeVos announced upon her nomination as U...</td>\n",
              "      <td>0</td>\n",
              "    </tr>\n",
              "    <tr>\n",
              "      <th>6783</th>\n",
              "      <td>Jury Secrecy Doesn’t Apply if Bias Taints Deli...</td>\n",
              "      <td>Adam Liptak</td>\n",
              "      <td>WASHINGTON  —   The Supreme Court ruled on Mon...</td>\n",
              "      <td>0</td>\n",
              "    </tr>\n",
              "    <tr>\n",
              "      <th>12585</th>\n",
              "      <td>Kerry Meets Egypt’s Leader, and Where Are Repo...</td>\n",
              "      <td>David E. Sanger</td>\n",
              "      <td>Times Insider delivers    insights into how ne...</td>\n",
              "      <td>0</td>\n",
              "    </tr>\n",
              "    <tr>\n",
              "      <th>6274</th>\n",
              "      <td>Obama Not Going To Bother Fixing White House T...</td>\n",
              "      <td>Gerry McBride</td>\n",
              "      <td>0 Add Comment \\n“IT’S not like I’m getting my ...</td>\n",
              "      <td>1</td>\n",
              "    </tr>\n",
              "  </tbody>\n",
              "</table>\n",
              "</div>"
            ],
            "text/plain": [
              "                                                   title  ... label\n",
              "id                                                        ...      \n",
              "5422   Leon Russell, Hit Maker and Musicians’ Musicia...  ...     0\n",
              "16525  Six Things Betsy DeVos Can Do to Show She Is ‘...  ...     0\n",
              "6783   Jury Secrecy Doesn’t Apply if Bias Taints Deli...  ...     0\n",
              "12585  Kerry Meets Egypt’s Leader, and Where Are Repo...  ...     0\n",
              "6274   Obama Not Going To Bother Fixing White House T...  ...     1\n",
              "\n",
              "[5 rows x 4 columns]"
            ]
          },
          "metadata": {
            "tags": []
          },
          "execution_count": 15
        }
      ]
    },
    {
      "cell_type": "code",
      "metadata": {
        "id": "Td8SSpPGCzNh",
        "colab_type": "code",
        "colab": {
          "base_uri": "https://localhost:8080/",
          "height": 442
        },
        "outputId": "23eacecb-c9fd-4332-ace7-00efda4ab216"
      },
      "source": [
        "data_train = shuffled_data[int(len(shuffled_data)*0.2):]\n",
        "data_test = shuffled_data[:int(len(shuffled_data)*0.2)]\n",
        "display(data_train.info())\n",
        "print('\\n')\n",
        "data_test.info()"
      ],
      "execution_count": 21,
      "outputs": [
        {
          "output_type": "stream",
          "text": [
            "<class 'pandas.core.frame.DataFrame'>\n",
            "Int64Index: 16609 entries, 1452 to 6840\n",
            "Data columns (total 4 columns):\n",
            " #   Column  Non-Null Count  Dtype \n",
            "---  ------  --------------  ----- \n",
            " 0   title   16609 non-null  object\n",
            " 1   author  16609 non-null  object\n",
            " 2   text    16609 non-null  object\n",
            " 3   label   16609 non-null  int64 \n",
            "dtypes: int64(1), object(3)\n",
            "memory usage: 648.8+ KB\n"
          ],
          "name": "stdout"
        },
        {
          "output_type": "display_data",
          "data": {
            "text/plain": [
              "None"
            ]
          },
          "metadata": {
            "tags": []
          }
        },
        {
          "output_type": "stream",
          "text": [
            "\n",
            "\n",
            "<class 'pandas.core.frame.DataFrame'>\n",
            "Int64Index: 4152 entries, 5422 to 11051\n",
            "Data columns (total 4 columns):\n",
            " #   Column  Non-Null Count  Dtype \n",
            "---  ------  --------------  ----- \n",
            " 0   title   4152 non-null   object\n",
            " 1   author  4152 non-null   object\n",
            " 2   text    4152 non-null   object\n",
            " 3   label   4152 non-null   int64 \n",
            "dtypes: int64(1), object(3)\n",
            "memory usage: 162.2+ KB\n"
          ],
          "name": "stdout"
        }
      ]
    },
    {
      "cell_type": "code",
      "metadata": {
        "id": "Dgfg28p_OLPq",
        "colab_type": "code",
        "colab": {}
      },
      "source": [
        "tokenizer = Tokenizer(num_words = count_reference_words, lower = True)\n",
        "tokenizer.fit_on_texts(texts = data_train['text'])\n",
        "X_train = tokenizer.texts_to_sequences(texts = data_train['text'])\n",
        "X_train = pad_sequences(sequences = X_train, maxlen = count_reference_words, padding = 'post', truncating='post')\n",
        "X_test = tokenizer.texts_to_sequences(texts=data_test['text'])\n",
        "X_test = pad_sequences(sequences = X_test, maxlen=count_reference_words, padding='post', truncating='post')"
      ],
      "execution_count": 0,
      "outputs": []
    },
    {
      "cell_type": "code",
      "metadata": {
        "id": "lEcKsGHrON_k",
        "colab_type": "code",
        "outputId": "88313ac8-78cc-419b-9269-0c8ba871e275",
        "colab": {
          "base_uri": "https://localhost:8080/",
          "height": 51
        }
      },
      "source": [
        "print(X_train.shape)\n",
        "X_test.shape"
      ],
      "execution_count": 25,
      "outputs": [
        {
          "output_type": "stream",
          "text": [
            "(16609, 1116)\n"
          ],
          "name": "stdout"
        },
        {
          "output_type": "execute_result",
          "data": {
            "text/plain": [
              "(4152, 1116)"
            ]
          },
          "metadata": {
            "tags": []
          },
          "execution_count": 25
        }
      ]
    },
    {
      "cell_type": "code",
      "metadata": {
        "id": "JM2fR_F5OPxt",
        "colab_type": "code",
        "outputId": "51cb1a74-8210-4def-a62b-e5233e3d1b43",
        "colab": {
          "base_uri": "https://localhost:8080/",
          "height": 68
        }
      },
      "source": [
        "y_train = data_train['label'].values\n",
        "y_test = data_test['label'].values\n",
        "display(y_train.shape)\n",
        "fake_ratio = sum(y_train)/len(y_train)\n",
        "print('\\nAccuracy when always guessing -Fake News- : ' + str(round(fake_ratio, 4)))"
      ],
      "execution_count": 26,
      "outputs": [
        {
          "output_type": "display_data",
          "data": {
            "text/plain": [
              "(16609,)"
            ]
          },
          "metadata": {
            "tags": []
          }
        },
        {
          "output_type": "stream",
          "text": [
            "\n",
            "Accuracy when always guessing -Fake News- : 0.4977\n"
          ],
          "name": "stdout"
        }
      ]
    },
    {
      "cell_type": "code",
      "metadata": {
        "id": "oZxyW5kiOS_M",
        "colab_type": "code",
        "colab": {
          "base_uri": "https://localhost:8080/",
          "height": 561
        },
        "outputId": "a05f03a7-c545-4caa-d1c9-6b2ab987761c"
      },
      "source": [
        "model = tf.keras.Sequential([\n",
        "    tf.keras.layers.Embedding(count_reference_words, 256, name='Embedding'),\n",
        "    tf.keras.layers.Dense(128, activation='relu', name='First_Dense'),\n",
        "    tf.keras.layers.Conv1D(128, 5, activation='relu', name='Convolutional'),\n",
        "    tf.keras.layers.MaxPooling1D(pool_size=4, name='MaxPooling'),\n",
        "    tf.keras.layers.Dropout(0.25, name='First_Dropout'),\n",
        "    tf.keras.layers.Dense(64, name='Second_Dense'),\n",
        "    tf.keras.layers.Bidirectional(tf.keras.layers.LSTM(64,  return_sequences=True), name='First_LSTM'),\n",
        "    tf.keras.layers.Bidirectional(tf.keras.layers.LSTM(32), name='Second_LSTM'),\n",
        "    tf.keras.layers.Dense(32, activation='relu', name='Third_Dense'),\n",
        "    tf.keras.layers.Dropout(0.2, name='Second_Dropout'),\n",
        "    tf.keras.layers.Dense(16, activation='relu', name='Fourth_Dense'),\n",
        "    tf.keras.layers.Dense(1, activation='sigmoid', name='Final_Layer')\n",
        "], name='LSTM_Neural_Network')\n",
        "\n",
        "model.summary()"
      ],
      "execution_count": 28,
      "outputs": [
        {
          "output_type": "stream",
          "text": [
            "Model: \"LSTM_Neural_Network\"\n",
            "_________________________________________________________________\n",
            "Layer (type)                 Output Shape              Param #   \n",
            "=================================================================\n",
            "Embedding (Embedding)        (None, None, 256)         285696    \n",
            "_________________________________________________________________\n",
            "First_Dense (Dense)          (None, None, 128)         32896     \n",
            "_________________________________________________________________\n",
            "Convolutional (Conv1D)       (None, None, 128)         82048     \n",
            "_________________________________________________________________\n",
            "MaxPooling (MaxPooling1D)    (None, None, 128)         0         \n",
            "_________________________________________________________________\n",
            "First_Dropout (Dropout)      (None, None, 128)         0         \n",
            "_________________________________________________________________\n",
            "Second_Dense (Dense)         (None, None, 64)          8256      \n",
            "_________________________________________________________________\n",
            "First_LSTM (Bidirectional)   (None, None, 128)         66048     \n",
            "_________________________________________________________________\n",
            "Second_LSTM (Bidirectional)  (None, 64)                41216     \n",
            "_________________________________________________________________\n",
            "Third_Dense (Dense)          (None, 32)                2080      \n",
            "_________________________________________________________________\n",
            "Second_Dropout (Dropout)     (None, 32)                0         \n",
            "_________________________________________________________________\n",
            "Fourth_Dense (Dense)         (None, 16)                528       \n",
            "_________________________________________________________________\n",
            "Final_Layer (Dense)          (None, 1)                 17        \n",
            "=================================================================\n",
            "Total params: 518,785\n",
            "Trainable params: 518,785\n",
            "Non-trainable params: 0\n",
            "_________________________________________________________________\n"
          ],
          "name": "stdout"
        }
      ]
    },
    {
      "cell_type": "code",
      "metadata": {
        "id": "CKnMQJ-KGicZ",
        "colab_type": "code",
        "colab": {
          "base_uri": "https://localhost:8080/",
          "height": 1000
        },
        "outputId": "f0d67e19-c3e8-421a-da7f-2e431676c37e"
      },
      "source": [
        "plot_model(model, show_shapes=True, show_layer_names=True)"
      ],
      "execution_count": 36,
      "outputs": [
        {
          "output_type": "execute_result",
          "data": {
            "image/png": "[encoded data removed]",
            "text/plain": [
              "<IPython.core.display.Image object>"
            ]
          },
          "metadata": {
            "tags": []
          },
          "execution_count": 36
        }
      ]
    },
    {
      "cell_type": "code",
      "metadata": {
        "id": "xfuDR0B5OVU_",
        "colab_type": "code",
        "colab": {}
      },
      "source": [
        "model.compile(loss='binary_crossentropy',optimizer='adam',metrics=['accuracy'])"
      ],
      "execution_count": 0,
      "outputs": []
    },
    {
      "cell_type": "code",
      "metadata": {
        "id": "4V2Bx6DTOXow",
        "colab_type": "code",
        "outputId": "435ee169-84b6-4970-d7d9-fd65a34eda37",
        "colab": {
          "base_uri": "https://localhost:8080/",
          "height": 187
        }
      },
      "source": [
        "#Validation split set to 0.25 in order to have the following final split: 60% train, 20% validation and 20% test set.\n",
        "history = model.fit(X_train, y_train, epochs=5, batch_size=128, verbose=2, shuffle=True, validation_split=0.25)"
      ],
      "execution_count": 38,
      "outputs": [
        {
          "output_type": "stream",
          "text": [
            "Epoch 1/5\n",
            "98/98 - 326s - loss: 0.3701 - accuracy: 0.8120 - val_loss: 0.1878 - val_accuracy: 0.9239\n",
            "Epoch 2/5\n",
            "98/98 - 331s - loss: 0.1371 - accuracy: 0.9501 - val_loss: 0.1216 - val_accuracy: 0.9569\n",
            "Epoch 3/5\n",
            "98/98 - 327s - loss: 0.1087 - accuracy: 0.9597 - val_loss: 0.1230 - val_accuracy: 0.9545\n",
            "Epoch 4/5\n",
            "98/98 - 331s - loss: 0.0685 - accuracy: 0.9758 - val_loss: 0.1521 - val_accuracy: 0.9540\n",
            "Epoch 5/5\n",
            "98/98 - 327s - loss: 0.0685 - accuracy: 0.9760 - val_loss: 0.1196 - val_accuracy: 0.9588\n"
          ],
          "name": "stdout"
        }
      ]
    },
    {
      "cell_type": "code",
      "metadata": {
        "id": "R0tmsBzKgCQ9",
        "colab_type": "code",
        "outputId": "aeeb8af9-3a7f-4440-81b4-292eea10fe9e",
        "colab": {
          "base_uri": "https://localhost:8080/",
          "height": 295
        }
      },
      "source": [
        "plt.plot(history.history['accuracy'], marker='D')\n",
        "plt.plot(history.history['val_accuracy'], marker='o')\n",
        "plt.ylabel('Accuracy')\n",
        "plt.xlabel('Epochs')\n",
        "plt.legend(['Train','Validation'])\n",
        "plt.xticks(np.arange(0, 5, step=1), np.arange(1,6,step=1))\n",
        "plt.title('Accuracy in training and validation set')\n",
        "plt.grid(linestyle='--')\n",
        "plt.savefig('accuracy.png')\n",
        "plt.show()"
      ],
      "execution_count": 39,
      "outputs": [
        {
          "output_type": "display_data",
          "data": {
            "image/png": "[encoded data removed]",
            "text/plain": [
              "<Figure size 432x288 with 1 Axes>"
            ]
          },
          "metadata": {
            "tags": [],
            "needs_background": "light"
          }
        }
      ]
    },
    {
      "cell_type": "code",
      "metadata": {
        "id": "Kj-zgLdfODzR",
        "colab_type": "code",
        "colab": {
          "base_uri": "https://localhost:8080/",
          "height": 34
        },
        "outputId": "1ffa1407-d807-425a-9e71-d10567e7d8b3"
      },
      "source": [
        "text_evaluation = model.evaluate(X_test, y_test, verbose=1, batch_size=128)"
      ],
      "execution_count": 69,
      "outputs": [
        {
          "output_type": "stream",
          "text": [
            "33/33 [==============================] - 28s 840ms/step - loss: 0.1094 - accuracy: 0.9651\n"
          ],
          "name": "stdout"
        }
      ]
    },
    {
      "cell_type": "code",
      "metadata": {
        "id": "7N_i5Ll9p2Ji",
        "colab_type": "code",
        "colab": {}
      },
      "source": [
        "titleTokenizer = Tokenizer(num_words=300, lower=True)\n",
        "titleTokenizer.fit_on_texts(texts=data_train['title'])\n",
        "tX_train = titleTokenizer.texts_to_sequences(texts=data_train['title'])\n",
        "tX_train = pad_sequences(sequences = tX_train, maxlen = 200, padding = 'post', truncating='post')\n",
        "tX_test = titleTokenizer.texts_to_sequences(texts=data_test['title'])\n",
        "tX_test = pad_sequences(sequences=tX_test, maxlen = 200, padding = 'post', truncating='post')"
      ],
      "execution_count": 0,
      "outputs": []
    },
    {
      "cell_type": "code",
      "metadata": {
        "id": "BsebFWNkdMZX",
        "colab_type": "code",
        "outputId": "a7422951-729a-4169-a877-55715f1abc0a",
        "colab": {
          "base_uri": "https://localhost:8080/",
          "height": 527
        }
      },
      "source": [
        "titleModel = tf.keras.models.Sequential([\n",
        "            tf.keras.layers.Embedding(300, 128, name='Embedding'),\n",
        "            tf.keras.layers.Dense(128, activation='relu', name='First_Dense'),\n",
        "            tf.keras.layers.Conv1D(128, 3, activation='relu', name='Convolution'),\n",
        "            tf.keras.layers.MaxPooling1D(4, name='MaxPooling'),\n",
        "            tf.keras.layers.Dropout(0.2, name='Dropout'),\n",
        "            tf.keras.layers.Bidirectional(tf.keras.layers.LSTM(64, activation='relu', return_sequences=True), name='First_LSTM'),\n",
        "            tf.keras.layers.Bidirectional(tf.keras.layers.LSTM(32, activation='relu'), name='Second_LSTM'),\n",
        "            tf.keras.layers.Dense(16, activation='relu', name='Second_Dense'),\n",
        "            tf.keras.layers.Dropout(0.1),\n",
        "            tf.keras.layers.Dense(8, activation='relu', name='Third_Dense'),\n",
        "            tf.keras.layers.Dense(1, activation='sigmoid', name='Final_layer')\n",
        "], name='Titles_model')\n",
        "titleModel.summary()"
      ],
      "execution_count": 42,
      "outputs": [
        {
          "output_type": "stream",
          "text": [
            "Model: \"Titles_model\"\n",
            "_________________________________________________________________\n",
            "Layer (type)                 Output Shape              Param #   \n",
            "=================================================================\n",
            "Embedding (Embedding)        (None, None, 128)         38400     \n",
            "_________________________________________________________________\n",
            "First_Dense (Dense)          (None, None, 128)         16512     \n",
            "_________________________________________________________________\n",
            "Convolution (Conv1D)         (None, None, 128)         49280     \n",
            "_________________________________________________________________\n",
            "MaxPooling (MaxPooling1D)    (None, None, 128)         0         \n",
            "_________________________________________________________________\n",
            "Dropout (Dropout)            (None, None, 128)         0         \n",
            "_________________________________________________________________\n",
            "First_LSTM (Bidirectional)   (None, None, 128)         98816     \n",
            "_________________________________________________________________\n",
            "Second_LSTM (Bidirectional)  (None, 64)                41216     \n",
            "_________________________________________________________________\n",
            "Second_Dense (Dense)         (None, 16)                1040      \n",
            "_________________________________________________________________\n",
            "dropout (Dropout)            (None, 16)                0         \n",
            "_________________________________________________________________\n",
            "Third_Dense (Dense)          (None, 8)                 136       \n",
            "_________________________________________________________________\n",
            "Final_layer (Dense)          (None, 1)                 9         \n",
            "=================================================================\n",
            "Total params: 245,409\n",
            "Trainable params: 245,409\n",
            "Non-trainable params: 0\n",
            "_________________________________________________________________\n"
          ],
          "name": "stdout"
        }
      ]
    },
    {
      "cell_type": "code",
      "metadata": {
        "id": "2Ek8SbGYfxej",
        "colab_type": "code",
        "colab": {}
      },
      "source": [
        "titleModel.compile(loss='binary_crossentropy',optimizer='adam', metrics=['acc'])"
      ],
      "execution_count": 0,
      "outputs": []
    },
    {
      "cell_type": "code",
      "metadata": {
        "id": "NKqNznHFgeel",
        "colab_type": "code",
        "outputId": "042f2d9f-a60e-497d-dd24-e50132c5be25",
        "colab": {
          "base_uri": "https://localhost:8080/",
          "height": 187
        }
      },
      "source": [
        "#Once again, validation split set to 0.25 to achieve 60/20/20 for train/validation/test\n",
        "titleHist = titleModel.fit(tX_train,y_train,batch_size=64,epochs=5,verbose=2,validation_split=0.25)"
      ],
      "execution_count": 62,
      "outputs": [
        {
          "output_type": "stream",
          "text": [
            "Epoch 1/5\n",
            "195/195 - 53s - loss: 0.2261 - acc: 0.9143 - val_loss: 0.2160 - val_acc: 0.9242\n",
            "Epoch 2/5\n",
            "195/195 - 53s - loss: 0.2115 - acc: 0.9205 - val_loss: 0.2120 - val_acc: 0.9266\n",
            "Epoch 3/5\n",
            "195/195 - 53s - loss: 0.1998 - acc: 0.9229 - val_loss: 0.2135 - val_acc: 0.9229\n",
            "Epoch 4/5\n",
            "195/195 - 57s - loss: 0.1908 - acc: 0.9254 - val_loss: 0.2094 - val_acc: 0.9244\n",
            "Epoch 5/5\n",
            "195/195 - 53s - loss: 0.1827 - acc: 0.9285 - val_loss: 0.2139 - val_acc: 0.9222\n"
          ],
          "name": "stdout"
        }
      ]
    },
    {
      "cell_type": "code",
      "metadata": {
        "id": "B6ngtgLLPTk8",
        "colab_type": "code",
        "colab": {
          "base_uri": "https://localhost:8080/",
          "height": 34
        },
        "outputId": "05e19aeb-0082-4af3-ac91-01e5abdd8057"
      },
      "source": [
        "title_evaluation = titleModel.evaluate(tX_test, y_test, batch_size=64, verbose=1)"
      ],
      "execution_count": 63,
      "outputs": [
        {
          "output_type": "stream",
          "text": [
            "65/65 [==============================] - 4s 67ms/step - loss: 0.2067 - acc: 0.9220\n"
          ],
          "name": "stdout"
        }
      ]
    },
    {
      "cell_type": "code",
      "metadata": {
        "id": "10XbJG7ihndq",
        "colab_type": "code",
        "outputId": "9b29a45e-2c4f-4f69-8b85-a0bb502da034",
        "colab": {
          "base_uri": "https://localhost:8080/",
          "height": 308
        }
      },
      "source": [
        "fig, ax = plt.subplots(1, 2, figsize=(12, 4), sharey=True)\n",
        "fig.suptitle('Comparison of Text vs Title based models\\' accuracy')\n",
        "ax[0].set(xlabel='Epochs for Text', ylabel='Accuracy', title='Text')\n",
        "ax[1].set(xlabel='Epochs for Title', title='Title')\n",
        "ax[0].plot(history.history['accuracy'], marker='^')\n",
        "ax[0].plot(history.history['val_accuracy'], marker='o')\n",
        "ax[0].set_xticks(np.arange(0,5,step=1))\n",
        "ax[0].set_xticklabels(np.arange(1,6,step=1))\n",
        "ax[1].plot(titleHist.history['acc'], marker='^')\n",
        "ax[1].plot(titleHist.history['val_acc'], marker='o')\n",
        "ax[1].set_xticks(np.arange(0,5,step=1))\n",
        "ax[1].set_xticklabels(np.arange(1,6,step=1))\n",
        "ax[1].legend(['Train','Validation'])\n",
        "ax[0].grid(linestyle='--')\n",
        "ax[1].grid(linestyle='--')\n",
        "\n",
        "plt.show()"
      ],
      "execution_count": 185,
      "outputs": [
        {
          "output_type": "display_data",
          "data": {
            "image/png": "[encoded data removed]",
            "text/plain": [
              "<Figure size 864x288 with 2 Axes>"
            ]
          },
          "metadata": {
            "tags": [],
            "needs_background": "light"
          }
        }
      ]
    },
    {
      "cell_type": "code",
      "metadata": {
        "id": "jfr-feOgWj-w",
        "colab_type": "code",
        "colab": {
          "base_uri": "https://localhost:8080/",
          "height": 423
        },
        "outputId": "60c9e8d1-0438-48b2-bdae-6f66f9e5164c"
      },
      "source": [
        "eval_df = pd.DataFrame([text_evaluation[1], title_evaluation[1]], columns=['Test accuracy'], index=['Text','Title'])\n",
        "eval_df.plot(kind='barh')\n",
        "plt.xlim([0.5,1])\n",
        "plt.xlabel('Accuracy')\n",
        "plt.legend().remove()\n",
        "plt.title('Test accuracy: text vs title')\n",
        "plt.grid(linestyle='--')\n",
        "plt.show()\n",
        "print('\\n')\n",
        "display(eval_df)"
      ],
      "execution_count": 191,
      "outputs": [
        {
          "output_type": "display_data",
          "data": {
            "image/png": "[encoded data removed]",
            "text/plain": [
              "<Figure size 432x288 with 1 Axes>"
            ]
          },
          "metadata": {
            "tags": [],
            "needs_background": "light"
          }
        },
        {
          "output_type": "stream",
          "text": [
            "\n",
            "\n"
          ],
          "name": "stdout"
        },
        {
          "output_type": "display_data",
          "data": {
            "text/html": [
              "<div>\n",
              "<style scoped>\n",
              "    .dataframe tbody tr th:only-of-type {\n",
              "        vertical-align: middle;\n",
              "    }\n",
              "\n",
              "    .dataframe tbody tr th {\n",
              "        vertical-align: top;\n",
              "    }\n",
              "\n",
              "    .dataframe thead th {\n",
              "        text-align: right;\n",
              "    }\n",
              "</style>\n",
              "<table border=\"1\" class=\"dataframe\">\n",
              "  <thead>\n",
              "    <tr style=\"text-align: right;\">\n",
              "      <th></th>\n",
              "      <th>Test accuracy</th>\n",
              "    </tr>\n",
              "  </thead>\n",
              "  <tbody>\n",
              "    <tr>\n",
              "      <th>Text</th>\n",
              "      <td>0.965077</td>\n",
              "    </tr>\n",
              "    <tr>\n",
              "      <th>Title</th>\n",
              "      <td>0.921965</td>\n",
              "    </tr>\n",
              "  </tbody>\n",
              "</table>\n",
              "</div>"
            ],
            "text/plain": [
              "       Test accuracy\n",
              "Text        0.965077\n",
              "Title       0.921965"
            ]
          },
          "metadata": {
            "tags": []
          }
        }
      ]
    },
    {
      "cell_type": "code",
      "metadata": {
        "id": "5B534G9fYfGQ",
        "colab_type": "code",
        "colab": {}
      },
      "source": [
        ""
      ],
      "execution_count": 0,
      "outputs": []
    }
  ]
}